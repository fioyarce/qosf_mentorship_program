{
 "cells": [
  {
   "cell_type": "code",
   "execution_count": 1,
   "metadata": {},
   "outputs": [],
   "source": [
    "import pennylane as qml\n",
    "from pennylane import numpy as np\n",
    "from qiskit import QuantumCircuit, QuantumRegister, ClassicalRegister, execute, BasicAer, IBMQ\n",
    "from qiskit.visualization import plot_histogram, plot_bloch_multivector\n",
    "from qiskit.quantum_info import random_statevector"
   ]
  },
  {
   "cell_type": "code",
   "execution_count": 2,
   "metadata": {},
   "outputs": [],
   "source": [
    "def even_block():\n",
    "    #set of 4 initial Rz gates and then a combination of Cz gates (two-qubit gate)\n",
    "    pass\n",
    "\n",
    "def odd_block(): \n",
    "    \n",
    "    #set of 4 Rx gates applied to each qubit\n",
    "    pass\n",
    "    \n",
    "def layer_block():\n",
    "    \n",
    "    #an even block + odd block -> one layer\n",
    "    pass"
   ]
  },
  {
   "cell_type": "code",
   "execution_count": 3,
   "metadata": {},
   "outputs": [],
   "source": [
    "#qiskit even block\n",
    "def even_block(qc):\n",
    "    \n",
    "    for i in range(4):\n",
    "        qc.rz(np.pi/2,i) #this must be a parametrized circuit 4 four different angles, e.g theta[i]\n",
    "    \n",
    "    tuples = [(i,j) for i in range(4) for j in range(4) if i < j]\n",
    "\n",
    "    for tup in tuples:\n",
    "        qc.cz(tup[0], tup[1])"
   ]
  },
  {
   "cell_type": "code",
   "execution_count": 4,
   "metadata": {},
   "outputs": [],
   "source": [
    "#qiskit  odd block\n",
    "def odd_block(qc):\n",
    "    \n",
    "    for i in range(4):\n",
    "        qc.rx(np.pi/2, i)"
   ]
  },
  {
   "cell_type": "code",
   "execution_count": 5,
   "metadata": {},
   "outputs": [],
   "source": [
    "def layer(qc):\n",
    "    \n",
    "    odd_block(qc)\n",
    "    even_block(qc)\n",
    "    qc.barrier()"
   ]
  },
  {
   "cell_type": "code",
   "execution_count": 6,
   "metadata": {},
   "outputs": [],
   "source": [
    "def built_circuit(number_layers):\n",
    "    \n",
    "    qc = QuantumCircuit(4)\n",
    "    for i in range(number_layers):\n",
    "        layer(qc)\n",
    "    return qc"
   ]
  },
  {
   "cell_type": "code",
   "execution_count": 7,
   "metadata": {},
   "outputs": [
    {
     "data": {
      "image/png": "[encoded data removed]",
      "text/plain": [
       "<Figure size 682.577x264.88 with 1 Axes>"
      ]
     },
     "execution_count": 7,
     "metadata": {},
     "output_type": "execute_result"
    }
   ],
   "source": [
    "qc = built_circuit(1)\n",
    "\n",
    "qc.draw(output='mpl')"
   ]
  },
  {
   "cell_type": "code",
   "execution_count": 8,
   "metadata": {},
   "outputs": [
    {
     "data": {
      "text/plain": [
       "Statevector([ 0.30719863-0.37807185j, -0.28356911-0.82600196j],\n",
       "            dims=(2,))"
      ]
     },
     "execution_count": 8,
     "metadata": {},
     "output_type": "execute_result"
    }
   ],
   "source": [
    "random_statevector(2, seed = 42)"
   ]
  },
  {
   "cell_type": "markdown",
   "metadata": {},
   "source": [
    "## Simple example - Optimize the circuit for creating a Bell state"
   ]
  },
  {
   "cell_type": "code",
   "execution_count": 9,
   "metadata": {},
   "outputs": [
    {
     "data": {
      "text/html": [
       "<pre style=\"word-wrap: normal;white-space: pre;background: #fff0;line-height: 1.1;font-family: &quot;Courier New&quot;,Courier,monospace\">      ┌───┐     ┌─┐   \n",
       "q0_0: ┤ H ├──■──┤M├───\n",
       "      └───┘┌─┴─┐└╥┘┌─┐\n",
       "q0_1: ─────┤ X ├─╫─┤M├\n",
       "           └───┘ ║ └╥┘\n",
       "c0: 2/═══════════╩══╩═\n",
       "                 0  1 </pre>"
      ],
      "text/plain": [
       "      ┌───┐     ┌─┐   \n",
       "q0_0: ┤ H ├──■──┤M├───\n",
       "      └───┘┌─┴─┐└╥┘┌─┐\n",
       "q0_1: ─────┤ X ├─╫─┤M├\n",
       "           └───┘ ║ └╥┘\n",
       "c0: 2/═══════════╩══╩═\n",
       "                 0  1 "
      ]
     },
     "execution_count": 9,
     "metadata": {},
     "output_type": "execute_result"
    }
   ],
   "source": [
    "#trivial solution\n",
    "qr = QuantumRegister(2)\n",
    "cr = ClassicalRegister(2)\n",
    "qc = QuantumCircuit(qr, cr)\n",
    "qc.h(0) # Put qubit a into state |+>\n",
    "qc.cx(0,1) # CNOT with a as control and b as target\n",
    "qc.measure(0,0)\n",
    "qc.measure(1,1)\n",
    "qc.draw()"
   ]
  },
  {
   "cell_type": "code",
   "execution_count": 10,
   "metadata": {},
   "outputs": [
    {
     "data": {
      "image/png": "[encoded data removed]",
      "text/plain": [
       "<Figure size 504x360 with 1 Axes>"
      ]
     },
     "execution_count": 10,
     "metadata": {},
     "output_type": "execute_result"
    }
   ],
   "source": [
    "backend = BasicAer.get_backend('qasm_simulator')\n",
    "counts = execute(qc, backend, shots=1024).result().get_counts()\n",
    "plot_histogram(counts)"
   ]
  },
  {
   "cell_type": "code",
   "execution_count": 11,
   "metadata": {},
   "outputs": [
    {
     "data": {
      "text/plain": [
       "QubitStateVector(tensor([], dtype=float64, requires_grad=True), wires=[1])"
      ]
     },
     "execution_count": 11,
     "metadata": {},
     "output_type": "execute_result"
    }
   ],
   "source": [
    "dev = qml.device('default.qubit', wires = 2)\n",
    "qml.QubitStateVector(np.array([]), wires = 1)"
   ]
  },
  {
   "cell_type": "code",
   "execution_count": 12,
   "metadata": {},
   "outputs": [],
   "source": [
    "@qml.qnode(dev)\n",
    "def circuit(params):\n",
    "    A = np.array([[ 0.5, 0.5],\n",
    "           [ 0.5,  0.5]])\n",
    "    qml.U3(params[0], params[1], params[2], wires = 0)\n",
    "    \n",
    "    return qml.expval(qml.Hermitian(A, wires = 0))"
   ]
  },
  {
   "cell_type": "code",
   "execution_count": 13,
   "metadata": {},
   "outputs": [
    {
     "data": {
      "text/plain": [
       "0.9999999999999996"
      ]
     },
     "execution_count": 13,
     "metadata": {},
     "output_type": "execute_result"
    }
   ],
   "source": [
    "params = [np.pi*0.5, 0, 0.3]\n",
    "a = circuit(params)\n",
    "a"
   ]
  },
  {
   "cell_type": "code",
   "execution_count": 14,
   "metadata": {},
   "outputs": [],
   "source": [
    "def cost(x):\n",
    "    \n",
    "    return (1.0 - circuit(x))"
   ]
  },
  {
   "cell_type": "code",
   "execution_count": 15,
   "metadata": {},
   "outputs": [
    {
     "data": {
      "text/plain": [
       "0.17789115638115482"
      ]
     },
     "execution_count": 15,
     "metadata": {},
     "output_type": "execute_result"
    }
   ],
   "source": [
    "init_params = np.array([0.7, 0, 0.3])\n",
    "cost(init_params)"
   ]
  },
  {
   "cell_type": "code",
   "execution_count": 16,
   "metadata": {},
   "outputs": [],
   "source": [
    "opt = qml.GradientDescentOptimizer(stepsize = 0.4)\n",
    "\n",
    "steps = 100\n",
    "\n",
    "params = init_params"
   ]
  },
  {
   "cell_type": "code",
   "execution_count": 17,
   "metadata": {},
   "outputs": [
    {
     "name": "stdout",
     "output_type": "stream",
     "text": [
      "[1.57079633 0.         0.3       ]\n"
     ]
    }
   ],
   "source": [
    "for i in range(steps):\n",
    "    \n",
    "    params = opt.step(cost, params)\n",
    "    \n",
    "print(params)"
   ]
  },
  {
   "cell_type": "code",
   "execution_count": 18,
   "metadata": {},
   "outputs": [
    {
     "data": {
      "text/plain": [
       "4.440892098500626e-16"
      ]
     },
     "execution_count": 18,
     "metadata": {},
     "output_type": "execute_result"
    }
   ],
   "source": [
    "cost(params)"
   ]
  },
  {
   "cell_type": "code",
   "execution_count": 19,
   "metadata": {},
   "outputs": [
    {
     "data": {
      "text/plain": [
       "tensor([0.12995812+0.64492225j, 0.84720237+0.2679809j ], requires_grad=True)"
      ]
     },
     "execution_count": 19,
     "metadata": {},
     "output_type": "execute_result"
    }
   ],
   "source": [
    "Z = np.random.random(2) + np.random.random(2) * 1j\n",
    "Z"
   ]
  },
  {
   "cell_type": "code",
   "execution_count": 20,
   "metadata": {},
   "outputs": [],
   "source": [
    "def norm_vect(vect):\n",
    "    #define the norm of a complex vector here\n",
    "    pass"
   ]
  },
  {
   "cell_type": "code",
   "execution_count": 21,
   "metadata": {},
   "outputs": [
    {
     "name": "stdout",
     "output_type": "stream",
     "text": [
      "(0.12995812306912757+0.6449222509931533j)\n"
     ]
    }
   ],
   "source": [
    "print(Z[0])"
   ]
  },
  {
   "cell_type": "code",
   "execution_count": 22,
   "metadata": {},
   "outputs": [],
   "source": [
    "#the main idea here is to define the observable "
   ]
  },
  {
   "cell_type": "markdown",
   "metadata": {},
   "source": [
    "$|\\psi\\rangle \\rightarrow |\\psi\\rangle \\langle \\psi |$"
   ]
  },
  {
   "cell_type": "code",
   "execution_count": 23,
   "metadata": {},
   "outputs": [],
   "source": [
    "target_distr = np.random.rand(2)\n",
    "target_distr /= sum(target_distr)"
   ]
  },
  {
   "cell_type": "code",
   "execution_count": 24,
   "metadata": {},
   "outputs": [
    {
     "data": {
      "text/plain": [
       "tensor([0.43271895, 0.56728105], requires_grad=True)"
      ]
     },
     "execution_count": 24,
     "metadata": {},
     "output_type": "execute_result"
    }
   ],
   "source": [
    "target_distr"
   ]
  },
  {
   "cell_type": "code",
   "execution_count": 25,
   "metadata": {},
   "outputs": [],
   "source": [
    "target_distr = np.random.rand(2)\n",
    "# We now convert the random vector into a valid probability vector\n",
    "target_distr /= sum(target_distr)"
   ]
  },
  {
   "cell_type": "code",
   "execution_count": 26,
   "metadata": {},
   "outputs": [],
   "source": [
    "def get_var_form(params):\n",
    "    qr = QuantumRegister(1, name=\"q\")\n",
    "    cr = ClassicalRegister(1, name='c')\n",
    "    qc = QuantumCircuit(qr, cr)\n",
    "    qc.u3(params[0], params[1], params[2], qr[0])\n",
    "    qc.measure(qr, cr[0])\n",
    "    return qc"
   ]
  },
  {
   "cell_type": "code",
   "execution_count": 27,
   "metadata": {},
   "outputs": [],
   "source": [
    "from qiskit import Aer, execute\n",
    "backend = Aer.get_backend(\"qasm_simulator\")\n",
    "NUM_SHOTS = 10000\n",
    "\n",
    "def get_probability_distribution(counts):\n",
    "    output_distr = [v / NUM_SHOTS for v in counts.values()]\n",
    "    if len(output_distr) == 1:\n",
    "        output_distr.append(0)\n",
    "    return output_distr\n",
    "\n",
    "def objective_function(params):\n",
    "    # Obtain a quantum circuit instance from the paramters\n",
    "    qc = get_var_form(params)\n",
    "    # Execute the quantum circuit to obtain the probability distribution associated with the current parameters\n",
    "    result = execute(qc, backend, shots=NUM_SHOTS).result()\n",
    "    # Obtain the counts for each measured state, and convert those counts into a probability vector\n",
    "    output_distr = get_probability_distribution(result.get_counts(qc))\n",
    "    # Calculate the cost as the distance between the output distribution and the target distribution\n",
    "    cost = sum([np.absolute(output_distr[i] - target_distr[i]) for i in range(2)])\n",
    "    return cost"
   ]
  },
  {
   "cell_type": "code",
   "execution_count": 28,
   "metadata": {},
   "outputs": [
    {
     "name": "stdout",
     "output_type": "stream",
     "text": [
      "Target Distribution: [0.51653026 0.48346974]\n",
      "Obtained Distribution: [0.5113, 0.4887]\n",
      "Output Error (Manhattan Distance): 0.005939479237933087\n",
      "Parameters Found: [1.54455682 0.28462694 0.44771819]\n"
     ]
    }
   ],
   "source": [
    "from qiskit.aqua.components.optimizers import COBYLA\n",
    "\n",
    "# Initialize the COBYLA optimizer\n",
    "optimizer = COBYLA(maxiter=500, tol=0.0001)\n",
    "\n",
    "# Create the initial parameters (noting that our single qubit variational form has 3 parameters)\n",
    "params = np.random.rand(3)\n",
    "ret = optimizer.optimize(num_vars=3, objective_function=objective_function, initial_point=params)\n",
    "\n",
    "# Obtain the output distribution using the final parameters\n",
    "qc = get_var_form(ret[0])\n",
    "counts = execute(qc, backend, shots=NUM_SHOTS).result().get_counts(qc)\n",
    "output_distr = get_probability_distribution(counts)\n",
    "\n",
    "print(\"Target Distribution:\", target_distr)\n",
    "print(\"Obtained Distribution:\", output_distr)\n",
    "print(\"Output Error (Manhattan Distance):\", ret[1])\n",
    "print(\"Parameters Found:\", ret[0])"
   ]
  },
  {
   "cell_type": "code",
   "execution_count": 29,
   "metadata": {},
   "outputs": [
    {
     "data": {
      "text/plain": [
       "3.605551275463989"
      ]
     },
     "execution_count": 29,
     "metadata": {},
     "output_type": "execute_result"
    }
   ],
   "source": [
    "z = 3-2j\n",
    "np.absolute(z)"
   ]
  },
  {
   "cell_type": "code",
   "execution_count": 30,
   "metadata": {},
   "outputs": [
    {
     "data": {
      "text/plain": [
       "3.605551275463989"
      ]
     },
     "execution_count": 30,
     "metadata": {},
     "output_type": "execute_result"
    }
   ],
   "source": [
    "np.sqrt(13)"
   ]
  }
 ],
 "metadata": {
  "kernelspec": {
   "display_name": "Python 3",
   "language": "python",
   "name": "python3"
  },
  "language_info": {
   "codemirror_mode": {
    "name": "ipython",
    "version": 3
   },
   "file_extension": ".py",
   "mimetype": "text/x-python",
   "name": "python",
   "nbconvert_exporter": "python",
   "pygments_lexer": "ipython3",
   "version": "3.6.8"
  }
 },
 "nbformat": 4,
 "nbformat_minor": 4
}
