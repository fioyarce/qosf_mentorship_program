{
 "cells": [
  {
   "cell_type": "code",
   "execution_count": 1,
   "metadata": {},
   "outputs": [],
   "source": [
    "import pennylane as qml\n",
    "from pennylane import numpy as np\n",
    "from qiskit import QuantumCircuit, QuantumRegister, ClassicalRegister, execute, Aer, IBMQ\n",
    "from qiskit.visualization import plot_histogram, plot_bloch_multivector\n",
    "from qiskit.aqua.components.optimizers import COBYLA"
   ]
  },
  {
   "cell_type": "code",
   "execution_count": 2,
   "metadata": {},
   "outputs": [],
   "source": [
    "def even_block():\n",
    "    #set of 4 initial Rz gates and then a combination of Cz gates (two-qubit gate)\n",
    "    pass\n",
    "\n",
    "def odd_block(): \n",
    "    \n",
    "    #set of 4 Rx gates applied to each qubit\n",
    "    pass\n",
    "    \n",
    "def layer_block():\n",
    "    \n",
    "    #an even block + odd block -> one layer\n",
    "    pass"
   ]
  },
  {
   "cell_type": "code",
   "execution_count": 3,
   "metadata": {},
   "outputs": [],
   "source": [
    "#qiskit even block\n",
    "def even_block(qc):\n",
    "    \n",
    "    for i in range(4):\n",
    "        qc.rz(np.pi/2,i) #this must be a parametrized circuit 4 four different angles, e.g theta[i]\n",
    "    \n",
    "    tuples = [(i,j) for i in range(4) for j in range(4) if i < j]\n",
    "\n",
    "    for tup in tuples:\n",
    "        qc.cz(tup[0], tup[1])"
   ]
  },
  {
   "cell_type": "code",
   "execution_count": 4,
   "metadata": {},
   "outputs": [],
   "source": [
    "#qiskit  odd block\n",
    "def odd_block(qc):\n",
    "    \n",
    "    for i in range(4):\n",
    "        qc.rx(np.pi/2, i)"
   ]
  },
  {
   "cell_type": "code",
   "execution_count": 5,
   "metadata": {},
   "outputs": [],
   "source": [
    "def layer(qc):\n",
    "    \n",
    "    odd_block(qc)\n",
    "    even_block(qc)\n",
    "    qc.barrier()"
   ]
  },
  {
   "cell_type": "code",
   "execution_count": 6,
   "metadata": {},
   "outputs": [],
   "source": [
    "def built_circuit(number_layers):\n",
    "    \n",
    "    qc = QuantumCircuit(4)\n",
    "    for i in range(number_layers):\n",
    "        layer(qc)\n",
    "    return qc"
   ]
  },
  {
   "cell_type": "code",
   "execution_count": 7,
   "metadata": {},
   "outputs": [
    {
     "data": {
      "image/png": "[encoded data removed]",
      "text/plain": [
       "<Figure size 682.577x264.88 with 1 Axes>"
      ]
     },
     "execution_count": 7,
     "metadata": {},
     "output_type": "execute_result"
    }
   ],
   "source": [
    "qc = built_circuit(1)\n",
    "\n",
    "qc.draw(output='mpl')"
   ]
  },
  {
   "cell_type": "markdown",
   "metadata": {},
   "source": [
    "## Simple example - Optimize the circuit for creating a Bell state"
   ]
  },
  {
   "cell_type": "code",
   "execution_count": 8,
   "metadata": {},
   "outputs": [
    {
     "data": {
      "text/html": [
       "<pre style=\"word-wrap: normal;white-space: pre;background: #fff0;line-height: 1.1;font-family: &quot;Courier New&quot;,Courier,monospace\">      ┌───┐     ┌─┐   \n",
       "q0_0: ┤ H ├──■──┤M├───\n",
       "      └───┘┌─┴─┐└╥┘┌─┐\n",
       "q0_1: ─────┤ X ├─╫─┤M├\n",
       "           └───┘ ║ └╥┘\n",
       "c0: 2/═══════════╩══╩═\n",
       "                 0  1 </pre>"
      ],
      "text/plain": [
       "      ┌───┐     ┌─┐   \n",
       "q0_0: ┤ H ├──■──┤M├───\n",
       "      └───┘┌─┴─┐└╥┘┌─┐\n",
       "q0_1: ─────┤ X ├─╫─┤M├\n",
       "           └───┘ ║ └╥┘\n",
       "c0: 2/═══════════╩══╩═\n",
       "                 0  1 "
      ]
     },
     "execution_count": 8,
     "metadata": {},
     "output_type": "execute_result"
    }
   ],
   "source": [
    "#trivial solution\n",
    "qr = QuantumRegister(2)\n",
    "cr = ClassicalRegister(2)\n",
    "qc = QuantumCircuit(qr, cr)\n",
    "qc.h(0) # Put qubit a into state |+>\n",
    "qc.cx(0,1) # CNOT with a as control and b as target\n",
    "qc.measure(0,0)\n",
    "qc.measure(1,1)\n",
    "qc.draw()"
   ]
  },
  {
   "cell_type": "code",
   "execution_count": 9,
   "metadata": {},
   "outputs": [
    {
     "data": {
      "image/png": "[encoded data removed]",
      "text/plain": [
       "<Figure size 504x360 with 1 Axes>"
      ]
     },
     "execution_count": 9,
     "metadata": {},
     "output_type": "execute_result"
    }
   ],
   "source": [
    "backend = Aer.get_backend('qasm_simulator')\n",
    "counts = execute(qc, backend, shots=1024).result().get_counts()\n",
    "plot_histogram(counts)"
   ]
  },
  {
   "cell_type": "code",
   "execution_count": 10,
   "metadata": {},
   "outputs": [
    {
     "data": {
      "text/plain": [
       "QubitStateVector(tensor([], dtype=float64, requires_grad=True), wires=[1])"
      ]
     },
     "execution_count": 10,
     "metadata": {},
     "output_type": "execute_result"
    }
   ],
   "source": [
    "dev = qml.device('default.qubit', wires = 2)\n",
    "qml.QubitStateVector(np.array([]), wires = 1)"
   ]
  },
  {
   "cell_type": "code",
   "execution_count": 11,
   "metadata": {},
   "outputs": [],
   "source": [
    "@qml.qnode(dev)\n",
    "def circuit(params):\n",
    "    A = np.array([[ 0.5, 0.5],\n",
    "           [ 0.5,  0.5]])\n",
    "    qml.U3(params[0], params[1], params[2], wires = 0)\n",
    "    \n",
    "    return qml.expval(qml.Hermitian(A, wires = 0))"
   ]
  },
  {
   "cell_type": "code",
   "execution_count": 12,
   "metadata": {},
   "outputs": [
    {
     "data": {
      "text/plain": [
       "0.9999999999999996"
      ]
     },
     "execution_count": 12,
     "metadata": {},
     "output_type": "execute_result"
    }
   ],
   "source": [
    "params = [np.pi*0.5, 0, 0.3]\n",
    "a = circuit(params)\n",
    "a"
   ]
  },
  {
   "cell_type": "code",
   "execution_count": 13,
   "metadata": {},
   "outputs": [],
   "source": [
    "def cost(x):\n",
    "    \n",
    "    return (1.0 - circuit(x))"
   ]
  },
  {
   "cell_type": "code",
   "execution_count": 14,
   "metadata": {},
   "outputs": [
    {
     "data": {
      "text/plain": [
       "0.17789115638115482"
      ]
     },
     "execution_count": 14,
     "metadata": {},
     "output_type": "execute_result"
    }
   ],
   "source": [
    "init_params = np.array([0.7, 0, 0.3])\n",
    "cost(init_params)"
   ]
  },
  {
   "cell_type": "code",
   "execution_count": 15,
   "metadata": {},
   "outputs": [],
   "source": [
    "opt = qml.GradientDescentOptimizer(stepsize = 0.4)\n",
    "\n",
    "steps = 100\n",
    "\n",
    "params = init_params"
   ]
  },
  {
   "cell_type": "code",
   "execution_count": 16,
   "metadata": {},
   "outputs": [
    {
     "name": "stdout",
     "output_type": "stream",
     "text": [
      "[1.57079633 0.         0.3       ]\n"
     ]
    }
   ],
   "source": [
    "for i in range(steps):\n",
    "    \n",
    "    params = opt.step(cost, params)\n",
    "    \n",
    "print(params)"
   ]
  },
  {
   "cell_type": "code",
   "execution_count": 17,
   "metadata": {},
   "outputs": [
    {
     "data": {
      "text/plain": [
       "4.440892098500626e-16"
      ]
     },
     "execution_count": 17,
     "metadata": {},
     "output_type": "execute_result"
    }
   ],
   "source": [
    "cost(params)"
   ]
  },
  {
   "cell_type": "code",
   "execution_count": 18,
   "metadata": {},
   "outputs": [
    {
     "data": {
      "text/plain": [
       "(2,)"
      ]
     },
     "execution_count": 18,
     "metadata": {},
     "output_type": "execute_result"
    }
   ],
   "source": [
    "Z = np.random.random(2) + np.random.random(2) * 1j\n",
    "\n",
    "a = np.array([3, 4j])\n",
    "a.shape"
   ]
  },
  {
   "cell_type": "markdown",
   "metadata": {},
   "source": [
    "## Generating a proper random quantum state and its probability vector\n",
    "\n",
    "Explain some things here\n",
    "$|\\psi\\rangle \\rightarrow |\\psi\\rangle \\langle \\psi |$\n",
    "\n",
    "$|v| = \\sqrt{\\langle v| v \\rangle} = \\sqrt{v^{\\dagger}v}$"
   ]
  },
  {
   "cell_type": "code",
   "execution_count": 19,
   "metadata": {},
   "outputs": [],
   "source": [
    "def norm(complex_vector: np.array) -> float:\n",
    "    \"\"\"Returns the norm of a complex vector.\n",
    "    \n",
    "    Args:\n",
    "       complex_vector (np.arrray of shape (dim,)):\n",
    "           complex vector with an arbitrary dimension.\n",
    "           \n",
    "       \n",
    "    Returns:\n",
    "        norm (float): norm or magnitude of the complex vector.\n",
    "            \n",
    "    \"\"\"\n",
    "    \n",
    "    #define the norm of a complex vector here\n",
    "    norm = np.sqrt(sum([np.square(np.absolute(complex_vector[i])) for i in range(complex_vector.shape[0])]))\n",
    "    \n",
    "    return norm\n",
    "\n",
    "def random_quantum_state(dim: int) -> np.array:\n",
    "    \"\"\"Creates a normalized random complex vector of a defined\n",
    "    dimension.\n",
    "    \n",
    "    Args:\n",
    "        dim (int): integer number specifying the dimension\n",
    "            of the vector that we want to generate.\n",
    "            \n",
    "    Returns:\n",
    "        (np.array): normalized complex vector of the given\n",
    "            dimension.\n",
    "    \"\"\"\n",
    "    #generate an unnormalized complex vector of dimension = dim\n",
    "    Z = np.random.random(dim) + np.random.random(dim)*1j\n",
    "    \n",
    "    #normalize the complex vector Z\n",
    "    Z /= norm(Z)\n",
    "    \n",
    "    return Z\n",
    "\n",
    "def get_probabilities(complex_vector: np.array) -> np.array:\n",
    "    \"\"\"Get the probabilities associated to a quantum state.\n",
    "    This is a vector in which each element is the square of\n",
    "    the magnitude of respective complex number in that element.\n",
    "    \n",
    "    Args:\n",
    "        complex_vector (np.array):\n",
    "        \n",
    "    Retuns:\n",
    "        (np.array): \n",
    "    \"\"\"\n",
    "    \n",
    "    if 1.0 - norm(complex_vector) > 0.001:\n",
    "        print(\"Alert! The quantum state apparently is not normalized.\")\n",
    "        \n",
    "    else:\n",
    "        return np.square(np.absolute(complex_vector))"
   ]
  },
  {
   "cell_type": "code",
   "execution_count": 20,
   "metadata": {},
   "outputs": [],
   "source": [
    "#two qubits -> a complex vector of dimension 4\n",
    "n_qubits = 3\n",
    "dim = 2**(n_qubits)\n",
    "psi = random_quantum_state(dim)"
   ]
  },
  {
   "cell_type": "code",
   "execution_count": 21,
   "metadata": {},
   "outputs": [
    {
     "data": {
      "text/plain": [
       "tensor([0.16203708, 0.05533969, 0.03444953, 0.05393105, 0.22047664,\n",
       "        0.16728439, 0.28974991, 0.01673171], requires_grad=True)"
      ]
     },
     "execution_count": 21,
     "metadata": {},
     "output_type": "execute_result"
    }
   ],
   "source": [
    "get_probabilities(psi)"
   ]
  },
  {
   "cell_type": "code",
   "execution_count": 22,
   "metadata": {},
   "outputs": [],
   "source": [
    "n_qubits = 1\n",
    "dim = 2**(n_qubits)\n",
    "psi = random_quantum_state(dim)"
   ]
  },
  {
   "cell_type": "code",
   "execution_count": 23,
   "metadata": {},
   "outputs": [
    {
     "data": {
      "text/plain": [
       "tensor([0.44734718, 0.55265282], requires_grad=True)"
      ]
     },
     "execution_count": 23,
     "metadata": {},
     "output_type": "execute_result"
    }
   ],
   "source": [
    "target_distr = get_probabilities(psi)\n",
    "target_distr"
   ]
  },
  {
   "cell_type": "code",
   "execution_count": 24,
   "metadata": {},
   "outputs": [],
   "source": [
    "def get_var_form(params):\n",
    "    qr = QuantumRegister(1, name=\"q\")\n",
    "    cr = ClassicalRegister(1, name='c')\n",
    "    qc = QuantumCircuit(qr, cr)\n",
    "    qc.u3(params[0], params[1], params[2], qr[0])\n",
    "    qc.measure(qr, cr[0])\n",
    "    return qc"
   ]
  },
  {
   "cell_type": "code",
   "execution_count": 25,
   "metadata": {},
   "outputs": [],
   "source": [
    "backend = Aer.get_backend(\"qasm_simulator\")\n",
    "NUM_SHOTS = 10000\n",
    "\n",
    "def get_probability_distribution(counts):\n",
    "    output_distr = [v / NUM_SHOTS for v in counts.values()]\n",
    "    if len(output_distr) == 1:\n",
    "        output_distr.append(0)\n",
    "    return output_distr\n",
    "\n",
    "def objective_function(params):\n",
    "    # Obtain a quantum circuit instance from the paramters\n",
    "    qc = get_var_form(params)\n",
    "    # Execute the quantum circuit to obtain the probability distribution associated with the current parameters\n",
    "    result = execute(qc, backend, shots=NUM_SHOTS).result()\n",
    "    # Obtain the counts for each measured state, and convert those counts into a probability vector\n",
    "    output_distr = get_probability_distribution(result.get_counts(qc))\n",
    "    # Calculate the cost as the distance between the output distribution and the target distribution\n",
    "    cost = sum([np.absolute(output_distr[i] - target_distr[i]) for i in range(2)])\n",
    "    return cost"
   ]
  },
  {
   "cell_type": "code",
   "execution_count": 26,
   "metadata": {},
   "outputs": [
    {
     "name": "stdout",
     "output_type": "stream",
     "text": [
      "Target Distribution: [0.44734718 0.55265282]\n",
      "Obtained Distribution: [0.4482, 0.5518]\n",
      "Output Error (Manhattan Distance): 0.0075056419221881665\n",
      "Parameters Found: [1.68139988 1.4005434  0.88765003]\n"
     ]
    }
   ],
   "source": [
    "# Initialize the COBYLA optimizer\n",
    "optimizer = COBYLA(maxiter=500, tol=0.0001)\n",
    "\n",
    "# Create the initial parameters (noting that our single qubit variational form has 3 parameters)\n",
    "params = np.random.rand(3)\n",
    "ret = optimizer.optimize(num_vars=3, objective_function=objective_function, initial_point=params)\n",
    "\n",
    "# Obtain the output distribution using the final parameters\n",
    "qc = get_var_form(ret[0])\n",
    "counts = execute(qc, backend, shots=NUM_SHOTS).result().get_counts(qc)\n",
    "output_distr = get_probability_distribution(counts)\n",
    "\n",
    "print(\"Target Distribution:\", target_distr)\n",
    "print(\"Obtained Distribution:\", output_distr)\n",
    "print(\"Output Error (Manhattan Distance):\", ret[1])\n",
    "print(\"Parameters Found:\", ret[0])"
   ]
  },
  {
   "cell_type": "code",
   "execution_count": 27,
   "metadata": {},
   "outputs": [
    {
     "data": {
      "text/plain": [
       "3.605551275463989"
      ]
     },
     "execution_count": 27,
     "metadata": {},
     "output_type": "execute_result"
    }
   ],
   "source": [
    "z = 3-2j\n",
    "np.absolute(z)"
   ]
  },
  {
   "cell_type": "code",
   "execution_count": 28,
   "metadata": {},
   "outputs": [
    {
     "data": {
      "text/plain": [
       "169"
      ]
     },
     "execution_count": 28,
     "metadata": {},
     "output_type": "execute_result"
    }
   ],
   "source": [
    "np.square(13)"
   ]
  },
  {
   "cell_type": "markdown",
   "metadata": {},
   "source": [
    "## Building the variational quantum circuit"
   ]
  },
  {
   "cell_type": "code",
   "execution_count": 29,
   "metadata": {},
   "outputs": [],
   "source": [
    "def built_variational_circuit(number_layers: int, params: np.array) -> QuantumCircuit:\n",
    "    #how many parameters will have given the number_layers\n",
    "    n_parameters = 8*number_layers\n",
    "    \n",
    "    if params.shape[0] != n_parameters:\n",
    "        print(f\"Alert! You gave {params.shape[0]} parameters for a circuit of {n_parameters} parameters.\")\n",
    "        \n",
    "    else:\n",
    "        #create the circuit\n",
    "        qr = QuantumRegister(4, name=\"q\")\n",
    "        cr = ClassicalRegister(4, name=\"c\")\n",
    "        qc = QuantumCircuit(qr, cr)\n",
    "\n",
    "        #number of parameters per layer\n",
    "        n_parameters_per_layer = 8\n",
    "        for i in range(number_layers):\n",
    "            start = i*n_parameters_per_layer\n",
    "            end = (i+1)*n_parameters_per_layer \n",
    "            layer(qc, params[start:end])\n",
    "            \n",
    "        return qc\n",
    "    \n",
    "def layer(qc: QuantumCircuit, params: np.array) -> None:\n",
    "    \n",
    "    n_parameters = 8\n",
    "    \n",
    "    if params.shape[0] != n_parameters:\n",
    "        print(f\"Alert! You gave {params.shape[0]} parameters for a layer of {n_parameters} parameters.\")\n",
    "        \n",
    "    else:\n",
    "        odd_block(qc, params[:int(n_parameters/2)])\n",
    "        even_block(qc, params[int(n_parameters/2):])\n",
    "        qc.barrier()\n",
    "        \n",
    "#qiskit  odd block\n",
    "def odd_block(qc: QuantumCircuit, params: np.array) -> None:\n",
    "    \n",
    "    n_parameters = 4\n",
    "    \n",
    "    if params.shape[0] != n_parameters:\n",
    "        print(f\"Alert! You gave {params.shape[0]} parameters for a block of {n_parameters} parameters.\")\n",
    "        \n",
    "    else:\n",
    "    \n",
    "        for i in range(n_parameters):\n",
    "            qc.rx(params[i], i)\n",
    "        \n",
    "#qiskit even block\n",
    "def even_block(qc: QuantumCircuit, params: np.array) -> None:\n",
    "    \n",
    "    n_parameters = 4\n",
    "    \n",
    "    if params.shape[0] != n_parameters:\n",
    "        print(f\"Alert! You gave {params.shape[0]} parameters for a block of {n_parameters} parameters.\")\n",
    "        \n",
    "    else:\n",
    "    \n",
    "        for i in range(n_parameters):\n",
    "            qc.rz(params[i], i)\n",
    "\n",
    "        tuples = [(i,j) for i in range(n_parameters) for j in range(n_parameters) if i < j]\n",
    "\n",
    "        for tup in tuples:\n",
    "            qc.cz(tup[0], tup[1])"
   ]
  },
  {
   "cell_type": "code",
   "execution_count": 33,
   "metadata": {},
   "outputs": [],
   "source": [
    "n_parameters_per_layer = 8\n",
    "n_layers = 3\n",
    "params = np.random.rand(n_layers*n_parameters_per_layer)\n",
    "qc = built_variational_circuit(n_layers, params)"
   ]
  },
  {
   "cell_type": "code",
   "execution_count": 34,
   "metadata": {},
   "outputs": [
    {
     "data": {
      "image/png": "[encoded data removed]",
      "text/plain": [
       "<Figure size 1645.78x686.28 with 1 Axes>"
      ]
     },
     "execution_count": 34,
     "metadata": {},
     "output_type": "execute_result"
    }
   ],
   "source": [
    "qc.draw(output='mpl')"
   ]
  },
  {
   "cell_type": "code",
   "execution_count": null,
   "metadata": {},
   "outputs": [],
   "source": [
    "#backend = "
   ]
  }
 ],
 "metadata": {
  "kernelspec": {
   "display_name": "Python 3",
   "language": "python",
   "name": "python3"
  },
  "language_info": {
   "codemirror_mode": {
    "name": "ipython",
    "version": 3
   },
   "file_extension": ".py",
   "mimetype": "text/x-python",
   "name": "python",
   "nbconvert_exporter": "python",
   "pygments_lexer": "ipython3",
   "version": "3.6.8"
  }
 },
 "nbformat": 4,
 "nbformat_minor": 4
}
