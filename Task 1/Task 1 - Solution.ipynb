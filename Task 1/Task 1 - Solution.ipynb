{
 "cells": [
  {
   "cell_type": "code",
   "execution_count": 1,
   "metadata": {},
   "outputs": [],
   "source": [
    "import pennylane as qml\n",
    "from pennylane import numpy as np\n",
    "from qiskit import QuantumCircuit, QuantumRegister, ClassicalRegister, execute, Aer, IBMQ\n",
    "from qiskit.visualization import plot_histogram, plot_bloch_multivector\n",
    "from qiskit.aqua.components.optimizers import COBYLA\n",
    "import matplotlib.pyplot as plt"
   ]
  },
  {
   "cell_type": "markdown",
   "metadata": {},
   "source": [
    "## Simple example - Optimize the circuit for creating a Bell state"
   ]
  },
  {
   "cell_type": "code",
   "execution_count": 2,
   "metadata": {},
   "outputs": [
    {
     "data": {
      "text/html": [
       "<pre style=\"word-wrap: normal;white-space: pre;background: #fff0;line-height: 1.1;font-family: &quot;Courier New&quot;,Courier,monospace\">      ┌───┐     ┌─┐   \n",
       "q0_0: ┤ H ├──■──┤M├───\n",
       "      └───┘┌─┴─┐└╥┘┌─┐\n",
       "q0_1: ─────┤ X ├─╫─┤M├\n",
       "           └───┘ ║ └╥┘\n",
       "c0: 2/═══════════╩══╩═\n",
       "                 0  1 </pre>"
      ],
      "text/plain": [
       "      ┌───┐     ┌─┐   \n",
       "q0_0: ┤ H ├──■──┤M├───\n",
       "      └───┘┌─┴─┐└╥┘┌─┐\n",
       "q0_1: ─────┤ X ├─╫─┤M├\n",
       "           └───┘ ║ └╥┘\n",
       "c0: 2/═══════════╩══╩═\n",
       "                 0  1 "
      ]
     },
     "execution_count": 2,
     "metadata": {},
     "output_type": "execute_result"
    }
   ],
   "source": [
    "#trivial solution\n",
    "qr = QuantumRegister(2)\n",
    "cr = ClassicalRegister(2)\n",
    "qc = QuantumCircuit(qr, cr)\n",
    "qc.h(0) # Put qubit a into state |+>\n",
    "qc.cx(0,1) # CNOT with a as control and b as target\n",
    "qc.measure(0,0)\n",
    "qc.measure(1,1)\n",
    "qc.draw()"
   ]
  },
  {
   "cell_type": "code",
   "execution_count": 3,
   "metadata": {},
   "outputs": [
    {
     "data": {
      "image/png": "[encoded data removed]",
      "text/plain": [
       "<Figure size 504x360 with 1 Axes>"
      ]
     },
     "execution_count": 3,
     "metadata": {},
     "output_type": "execute_result"
    }
   ],
   "source": [
    "backend = Aer.get_backend('qasm_simulator')\n",
    "counts = execute(qc, backend, shots=1024).result().get_counts()\n",
    "plot_histogram(counts)"
   ]
  },
  {
   "cell_type": "code",
   "execution_count": 4,
   "metadata": {},
   "outputs": [
    {
     "data": {
      "text/plain": [
       "QubitStateVector(tensor([], dtype=float64, requires_grad=True), wires=[1])"
      ]
     },
     "execution_count": 4,
     "metadata": {},
     "output_type": "execute_result"
    }
   ],
   "source": [
    "dev = qml.device('default.qubit', wires = 2)\n",
    "qml.QubitStateVector(np.array([]), wires = 1)"
   ]
  },
  {
   "cell_type": "code",
   "execution_count": 5,
   "metadata": {},
   "outputs": [],
   "source": [
    "@qml.qnode(dev)\n",
    "def circuit(params):\n",
    "    A = np.array([[ 0.5, 0.5],\n",
    "           [ 0.5,  0.5]])\n",
    "    qml.U3(params[0], params[1], params[2], wires = 0)\n",
    "    \n",
    "    return qml.expval(qml.Hermitian(A, wires = 0))"
   ]
  },
  {
   "cell_type": "code",
   "execution_count": 6,
   "metadata": {},
   "outputs": [
    {
     "data": {
      "text/plain": [
       "0.9999999999999996"
      ]
     },
     "execution_count": 6,
     "metadata": {},
     "output_type": "execute_result"
    }
   ],
   "source": [
    "params = [np.pi*0.5, 0, 0.3]\n",
    "a = circuit(params)\n",
    "a"
   ]
  },
  {
   "cell_type": "code",
   "execution_count": 7,
   "metadata": {},
   "outputs": [],
   "source": [
    "def cost(x):\n",
    "    \n",
    "    return (1.0 - circuit(x))"
   ]
  },
  {
   "cell_type": "code",
   "execution_count": 8,
   "metadata": {},
   "outputs": [
    {
     "data": {
      "text/plain": [
       "0.17789115638115482"
      ]
     },
     "execution_count": 8,
     "metadata": {},
     "output_type": "execute_result"
    }
   ],
   "source": [
    "init_params = np.array([0.7, 0, 0.3])\n",
    "cost(init_params)"
   ]
  },
  {
   "cell_type": "code",
   "execution_count": 9,
   "metadata": {},
   "outputs": [],
   "source": [
    "opt = qml.GradientDescentOptimizer(stepsize = 0.4)\n",
    "\n",
    "steps = 100\n",
    "\n",
    "params = init_params"
   ]
  },
  {
   "cell_type": "code",
   "execution_count": 10,
   "metadata": {},
   "outputs": [
    {
     "name": "stdout",
     "output_type": "stream",
     "text": [
      "[1.57079633 0.         0.3       ]\n"
     ]
    }
   ],
   "source": [
    "for i in range(steps):\n",
    "    \n",
    "    params = opt.step(cost, params)\n",
    "    \n",
    "print(params)"
   ]
  },
  {
   "cell_type": "code",
   "execution_count": 11,
   "metadata": {},
   "outputs": [
    {
     "data": {
      "text/plain": [
       "4.440892098500626e-16"
      ]
     },
     "execution_count": 11,
     "metadata": {},
     "output_type": "execute_result"
    }
   ],
   "source": [
    "cost(params)"
   ]
  },
  {
   "cell_type": "markdown",
   "metadata": {},
   "source": [
    "## Generating a proper random quantum state and its probability vector\n",
    "\n",
    "Explain some things here\n",
    "$|\\psi\\rangle \\rightarrow |\\psi\\rangle \\langle \\psi |$\n",
    "\n",
    "$|v| = \\sqrt{\\langle v| v \\rangle} = \\sqrt{v^{\\dagger}v}$"
   ]
  },
  {
   "cell_type": "code",
   "execution_count": 12,
   "metadata": {},
   "outputs": [],
   "source": [
    "def norm(complex_vector: np.array) -> float:\n",
    "    \"\"\"Returns the norm of a complex vector.\n",
    "    \n",
    "    Args:\n",
    "       complex_vector (np.arrray of shape (dim,)):\n",
    "           complex vector with an arbitrary dimension.\n",
    "           \n",
    "       \n",
    "    Returns:\n",
    "        norm (float): norm or magnitude of the complex vector.\n",
    "            \n",
    "    \"\"\"\n",
    "    \n",
    "    #define the norm of a complex vector here\n",
    "    norm = np.sqrt(sum([np.square(np.absolute(complex_vector[i])) for i in range(complex_vector.shape[0])]))\n",
    "    \n",
    "    return norm\n",
    "\n",
    "def random_quantum_state(dim: int) -> np.array:\n",
    "    \"\"\"Creates a normalized random complex vector of a defined\n",
    "    dimension.\n",
    "    \n",
    "    Args:\n",
    "        dim (int): integer number specifying the dimension\n",
    "            of the vector that we want to generate.\n",
    "            \n",
    "    Returns:\n",
    "        (np.array): normalized complex vector of the given\n",
    "            dimension.\n",
    "    \"\"\"\n",
    "    #generate an unnormalized complex vector of dimension = dim\n",
    "    Z = np.random.random(dim) + np.random.random(dim)*1j\n",
    "    \n",
    "    #normalize the complex vector Z\n",
    "    Z /= norm(Z)\n",
    "    \n",
    "    return Z\n",
    "\n",
    "def get_probabilities(complex_vector: np.array) -> np.array:\n",
    "    \"\"\"Get the probabilities associated to a quantum state.\n",
    "    This is a vector in which each element is the square of\n",
    "    the magnitude of respective complex number in that element.\n",
    "    \n",
    "    Args:\n",
    "        complex_vector (np.array):\n",
    "        \n",
    "    Retuns:\n",
    "        (np.array): \n",
    "    \"\"\"\n",
    "    \n",
    "    if 1.0 - norm(complex_vector) > 0.001:\n",
    "        print(\"Alert! The quantum state apparently is not normalized.\")\n",
    "        \n",
    "    else:\n",
    "        return np.square(np.absolute(complex_vector))"
   ]
  },
  {
   "cell_type": "code",
   "execution_count": 13,
   "metadata": {},
   "outputs": [],
   "source": [
    "#two qubits -> a complex vector of dimension 4\n",
    "n_qubits = 3\n",
    "dim = 2**(n_qubits)\n",
    "psi = random_quantum_state(dim)"
   ]
  },
  {
   "cell_type": "code",
   "execution_count": 14,
   "metadata": {},
   "outputs": [
    {
     "data": {
      "text/plain": [
       "tensor([0.30681749, 0.12824695, 0.01372895, 0.22550634, 0.06946752,\n",
       "        0.00092427, 0.14340705, 0.11190143], requires_grad=True)"
      ]
     },
     "execution_count": 14,
     "metadata": {},
     "output_type": "execute_result"
    }
   ],
   "source": [
    "get_probabilities(psi)"
   ]
  },
  {
   "cell_type": "code",
   "execution_count": 15,
   "metadata": {},
   "outputs": [],
   "source": [
    "n_qubits = 1\n",
    "dim = 2**(n_qubits)\n",
    "psi = random_quantum_state(dim)"
   ]
  },
  {
   "cell_type": "code",
   "execution_count": 16,
   "metadata": {},
   "outputs": [
    {
     "data": {
      "text/plain": [
       "tensor([0.54529265, 0.45470735], requires_grad=True)"
      ]
     },
     "execution_count": 16,
     "metadata": {},
     "output_type": "execute_result"
    }
   ],
   "source": [
    "target_distr = get_probabilities(psi)\n",
    "target_distr"
   ]
  },
  {
   "cell_type": "code",
   "execution_count": 17,
   "metadata": {},
   "outputs": [],
   "source": [
    "def get_var_form(params):\n",
    "    qr = QuantumRegister(1, name=\"q\")\n",
    "    cr = ClassicalRegister(1, name='c')\n",
    "    qc = QuantumCircuit(qr, cr)\n",
    "    qc.u3(params[0], params[1], params[2], qr[0])\n",
    "    qc.measure(qr, cr[0])\n",
    "    return qc"
   ]
  },
  {
   "cell_type": "markdown",
   "metadata": {},
   "source": [
    "## Building the variational quantum circuit"
   ]
  },
  {
   "cell_type": "code",
   "execution_count": 18,
   "metadata": {},
   "outputs": [],
   "source": [
    "def build_variational_circuit(number_layers: int, params: np.array) -> QuantumCircuit:\n",
    "    #how many parameters will have given the number_layers\n",
    "    n_parameters = 8*number_layers\n",
    "    \n",
    "    if params.shape[0] != n_parameters:\n",
    "        print(f\"Alert! You gave {params.shape[0]} parameters for a circuit of {n_parameters} parameters.\")\n",
    "        \n",
    "    else:\n",
    "        #create the circuit\n",
    "        qr = QuantumRegister(4, name=\"q\")\n",
    "        cr = ClassicalRegister(4, name=\"c\")\n",
    "        qc = QuantumCircuit(qr, cr)\n",
    "\n",
    "        #number of parameters per layer\n",
    "        n_parameters_per_layer = 8\n",
    "        for i in range(number_layers):\n",
    "            start = i*n_parameters_per_layer\n",
    "            end = (i+1)*n_parameters_per_layer \n",
    "            layer(qc, params[start:end])\n",
    "            \n",
    "        return qc\n",
    "    \n",
    "def layer(qc: QuantumCircuit, params: np.array) -> None:\n",
    "    \n",
    "    n_parameters = 8\n",
    "    \n",
    "    if params.shape[0] != n_parameters:\n",
    "        print(f\"Alert! You gave {params.shape[0]} parameters for a layer of {n_parameters} parameters.\")\n",
    "        \n",
    "    else:\n",
    "        odd_block(qc, params[:int(n_parameters/2)])\n",
    "        even_block(qc, params[int(n_parameters/2):])\n",
    "        qc.barrier()\n",
    "        \n",
    "#qiskit  odd block\n",
    "def odd_block(qc: QuantumCircuit, params: np.array) -> None:\n",
    "    \n",
    "    n_parameters = 4\n",
    "    \n",
    "    if params.shape[0] != n_parameters:\n",
    "        print(f\"Alert! You gave {params.shape[0]} parameters for a block of {n_parameters} parameters.\")\n",
    "        \n",
    "    else:\n",
    "    \n",
    "        for i in range(n_parameters):\n",
    "            qc.rx(params[i], i)\n",
    "        \n",
    "#qiskit even block\n",
    "def even_block(qc: QuantumCircuit, params: np.array) -> None:\n",
    "    \n",
    "    n_parameters = 4\n",
    "    \n",
    "    if params.shape[0] != n_parameters:\n",
    "        print(f\"Alert! You gave {params.shape[0]} parameters for a block of {n_parameters} parameters.\")\n",
    "        \n",
    "    else:\n",
    "    \n",
    "        for i in range(n_parameters):\n",
    "            qc.rz(params[i], i)\n",
    "\n",
    "        tuples = [(i,j) for i in range(n_parameters) for j in range(n_parameters) if i < j]\n",
    "\n",
    "        for tup in tuples:\n",
    "            qc.cz(tup[0], tup[1])"
   ]
  },
  {
   "cell_type": "code",
   "execution_count": 19,
   "metadata": {},
   "outputs": [],
   "source": [
    "n_parameters_per_layer = 8\n",
    "n_layers = 2\n",
    "params = np.random.rand(n_layers*n_parameters_per_layer)*2*np.pi\n",
    "qc = build_variational_circuit(n_layers, params)"
   ]
  },
  {
   "cell_type": "code",
   "execution_count": 20,
   "metadata": {},
   "outputs": [
    {
     "data": {
      "image/png": "[encoded data removed]",
      "text/plain": [
       "<Figure size 1224.38x325.08 with 1 Axes>"
      ]
     },
     "execution_count": 20,
     "metadata": {},
     "output_type": "execute_result"
    }
   ],
   "source": [
    "qc.draw(output='mpl')"
   ]
  },
  {
   "cell_type": "markdown",
   "metadata": {},
   "source": [
    "## Optimization"
   ]
  },
  {
   "cell_type": "code",
   "execution_count": 21,
   "metadata": {},
   "outputs": [
    {
     "name": "stdout",
     "output_type": "stream",
     "text": [
      "[-0.0104471 +0.01912094j  0.07751424+0.11995109j -0.0194285 +0.06650325j\n",
      "  0.0090159 +0.34100617j -0.04016965-0.0509175j  -0.27087874-0.39196232j\n",
      "  0.01314418+0.07267064j -0.22615956-0.30252759j -0.03281817+0.04225872j\n",
      " -0.30658613+0.40307637j  0.04726271-0.00196376j -0.18986578+0.12934964j\n",
      "  0.0011948 +0.00054889j -0.2864493 +0.07407649j -0.05564645+0.02065949j\n",
      " -0.21759506+0.16081491j]\n"
     ]
    }
   ],
   "source": [
    "backend = Aer.get_backend('statevector_simulator')\n",
    "\n",
    "job = execute(qc, backend)\n",
    "\n",
    "result = job.result()\n",
    "\n",
    "outputstate = result.get_statevector(qc, decimals=3)\n",
    "print(outputstate)"
   ]
  },
  {
   "cell_type": "code",
   "execution_count": 22,
   "metadata": {},
   "outputs": [],
   "source": [
    "def norm_vector_difference(params):\n",
    "    \n",
    "    qc = build_variational_circuit(n_layers, params)\n",
    "    \n",
    "    job = execute(qc, backend)\n",
    "    \n",
    "    result = job.result()\n",
    "\n",
    "    outputstate = result.get_statevector(qc, decimals=3)\n",
    "    \n",
    "    diff = outputstate - target_vector\n",
    "    \n",
    "    \n",
    "    return norm(diff)\n",
    "\n",
    "def get_probability_distribution(counts):\n",
    "    output_distr = [v / NUM_SHOTS for v in counts.values()]\n",
    "    if len(output_distr) == 1:\n",
    "        output_distr.append(0)\n",
    "    output_distr = np.asarray(output_distr)\n",
    "    \n",
    "    return output_distr\n",
    "\n",
    "def probability_difference(params):\n",
    "    # Obtain a quantum circuit instance from the paramters\n",
    "    qc = build_variational_circuit(n_layers, params)\n",
    "    # Measure all qubits\n",
    "    qc.measure_all()\n",
    "    # Execute the quantum circuit to obtain the probability distribution associated with the current parameters\n",
    "    result = execute(qc, backend, shots=NUM_SHOTS).result()\n",
    "    # Obtain the counts for each measured state, and convert those counts into a probability vector\n",
    "    output_distr = get_probability_distribution(result.get_counts(qc))\n",
    "    # Calculate the cost as the distance between the output distribution and the target distribution\n",
    "    cost = sum([np.absolute(output_distr[i] - target_distr[i]) for i in range(output_distr.shape[0])])\n",
    "    return cost"
   ]
  },
  {
   "cell_type": "code",
   "execution_count": 23,
   "metadata": {},
   "outputs": [
    {
     "data": {
      "text/plain": [
       "(16,)"
      ]
     },
     "execution_count": 23,
     "metadata": {},
     "output_type": "execute_result"
    }
   ],
   "source": [
    "n_qubits = 4\n",
    "dim = n_qubits**2\n",
    "target_vector = random_quantum_state(dim)\n",
    "target_distr = get_probabilities(target_vector)\n",
    "target_distr.shape"
   ]
  },
  {
   "cell_type": "code",
   "execution_count": 24,
   "metadata": {
    "scrolled": false
   },
   "outputs": [
    {
     "name": "stdout",
     "output_type": "stream",
     "text": [
      "Number of layers: 1\n",
      "Target Vector: [0.27880179+0.10388648j 0.29230849+0.11945961j 0.29458621+0.22297268j\n",
      " 0.15905184+0.30283767j 0.24250811+0.18320201j 0.16318235+0.07394478j\n",
      " 0.24750895+0.04959239j 0.23499773+0.03795151j 0.02986665+0.12103475j\n",
      " 0.09494707+0.03792004j 0.2503946 +0.28971586j 0.1226632 +0.07480293j\n",
      " 0.17080896+0.16056022j 0.08629606+0.08270936j 0.06201211+0.10159041j\n",
      " 0.16247803+0.10161386j]\n",
      "Obtained Vector: [-0.07345284+0.00000000e+00j  0.02026406+5.53529546e-02j\n",
      "  0.57207236+1.69004770e-01j  0.03046299+4.77729878e-01j\n",
      "  0.02021883+2.51725947e-02j -0.01339175+2.21811832e-02j\n",
      "  0.09955158+2.42572296e-01j  0.15533469-1.41941035e-01j\n",
      "  0.02522236+3.97821991e-02j -0.02302096+2.99822416e-02j\n",
      "  0.10490586+3.67868618e-01j  0.24827898-1.80542498e-01j\n",
      " -0.00669075+1.95943654e-02j  0.01661185-3.63615722e-04j\n",
      "  0.09719343-1.37212204e-01j  0.13021462+3.53896131e-02j]\n",
      "cost: 0.8954299908156356\n",
      "Parameters Found: [ 7.63570688  2.89655267  0.82828157  1.14044537  5.93225064  4.99964373\n",
      "  5.60649127 -0.56505306]\n",
      "\n",
      "Number of layers: 2\n",
      "Target Vector: [0.27880179+0.10388648j 0.29230849+0.11945961j 0.29458621+0.22297268j\n",
      " 0.15905184+0.30283767j 0.24250811+0.18320201j 0.16318235+0.07394478j\n",
      " 0.24750895+0.04959239j 0.23499773+0.03795151j 0.02986665+0.12103475j\n",
      " 0.09494707+0.03792004j 0.2503946 +0.28971586j 0.1226632 +0.07480293j\n",
      " 0.17080896+0.16056022j 0.08629606+0.08270936j 0.06201211+0.10159041j\n",
      " 0.16247803+0.10161386j]\n",
      "Obtained Vector: [0.24387793+0.11608135j 0.2910722 +0.13399726j 0.31597812+0.23762213j\n",
      " 0.19598347+0.27348197j 0.25725666+0.18199771j 0.17317575+0.08259944j\n",
      " 0.25828497+0.10237314j 0.23177621+0.03095966j 0.04716072+0.18077668j\n",
      " 0.14075547+0.15861967j 0.19026001+0.22747275j 0.10385983+0.04020101j\n",
      " 0.19955139+0.09851583j 0.05985072+0.05999977j 0.03735424+0.10750238j\n",
      " 0.15069772+0.11951068j]\n",
      "cost: 0.21072042559457843\n",
      "Parameters Found: [4.50288815 4.55764657 4.97517346 2.17114903 3.97478168 3.34600929\n",
      " 3.73386164 2.89939602 2.70485479 1.04126038 6.06856429 3.84575168\n",
      " 2.27530733 1.49829459 7.05948773 4.80820742]\n",
      "\n",
      "Number of layers: 3\n",
      "Target Vector: [0.27880179+0.10388648j 0.29230849+0.11945961j 0.29458621+0.22297268j\n",
      " 0.15905184+0.30283767j 0.24250811+0.18320201j 0.16318235+0.07394478j\n",
      " 0.24750895+0.04959239j 0.23499773+0.03795151j 0.02986665+0.12103475j\n",
      " 0.09494707+0.03792004j 0.2503946 +0.28971586j 0.1226632 +0.07480293j\n",
      " 0.17080896+0.16056022j 0.08629606+0.08270936j 0.06201211+0.10159041j\n",
      " 0.16247803+0.10161386j]\n",
      "Obtained Vector: [0.32944633+0.13332664j 0.26500724+0.13806115j 0.21913158+0.21564255j\n",
      " 0.25110574+0.2869029j  0.22504239+0.12959394j 0.22092387+0.10681236j\n",
      " 0.23551529+0.08677224j 0.25814462+0.04313299j 0.07511316+0.17204169j\n",
      " 0.04601749+0.10007032j 0.20129642+0.22411304j 0.15065707+0.10996625j\n",
      " 0.0966687 +0.02046501j 0.13693012+0.08504779j 0.10288634+0.13434011j\n",
      " 0.16138965+0.14841036j]\n",
      "cost: 0.2845122955127773\n",
      "Parameters Found: [ 3.07896397  3.53272936  6.22057124  5.5131966   6.45277312 -0.61856053\n",
      "  6.32702911  5.57375247  4.66341589  4.7390676   5.0270794   4.78954899\n",
      "  5.93255698  3.14390037  3.16727689  4.57126795  5.08911023  2.38347025\n",
      "  0.31973338  3.19355507  1.68677667  4.66337416  7.56083302  2.76405367]\n",
      "\n",
      "Number of layers: 4\n",
      "Target Vector: [0.27880179+0.10388648j 0.29230849+0.11945961j 0.29458621+0.22297268j\n",
      " 0.15905184+0.30283767j 0.24250811+0.18320201j 0.16318235+0.07394478j\n",
      " 0.24750895+0.04959239j 0.23499773+0.03795151j 0.02986665+0.12103475j\n",
      " 0.09494707+0.03792004j 0.2503946 +0.28971586j 0.1226632 +0.07480293j\n",
      " 0.17080896+0.16056022j 0.08629606+0.08270936j 0.06201211+0.10159041j\n",
      " 0.16247803+0.10161386j]\n",
      "Obtained Vector: [0.32073492+0.08119399j 0.27452737+0.1425968j  0.27153553+0.2451524j\n",
      " 0.1819963 +0.29097661j 0.24029352+0.12819618j 0.1823545 +0.11974176j\n",
      " 0.23902815+0.0825793j  0.2693676 +0.00746586j 0.04330638+0.15018079j\n",
      " 0.12952584+0.06995513j 0.22533734+0.24975184j 0.10272615+0.09823774j\n",
      " 0.17099875+0.17799498j 0.09196518+0.07500798j 0.08256297+0.10694072j\n",
      " 0.10345899+0.03822851j]\n",
      "cost: 0.16838211307187878\n",
      "Parameters Found: [ 2.13547176  6.2680952   6.37310454  2.74421476  6.94014165  3.59632847\n",
      "  4.63290703  5.75690859  5.28299039  4.7007543   4.44566138  1.94565409\n",
      "  4.20025373  2.39807693  7.37714678  3.04948699  4.78145904  6.47138907\n",
      "  6.15255099  6.31323863 -0.18515205  5.37695567  3.24686168  5.41591258\n",
      "  4.56863506  5.0422356   2.90325302  5.8236867   6.12930268  1.59790953\n",
      "  4.23446211  1.48501327]\n",
      "\n",
      "Number of layers: 5\n",
      "Target Vector: [0.27880179+0.10388648j 0.29230849+0.11945961j 0.29458621+0.22297268j\n",
      " 0.15905184+0.30283767j 0.24250811+0.18320201j 0.16318235+0.07394478j\n",
      " 0.24750895+0.04959239j 0.23499773+0.03795151j 0.02986665+0.12103475j\n",
      " 0.09494707+0.03792004j 0.2503946 +0.28971586j 0.1226632 +0.07480293j\n",
      " 0.17080896+0.16056022j 0.08629606+0.08270936j 0.06201211+0.10159041j\n",
      " 0.16247803+0.10161386j]\n",
      "Obtained Vector: [0.29092732+0.08093546j 0.33773358+0.15041821j 0.32076701+0.20402174j\n",
      " 0.1396435 +0.30995324j 0.1850273 +0.15828385j 0.18179058+0.08697455j\n",
      " 0.31920735+0.05834444j 0.27157449+0.0162758j  0.08238121+0.12819291j\n",
      " 0.11303902+0.0004714j  0.13387687+0.25505551j 0.13545547+0.05978967j\n",
      " 0.14603071+0.1266847j  0.08092913+0.12219488j 0.03704354+0.07484249j\n",
      " 0.12152189+0.10641179j]\n",
      "cost: 0.20670684703700162\n",
      "Parameters Found: [ 4.99178404  1.88791031  3.11540222  5.55193033  5.42626048  2.15823328\n",
      "  0.2098022   1.75821196  3.36121366 -0.10206134  4.70084037  2.73867444\n",
      "  5.99384915  5.17054387  5.58723912  4.04676019 -0.22929704  5.60730304\n",
      "  1.78637832  0.25372652  0.0577108   5.4132088   2.3344655   4.1191783\n",
      "  5.6216421   2.43757576  2.62829495  2.65684674  0.99155122  1.96432402\n",
      "  3.61426524  1.27104086  7.50471408  1.60775063  4.54765668  0.684179\n",
      "  4.43210085  2.18950523  4.5810905   5.6778331 ]\n",
      "\n",
      "Number of layers: 6\n",
      "Target Vector: [0.27880179+0.10388648j 0.29230849+0.11945961j 0.29458621+0.22297268j\n",
      " 0.15905184+0.30283767j 0.24250811+0.18320201j 0.16318235+0.07394478j\n",
      " 0.24750895+0.04959239j 0.23499773+0.03795151j 0.02986665+0.12103475j\n",
      " 0.09494707+0.03792004j 0.2503946 +0.28971586j 0.1226632 +0.07480293j\n",
      " 0.17080896+0.16056022j 0.08629606+0.08270936j 0.06201211+0.10159041j\n",
      " 0.16247803+0.10161386j]\n",
      "Obtained Vector: [0.30233476+0.1434119j  0.29005717+0.15180143j 0.28307053+0.27354285j\n",
      " 0.12640553+0.30284704j 0.17724274+0.13824188j 0.20653767+0.03007081j\n",
      " 0.22268882+0.05395504j 0.27977522-0.00270258j 0.02454197+0.14427698j\n",
      " 0.11579326+0.05630471j 0.24915828+0.24662969j 0.07408692+0.03432739j\n",
      " 0.18085298+0.13970283j 0.10224693+0.12084437j 0.07824922+0.14160531j\n",
      " 0.09249405+0.1172493j ]\n",
      "cost: 0.1942934969433824\n",
      "Parameters Found: [ 6.12121801  7.15079684  4.58117532  2.77038044  5.19233647  2.15537409\n",
      "  3.41564787  5.30102896  5.8142462   5.75954542  2.00356997  6.64632644\n",
      "  5.26772808  5.92556212  1.81943811  3.54187766  2.4956564   2.58384656\n",
      "  2.25306593  1.24540728  3.25496146  3.74394789  3.09037235  1.34409898\n",
      "  3.13853276  3.01259579  3.13186921  3.60558704  0.37558662  4.78918641\n",
      "  4.17372714  3.26794866  5.39105248  5.49639821  3.54862038  2.46447326\n",
      "  1.19685065  0.78729919  5.83552897  2.77667496 -0.03834963  2.87270068\n",
      "  2.98727645  2.75262333  6.20775665  2.39570759  4.98062617  0.27340098]\n",
      "\n",
      "Number of layers: 7\n",
      "Target Vector: [0.27880179+0.10388648j 0.29230849+0.11945961j 0.29458621+0.22297268j\n",
      " 0.15905184+0.30283767j 0.24250811+0.18320201j 0.16318235+0.07394478j\n",
      " 0.24750895+0.04959239j 0.23499773+0.03795151j 0.02986665+0.12103475j\n",
      " 0.09494707+0.03792004j 0.2503946 +0.28971586j 0.1226632 +0.07480293j\n",
      " 0.17080896+0.16056022j 0.08629606+0.08270936j 0.06201211+0.10159041j\n",
      " 0.16247803+0.10161386j]\n",
      "Obtained Vector: [0.24595144+0.13928618j 0.35893837+0.12459679j 0.28120919+0.1959857j\n",
      " 0.19998833+0.25426754j 0.20814852+0.12802659j 0.07531804+0.04423698j\n",
      " 0.2404352 +0.03625076j 0.2005963 +0.0658349j  0.05395726+0.18543243j\n",
      " 0.12038439+0.03285877j 0.22678015+0.37665944j 0.10451762+0.02536776j\n",
      " 0.12913894+0.07016324j 0.15609478+0.08620411j 0.06845049+0.03305912j\n",
      " 0.22579139+0.12113163j]\n",
      "cost: 0.2587788603913856\n",
      "Parameters Found: [7.29026349 4.10392716 6.58793778 5.36863278 1.66017771 5.55052417\n",
      " 1.19905372 1.44839428 4.90190757 0.34183688 2.51538855 5.77465354\n",
      " 1.47218426 4.66821056 0.9665826  1.23280238 3.56411926 4.34747089\n",
      " 2.80218993 1.10716805 2.97948941 2.7937005  1.91656531 3.05531486\n",
      " 3.6834115  3.19628701 2.65267087 4.31546902 3.96845435 2.98781765\n",
      " 5.16971205 2.53979477 5.79134512 4.45787598 3.64482251 4.2966948\n",
      " 5.62073626 0.66740906 4.23493443 1.52043358 3.63286034 3.10303417\n",
      " 5.59260862 4.90113452 3.34080904 4.63922476 5.78089067 5.70161639\n",
      " 0.91487881 6.15437164 6.18919562 5.54267074 3.45852887 2.26730554\n",
      " 4.67798915 5.2758273 ]\n",
      "\n"
     ]
    },
    {
     "name": "stdout",
     "output_type": "stream",
     "text": [
      "Number of layers: 8\n",
      "Target Vector: [0.27880179+0.10388648j 0.29230849+0.11945961j 0.29458621+0.22297268j\n",
      " 0.15905184+0.30283767j 0.24250811+0.18320201j 0.16318235+0.07394478j\n",
      " 0.24750895+0.04959239j 0.23499773+0.03795151j 0.02986665+0.12103475j\n",
      " 0.09494707+0.03792004j 0.2503946 +0.28971586j 0.1226632 +0.07480293j\n",
      " 0.17080896+0.16056022j 0.08629606+0.08270936j 0.06201211+0.10159041j\n",
      " 0.16247803+0.10161386j]\n",
      "Obtained Vector: [0.24683839+0.05817267j 0.32300768+0.13023542j 0.37200281+0.18088613j\n",
      " 0.20402056+0.3012285j  0.18049553+0.2099295j  0.17902046+0.102676j\n",
      " 0.1810375 +0.02640105j 0.18925962+0.00562024j 0.02355628+0.0374181j\n",
      " 0.13216131+0.02866458j 0.20970815+0.32711248j 0.12339386+0.06285173j\n",
      " 0.26174767+0.04608652j 0.04214828-0.01288245j 0.11246626+0.08097392j\n",
      " 0.15885078+0.12224374j]\n",
      "cost: 0.27433350886102503\n",
      "Parameters Found: [ 4.90266865  1.07638453  4.55372236  3.12011169  1.34771191  7.10248282\n",
      "  1.88884409  3.21980828  3.66508472  5.72194207  2.30775807  4.636878\n",
      "  1.70724753  1.67224367  5.4914327   3.15346415  5.44278123  2.3440487\n",
      "  6.83212891  4.7697592   2.70140609  3.01687033  5.36595165  5.98716279\n",
      "  5.69151739  3.06893267  1.18882581  6.15283534  1.93654617  6.09407055\n",
      "  4.73740016  3.89894944  1.83345776  4.47064596  2.68555377  1.93771101\n",
      "  4.32905383  5.48233529  3.86648455  5.00532815  5.95824896 -0.13617008\n",
      "  6.61997597  4.97814936  2.78695177  3.04646673  5.15159071  1.60044834\n",
      "  6.96151262  6.25068921  3.57578015  7.15979791  0.19939183  4.2290497\n",
      "  2.29563246  2.5524043   2.96128528  2.15112332  2.45976052  4.97129282\n",
      "  3.22193918  3.86014039  4.18078352  6.06802225]\n",
      "\n",
      "Number of layers: 9\n",
      "Target Vector: [0.27880179+0.10388648j 0.29230849+0.11945961j 0.29458621+0.22297268j\n",
      " 0.15905184+0.30283767j 0.24250811+0.18320201j 0.16318235+0.07394478j\n",
      " 0.24750895+0.04959239j 0.23499773+0.03795151j 0.02986665+0.12103475j\n",
      " 0.09494707+0.03792004j 0.2503946 +0.28971586j 0.1226632 +0.07480293j\n",
      " 0.17080896+0.16056022j 0.08629606+0.08270936j 0.06201211+0.10159041j\n",
      " 0.16247803+0.10161386j]\n",
      "Obtained Vector: [0.29824199+0.05061147j 0.27587222+0.17070895j 0.32426645+0.12726442j\n",
      " 0.15484119+0.27819661j 0.23732832+0.15415269j 0.22786953+0.04982187j\n",
      " 0.2947023 +0.07319538j 0.12733315+0.11223061j 0.01947984+0.1092924j\n",
      " 0.15536437-0.01012515j 0.23223363+0.30439407j 0.08825742+0.05193913j\n",
      " 0.18876701+0.20642983j 0.13828762+0.06222518j 0.06465826+0.06860373j\n",
      " 0.10359923+0.10254884j]\n",
      "cost: 0.2467330134443405\n",
      "Parameters Found: [ 1.67139498  0.98873516  6.03252553  6.51533996  2.0547293   3.38101419\n",
      "  6.73850509  1.05044844  6.413328    2.77299294  0.4639951   6.49094972\n",
      "  1.619312    0.34780433  4.72466228  5.09361923  6.7960699   6.1287724\n",
      "  3.96976256  4.45041301  1.09371699  3.25062308  1.4044146   5.24025044\n",
      "  2.26421293  5.29475661 -0.3036363   3.09087564  2.67654556  5.20833827\n",
      "  4.70951498  6.37710144  7.37772207  1.95693937  1.23499667  1.4909293\n",
      "  5.56978186  4.09576982  4.76702222  4.74131333  4.87920013  6.12892687\n",
      "  1.90196501  3.39071194  2.90177036  2.34384859  3.42229776  2.82703391\n",
      "  4.10212424  3.19367688  2.34527743  3.24598706  2.39999897  2.26791632\n",
      "  5.90853632  3.2203385   2.61582649  3.73415414  2.34102782  5.43112003\n",
      "  0.80374023  5.114835    3.16344629  2.67351626  0.86466305  5.28020225\n",
      "  1.17517804  3.30332493  1.84007461  4.84847305  2.66322657  0.59085307]\n",
      "\n",
      "Number of layers: 10\n",
      "Target Vector: [0.27880179+0.10388648j 0.29230849+0.11945961j 0.29458621+0.22297268j\n",
      " 0.15905184+0.30283767j 0.24250811+0.18320201j 0.16318235+0.07394478j\n",
      " 0.24750895+0.04959239j 0.23499773+0.03795151j 0.02986665+0.12103475j\n",
      " 0.09494707+0.03792004j 0.2503946 +0.28971586j 0.1226632 +0.07480293j\n",
      " 0.17080896+0.16056022j 0.08629606+0.08270936j 0.06201211+0.10159041j\n",
      " 0.16247803+0.10161386j]\n",
      "Obtained Vector: [0.33039133+0.12552619j 0.24234767+0.15705534j 0.29244783+0.2221782j\n",
      " 0.20419834+0.32131871j 0.18659619+0.10778663j 0.18609466+0.14192069j\n",
      " 0.15779513+0.06995949j 0.21598992+0.06833199j 0.03417802+0.04524813j\n",
      " 0.02314029+0.01865906j 0.18641108+0.36964877j 0.1024893 -0.02982326j\n",
      " 0.09608573+0.20340497j 0.04964173+0.12853944j 0.13525036+0.14055212j\n",
      " 0.17050086+0.07706016j]\n",
      "cost: 0.29098055921349636\n",
      "Parameters Found: [5.67661121 2.71592222 7.17994644 3.74362657 2.61920224 6.64105666\n",
      " 3.39794336 2.93789219 2.37395691 4.9556305  0.50228308 0.58735306\n",
      " 3.9680735  2.52520718 5.69353036 0.14698524 0.88783804 4.52002666\n",
      " 6.82634063 2.26143102 5.01081363 5.01516604 1.60519171 2.74221489\n",
      " 2.29016471 6.04674525 1.95391213 2.98408106 4.62441371 6.14961709\n",
      " 4.69173272 5.6772515  4.43545639 2.60042359 2.45982698 6.01821404\n",
      " 6.46229692 3.34598389 0.15276322 2.91837619 3.86133973 2.38163628\n",
      " 0.16636625 1.37212436 4.92535453 5.62464827 0.24653202 0.71400618\n",
      " 6.05025766 6.7911163  1.08220604 0.50186957 2.09151685 4.67035856\n",
      " 2.69164818 3.67581651 1.85426916 2.00112877 5.10217039 5.20829236\n",
      " 4.2674023  4.75682361 6.01037787 2.36014073 2.20884658 4.621754\n",
      " 4.00117513 1.27998109 3.66476576 5.33487932 1.5602138  0.04382221\n",
      " 5.21686041 2.67310348 3.98675145 2.85453989 0.76579913 4.78186245\n",
      " 0.58907671 0.30078648]\n",
      "\n"
     ]
    }
   ],
   "source": [
    "# Initialize the COBYLA optimizer\n",
    "optimizer = COBYLA(maxiter=500, tol=0.0001)\n",
    "\n",
    "# Create the initial parameters (noting that our single qubit variational form has 3 parameters)\n",
    "cost_list = []\n",
    "for n_layers in range(1,11):\n",
    "    n_parameters_per_layer = 8\n",
    "    params = np.random.rand(n_layers*n_parameters_per_layer)*2*np.pi\n",
    "    ret = optimizer.optimize(num_vars=n_layers*n_parameters_per_layer, objective_function=norm_vector_difference, \n",
    "                             initial_point=params)\n",
    "\n",
    "    # Obtain the output distribution using the final parameters\n",
    "    qc = build_variational_circuit(n_layers, ret[0])\n",
    "    final_vector = execute(qc, backend).result().get_statevector(qc, decimals = 3)\n",
    "    \n",
    "    #save cost function values\n",
    "    cost_list.append(ret[1])\n",
    "    \n",
    "    print(\"Number of layers:\", n_layers)\n",
    "    print(\"Target Vector:\", target_vector)\n",
    "    print(\"Obtained Vector:\", final_vector)\n",
    "    print(\"cost:\", ret[1])\n",
    "    print(\"Parameters Found:\", ret[0])\n",
    "    print('')"
   ]
  },
  {
   "cell_type": "code",
   "execution_count": 25,
   "metadata": {},
   "outputs": [
    {
     "data": {
      "image/png": "[encoded data removed]",
      "text/plain": [
       "<Figure size 432x288 with 1 Axes>"
      ]
     },
     "metadata": {
      "needs_background": "light"
     },
     "output_type": "display_data"
    }
   ],
   "source": [
    "n_layers = range(1,11)\n",
    "plt.plot(n_layers, cost_list)\n",
    "plt.xlabel(\"number of layers\")\n",
    "plt.ylabel(\"objective function\")\n",
    "plt.show()"
   ]
  },
  {
   "cell_type": "code",
   "execution_count": 26,
   "metadata": {
    "scrolled": false
   },
   "outputs": [
    {
     "name": "stdout",
     "output_type": "stream",
     "text": [
      "Number of layers: 1\n",
      "Target Distribution: [0.08852284 0.09971485 0.13649785 0.11700814 0.09237316 0.03209631\n",
      " 0.06372009 0.05666425 0.01554143 0.01045288 0.14663274 0.02064174\n",
      " 0.05495529 0.01428785 0.01416611 0.03672449]\n",
      "Obtained Distribution: [0.0335 0.1634 0.0232 0.0936 0.0783 0.3476 0.0447 0.2157]\n",
      "Output Error (Manhattan Distance): 0.7610466639939542\n",
      "Parameters Found: [2.27255903 1.31715696 3.14824475 1.96262146 4.88131401 5.83732027\n",
      " 1.30256766 4.66035564]\n",
      "\n",
      "Number of layers: 2\n",
      "Target Distribution: [0.08852284 0.09971485 0.13649785 0.11700814 0.09237316 0.03209631\n",
      " 0.06372009 0.05666425 0.01554143 0.01045288 0.14663274 0.02064174\n",
      " 0.05495529 0.01428785 0.01416611 0.03672449]\n",
      "Obtained Distribution: [0.0909 0.084  0.1469 0.0187 0.11   0.061  0.0735 0.0764 0.0226 0.0088\n",
      " 0.1568 0.0415 0.0569 0.0116 0.0323 0.0081]\n",
      "Output Error (Manhattan Distance): 0.2854007151299476\n",
      "Parameters Found: [3.68238839 7.59261611 1.36857423 5.40958384 2.59432416 5.8060926\n",
      " 2.75266708 0.94673922 2.03900015 4.65326927 4.73857993 5.23157355\n",
      " 4.30108953 1.86344234 4.31638749 1.40098533]\n",
      "\n",
      "Number of layers: 3\n",
      "Target Distribution: [0.08852284 0.09971485 0.13649785 0.11700814 0.09237316 0.03209631\n",
      " 0.06372009 0.05666425 0.01554143 0.01045288 0.14663274 0.02064174\n",
      " 0.05495529 0.01428785 0.01416611 0.03672449]\n",
      "Obtained Distribution: [0.0929 0.1022 0.1365 0.0986 0.0631 0.0065 0.1184 0.0529 0.0081 0.0185\n",
      " 0.1757 0.0067 0.0556 0.0102 0.0174 0.0367]\n",
      "Output Error (Manhattan Distance): 0.2197617215321797\n",
      "Parameters Found: [5.04954    5.02589191 1.26410827 4.95121421 6.60212184 2.76652931\n",
      " 4.54445366 3.61057495 1.9490903  5.12994406 6.24365097 2.33523261\n",
      " 2.25963116 1.56913895 1.96254711 2.88477406 3.66179194 1.84050472\n",
      " 0.06867396 2.67194664 0.77865966 3.64798619 1.01449252 4.28636335]\n",
      "\n",
      "Number of layers: 4\n",
      "Target Distribution: [0.08852284 0.09971485 0.13649785 0.11700814 0.09237316 0.03209631\n",
      " 0.06372009 0.05666425 0.01554143 0.01045288 0.14663274 0.02064174\n",
      " 0.05495529 0.01428785 0.01416611 0.03672449]\n",
      "Obtained Distribution: [0.0922 0.0988 0.141  0.1516 0.0933 0.045  0.0668 0.0581 0.0539 0.0049\n",
      " 0.0718 0.0169 0.0551 0.0138 0.0163 0.0205]\n",
      "Output Error (Manhattan Distance): 0.20514275063875312\n",
      "Parameters Found: [ 0.54119679  2.62124186  4.63195523  5.65171346  1.17661352  1.69633867\n",
      "  3.9771929   5.15299533  1.04755142  3.81614009  5.52141741  2.02450792\n",
      "  4.10598185  2.84092832 -0.23794643  2.60052851  2.51695084  6.13336359\n",
      "  0.96653395  0.47738622  3.91616623  0.6263962   6.46410179  6.19397134\n",
      "  3.61116069  1.19371203  4.7940879   3.51723184  3.64258765  1.3279192\n",
      "  1.98966467  4.80926575]\n",
      "\n",
      "Number of layers: 5\n",
      "Target Distribution: [0.08852284 0.09971485 0.13649785 0.11700814 0.09237316 0.03209631\n",
      " 0.06372009 0.05666425 0.01554143 0.01045288 0.14663274 0.02064174\n",
      " 0.05495529 0.01428785 0.01416611 0.03672449]\n",
      "Obtained Distribution: [0.0922 0.0932 0.0937 0.0968 0.0728 0.03   0.0781 0.0574 0.0597 0.0353\n",
      " 0.1357 0.0264 0.063  0.0142 0.0179 0.0336]\n",
      "Output Error (Manhattan Distance): 0.21071644520198973\n",
      "Parameters Found: [ 6.19667148  6.6581872   4.05605207  1.1814518  -0.23168851  3.45561598\n",
      "  7.48971355  1.71696586  2.0089622   1.07313535  4.8797645   5.16872032\n",
      "  3.35893691  3.71284296  6.08893788  4.92133898  3.78377446  2.92713066\n",
      "  6.70553268  0.51250146  1.82281743  5.08378661  0.77278247  2.57090469\n",
      "  4.81252485  4.12238416  0.91976994  3.10502225  1.3306504   1.55478699\n",
      "  0.18601436  6.28612386  4.68199979  2.30038672  3.70236642  1.76054706\n",
      "  6.37970935  2.41820546  5.24785972  3.68260229]\n",
      "\n",
      "Number of layers: 6\n",
      "Target Distribution: [0.08852284 0.09971485 0.13649785 0.11700814 0.09237316 0.03209631\n",
      " 0.06372009 0.05666425 0.01554143 0.01045288 0.14663274 0.02064174\n",
      " 0.05495529 0.01428785 0.01416611 0.03672449]\n",
      "Obtained Distribution: [0.145  0.0766 0.1353 0.1198 0.1041 0.0312 0.0646 0.0544 0.0086 0.0216\n",
      " 0.0907 0.0113 0.0482 0.0255 0.0125 0.0506]\n",
      "Output Error (Manhattan Distance): 0.20306610975210357\n",
      "Parameters Found: [2.00874951e+00 2.09193115e+00 9.80311957e-01 3.28830874e+00\n",
      " 6.78894595e+00 2.35795560e+00 4.60447265e-01 2.63915840e+00\n",
      " 3.91916257e+00 5.67915766e+00 2.63978463e+00 3.37395500e+00\n",
      " 2.69501595e+00 5.61596600e+00 5.64426678e+00 2.04914509e+00\n",
      " 3.54965541e+00 6.29174926e+00 6.87543691e+00 5.86189286e+00\n",
      " 4.46084792e+00 1.59948211e+00 3.73712518e+00 6.05354547e+00\n",
      " 7.01067585e-01 3.61340350e+00 4.88532938e+00 6.10962069e+00\n",
      " 7.09148579e-04 1.78359003e+00 7.35451384e+00 8.36600305e-03\n",
      " 1.61756563e+00 5.65984429e+00 2.68444979e+00 6.04712768e+00\n",
      " 1.63843594e+00 1.61081691e+00 5.16687776e+00 1.01408436e+00\n",
      " 6.11067973e+00 5.20037657e+00 2.70850288e+00 5.36396464e+00\n",
      " 1.41609961e+00 4.42147803e+00 3.01460357e+00 5.40809533e+00]\n",
      "\n",
      "Number of layers: 7\n",
      "Target Distribution: [0.08852284 0.09971485 0.13649785 0.11700814 0.09237316 0.03209631\n",
      " 0.06372009 0.05666425 0.01554143 0.01045288 0.14663274 0.02064174\n",
      " 0.05495529 0.01428785 0.01416611 0.03672449]\n",
      "Obtained Distribution: [0.0287 0.0983 0.1289 0.1351 0.0948 0.0675 0.0607 0.057  0.0369 0.0067\n",
      " 0.1483 0.0259 0.0597 0.0107 0.004  0.0368]\n",
      "Output Error (Manhattan Distance): 0.15362372050835818\n",
      "Parameters Found: [ 2.34982077  1.774476   -0.35034308  2.1001831   4.93739122  4.88135167\n",
      "  1.4059111   0.79338482  5.6377777   5.23880572  2.31087982  4.88954033\n",
      "  5.64592495  5.37186999  0.43418555  0.41548376  0.78921477  0.41935075\n",
      "  2.60044899  5.50081004  5.09149204  5.62689279  0.15067782  6.77560728\n",
      " -0.03662906  4.06834322  5.14696321  3.0811314   5.32163661  0.89027616\n",
      "  2.18701803  4.00511762  3.48101183  1.17026211  3.0950974   0.42044367\n",
      "  2.31425103  4.46342928  4.91561165  2.75452176  1.11760449  1.9965007\n",
      "  1.03623935  2.81999207  5.76901869  1.71095028  2.0937474   4.74045348\n",
      "  0.99567202  5.98764043  4.20946935  2.76402229  4.52696968  6.07618458\n",
      "  0.60137967  1.56388821]\n",
      "\n",
      "Number of layers: 8\n",
      "Target Distribution: [0.08852284 0.09971485 0.13649785 0.11700814 0.09237316 0.03209631\n",
      " 0.06372009 0.05666425 0.01554143 0.01045288 0.14663274 0.02064174\n",
      " 0.05495529 0.01428785 0.01416611 0.03672449]\n",
      "Obtained Distribution: [0.0889 0.0969 0.1196 0.1096 0.0998 0.0394 0.0648 0.0067 0.0135 0.0677\n",
      " 0.1383 0.0278 0.0575 0.0188 0.0077 0.043 ]\n",
      "Output Error (Manhattan Distance): 0.1555365919975908\n",
      "Parameters Found: [5.84241117 1.56742507 7.03097583 4.37220454 6.70750324 3.98448856\n",
      " 4.17823381 3.29853207 5.16538096 3.93450075 6.14015571 2.53373987\n",
      " 1.01892696 5.53113984 3.42988409 3.76593155 0.76998906 2.73705906\n",
      " 1.40776493 2.18462862 0.65946668 4.24248691 3.88011793 6.12242435\n",
      " 1.79542831 0.12043642 4.03920988 2.60195886 2.31895085 3.43087167\n",
      " 4.58232424 4.44200057 0.6605573  2.63232125 5.69297354 1.75877291\n",
      " 2.34916708 3.83636079 5.09440989 2.72460216 5.15277249 1.80094721\n",
      " 0.52152409 4.06743281 1.98514981 6.07676982 3.17511039 6.06535777\n",
      " 2.59427586 6.06096799 2.64496823 6.16980605 6.28743683 5.33361311\n",
      " 3.68283392 2.70737599 2.79236725 1.10284116 5.19892762 4.39806535\n",
      " 0.68497122 1.48174689 1.90974061 2.06862843]\n",
      "\n",
      "Number of layers: 9\n",
      "Target Distribution: [0.08852284 0.09971485 0.13649785 0.11700814 0.09237316 0.03209631\n",
      " 0.06372009 0.05666425 0.01554143 0.01045288 0.14663274 0.02064174\n",
      " 0.05495529 0.01428785 0.01416611 0.03672449]\n",
      "Obtained Distribution: [0.0855 0.0977 0.1488 0.0131 0.0991 0.0509 0.0736 0.0421 0.0162 0.0071\n",
      " 0.144  0.0379 0.0707 0.0815 0.0036 0.0282]\n",
      "Output Error (Manhattan Distance): 0.2756317410042951\n",
      "Parameters Found: [2.53254125 5.70435209 6.90846344 1.60314349 1.1671262  1.909068\n",
      " 2.27579287 0.43025022 4.30368367 5.469486   1.17144232 4.89803842\n",
      " 3.50213521 3.82548695 3.64187963 2.98198825 3.81551423 2.7485783\n",
      " 3.19991447 1.39785503 1.88550159 4.32594024 4.34761347 2.95883646\n",
      " 4.93648    1.35425063 6.18571136 1.2288969  4.23874253 1.35829615\n",
      " 6.121512   2.70747595 0.68106722 4.2037491  2.19610038 5.14042527\n",
      " 4.95400389 4.23705669 5.4732807  2.54892854 3.11909388 2.59720966\n",
      " 1.84781113 2.26654163 3.3978051  2.35840051 4.23070221 3.31118079\n",
      " 1.74506702 4.75285566 2.63588608 5.95010283 1.14642162 5.5884412\n",
      " 5.01373629 1.16845101 2.96140795 2.49809432 2.77420839 4.93240154\n",
      " 2.94400508 5.55400093 2.2743341  1.64786935 0.70942054 4.94598346\n",
      " 3.00291643 1.63694921 7.22745058 3.44970101 1.06178255 2.29546798]\n",
      "\n",
      "Number of layers: 10\n",
      "Target Distribution: [0.08852284 0.09971485 0.13649785 0.11700814 0.09237316 0.03209631\n",
      " 0.06372009 0.05666425 0.01554143 0.01045288 0.14663274 0.02064174\n",
      " 0.05495529 0.01428785 0.01416611 0.03672449]\n",
      "Obtained Distribution: [0.0774 0.1051 0.136  0.1129 0.09   0.0297 0.0906 0.0535 0.0083 0.0165\n",
      " 0.1501 0.0131 0.0693 0.0009 0.0082 0.0384]\n",
      "Output Error (Manhattan Distance): 0.1064320383222139\n",
      "Parameters Found: [5.22955259 6.18635363 3.37958292 4.88130459 6.96905692 4.85329257\n",
      " 0.10539535 1.82649322 3.44233354 3.92012718 4.39307386 5.68538494\n",
      " 1.99644268 1.19637292 0.11516257 2.2897496  1.00508805 0.76755065\n",
      " 5.91892722 4.51742552 2.29598639 4.68224326 3.44921926 2.33610043\n",
      " 3.57020796 1.16966155 0.74801245 1.43463288 1.71857207 2.43376779\n",
      " 2.01522199 0.288022   3.05179853 1.72301375 2.47921624 4.52894515\n",
      " 3.02296229 3.35711094 0.47649662 3.96161858 3.89700185 5.4035524\n",
      " 5.29637701 3.02274561 1.45817639 0.19984624 4.41069061 3.89955285\n",
      " 5.41759471 4.9057029  2.08984911 0.19604944 3.9690307  4.30242676\n",
      " 4.62104355 0.52810559 5.11455994 1.62940362 0.34969783 0.29006233\n",
      " 5.3795288  4.78094353 2.13400489 2.72359132 5.5158259  0.75326114\n",
      " 3.26219811 1.32898155 4.71116653 2.5430704  1.21488451 1.49755087\n",
      " 3.39468622 0.93562789 4.83022306 1.65270001 3.71207304 3.75045156\n",
      " 5.20099665 3.90718232]\n",
      "\n"
     ]
    }
   ],
   "source": [
    "backend = Aer.get_backend(\"qasm_simulator\")\n",
    "NUM_SHOTS = 10000\n",
    "\n",
    "# Initialize the COBYLA optimizer\n",
    "optimizer = COBYLA(maxiter=500, tol=0.0001)\n",
    "\n",
    "# Create the initial parameters (noting that our single qubit variational form has 3 parameters)\n",
    "n_parameters_per_layer = 8\n",
    "cost_list = []\n",
    "for n_layers in range(1,11):\n",
    "    params = np.random.rand(n_layers*n_parameters_per_layer)*2*np.pi\n",
    "    ret = optimizer.optimize(num_vars=n_layers*n_parameters_per_layer, objective_function=probability_difference, \n",
    "                             initial_point=params)\n",
    "\n",
    "    # Obtain the output distribution using the final parameters\n",
    "    qc = build_variational_circuit(n_layers, ret[0])\n",
    "    qc.measure_all()\n",
    "    counts = execute(qc, backend, shots=NUM_SHOTS).result().get_counts(qc)\n",
    "    output_distr = get_probability_distribution(counts)\n",
    "    \n",
    "    cost_list.append(ret[1])\n",
    "    \n",
    "    print(\"Number of layers:\", n_layers)\n",
    "    print(\"Target Distribution:\", target_distr)\n",
    "    print(\"Obtained Distribution:\", output_distr)\n",
    "    print(\"Output Error (Manhattan Distance):\", ret[1])\n",
    "    print(\"Parameters Found:\", ret[0])\n",
    "    print('')"
   ]
  },
  {
   "cell_type": "code",
   "execution_count": 27,
   "metadata": {},
   "outputs": [
    {
     "data": {
      "image/png": "[encoded data removed]",
      "text/plain": [
       "<Figure size 432x288 with 1 Axes>"
      ]
     },
     "metadata": {
      "needs_background": "light"
     },
     "output_type": "display_data"
    }
   ],
   "source": [
    "n_layers = range(1,11)\n",
    "plt.plot(n_layers, cost_list)\n",
    "plt.xlabel(\"number of layers\")\n",
    "plt.ylabel(\"objective function\")\n",
    "plt.show()"
   ]
  },
  {
   "cell_type": "code",
   "execution_count": 28,
   "metadata": {},
   "outputs": [
    {
     "data": {
      "text/plain": [
       "(16,)"
      ]
     },
     "execution_count": 28,
     "metadata": {},
     "output_type": "execute_result"
    }
   ],
   "source": [
    "# Obtain the output distribution using the final parameters\n",
    "n_layers = 2\n",
    "params = np.random.rand(n_layers*n_parameters_per_layer)*2*np.pi\n",
    "qc = build_variational_circuit(n_layers, params)\n",
    "qc.measure_all()\n",
    "counts = execute(qc, backend, shots=NUM_SHOTS).result().get_counts(qc)\n",
    "output_distr = get_probability_distribution(counts)\n",
    "output_distr.shape"
   ]
  },
  {
   "cell_type": "code",
   "execution_count": 29,
   "metadata": {},
   "outputs": [],
   "source": [
    "density_matrix = psi @ np.transpose(np.conjugate(psi))"
   ]
  }
 ],
 "metadata": {
  "kernelspec": {
   "display_name": "Python 3",
   "language": "python",
   "name": "python3"
  },
  "language_info": {
   "codemirror_mode": {
    "name": "ipython",
    "version": 3
   },
   "file_extension": ".py",
   "mimetype": "text/x-python",
   "name": "python",
   "nbconvert_exporter": "python",
   "pygments_lexer": "ipython3",
   "version": "3.6.8"
  }
 },
 "nbformat": 4,
 "nbformat_minor": 4
}
