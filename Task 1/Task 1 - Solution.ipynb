{
 "cells": [
  {
   "cell_type": "code",
   "execution_count": 1,
   "metadata": {},
   "outputs": [],
   "source": [
    "import pennylane as qml\n",
    "from pennylane import numpy as np\n",
    "from qiskit import QuantumCircuit, QuantumRegister, ClassicalRegister, execute, Aer, IBMQ\n",
    "from qiskit.visualization import plot_histogram, plot_bloch_multivector\n",
    "from qiskit.aqua.components.optimizers import COBYLA\n",
    "import matplotlib.pyplot as plt"
   ]
  },
  {
   "cell_type": "code",
   "execution_count": 2,
   "metadata": {},
   "outputs": [],
   "source": [
    "dev = qml.device('default.qubit', wires = 2)"
   ]
  },
  {
   "cell_type": "code",
   "execution_count": 3,
   "metadata": {},
   "outputs": [],
   "source": [
    "@qml.qnode(dev)\n",
    "def circuit(params):\n",
    "    A = np.array([[ 0.5, 0.5],\n",
    "           [ 0.5,  0.5]])\n",
    "    qml.U3(params[0], params[1], params[2], wires = 0)\n",
    "    \n",
    "    return qml.expval(qml.Hermitian(A, wires = 0))"
   ]
  },
  {
   "cell_type": "code",
   "execution_count": 4,
   "metadata": {},
   "outputs": [
    {
     "data": {
      "text/plain": [
       "0.9999999999999996"
      ]
     },
     "execution_count": 4,
     "metadata": {},
     "output_type": "execute_result"
    }
   ],
   "source": [
    "params = [np.pi*0.5, 0, 0.3]\n",
    "a = circuit(params)\n",
    "a"
   ]
  },
  {
   "cell_type": "code",
   "execution_count": 5,
   "metadata": {},
   "outputs": [],
   "source": [
    "def cost(x):\n",
    "    \n",
    "    return (1.0 - circuit(x))"
   ]
  },
  {
   "cell_type": "code",
   "execution_count": 6,
   "metadata": {},
   "outputs": [
    {
     "data": {
      "text/plain": [
       "0.17789115638115482"
      ]
     },
     "execution_count": 6,
     "metadata": {},
     "output_type": "execute_result"
    }
   ],
   "source": [
    "init_params = np.array([0.7, 0, 0.3])\n",
    "cost(init_params)"
   ]
  },
  {
   "cell_type": "code",
   "execution_count": 7,
   "metadata": {},
   "outputs": [],
   "source": [
    "opt = qml.GradientDescentOptimizer(stepsize = 0.4)\n",
    "\n",
    "steps = 100\n",
    "\n",
    "params = init_params"
   ]
  },
  {
   "cell_type": "code",
   "execution_count": 8,
   "metadata": {},
   "outputs": [
    {
     "name": "stdout",
     "output_type": "stream",
     "text": [
      "[1.57079633 0.         0.3       ]\n"
     ]
    }
   ],
   "source": [
    "for i in range(steps):\n",
    "    \n",
    "    params = opt.step(cost, params)\n",
    "    \n",
    "print(params)"
   ]
  },
  {
   "cell_type": "code",
   "execution_count": 9,
   "metadata": {},
   "outputs": [
    {
     "data": {
      "text/plain": [
       "4.440892098500626e-16"
      ]
     },
     "execution_count": 9,
     "metadata": {},
     "output_type": "execute_result"
    }
   ],
   "source": [
    "cost(params)"
   ]
  },
  {
   "cell_type": "markdown",
   "metadata": {},
   "source": [
    "## Generating a proper random quantum state and its probability vector\n",
    "\n",
    "Explain some things here\n",
    "$|\\psi\\rangle \\rightarrow |\\psi\\rangle \\langle \\psi |$\n",
    "\n",
    "$|v| = \\sqrt{\\langle v| v \\rangle} = \\sqrt{v^{\\dagger}v}$"
   ]
  },
  {
   "cell_type": "code",
   "execution_count": 10,
   "metadata": {},
   "outputs": [],
   "source": [
    "def norm(complex_vector: np.array) -> float:\n",
    "    \"\"\"Returns the norm of a complex vector.\n",
    "    \n",
    "    Args:\n",
    "       complex_vector (np.arrray of shape (dim,)):\n",
    "           complex vector with an arbitrary dimension.\n",
    "           \n",
    "       \n",
    "    Returns:\n",
    "        norm (float): norm or magnitude of the complex vector.\n",
    "            \n",
    "    \"\"\"\n",
    "    \n",
    "    #define the norm of a complex vector here\n",
    "    norm = np.sqrt(sum([np.square(np.absolute(complex_vector[i])) for i in range(complex_vector.shape[0])]))\n",
    "    \n",
    "    return norm\n",
    "\n",
    "def random_quantum_state(dim: int) -> np.array:\n",
    "    \"\"\"Creates a normalized random complex vector of a defined\n",
    "    dimension.\n",
    "    \n",
    "    Args:\n",
    "        dim (int): integer number specifying the dimension\n",
    "            of the vector that we want to generate.\n",
    "            \n",
    "    Returns:\n",
    "        (np.array): normalized complex vector of the given\n",
    "            dimension.\n",
    "    \"\"\"\n",
    "    #generate an unnormalized complex vector of dimension = dim\n",
    "    Z = np.random.random(dim) + np.random.random(dim)*1j\n",
    "    \n",
    "    #normalize the complex vector Z\n",
    "    Z /= norm(Z)\n",
    "    \n",
    "    return Z\n",
    "\n",
    "def get_probabilities(complex_vector: np.array) -> np.array:\n",
    "    \"\"\"Get the probabilities associated to a quantum state.\n",
    "    This is a vector in which each element is the square of\n",
    "    the magnitude of respective complex number in that element.\n",
    "    \n",
    "    Args:\n",
    "        complex_vector (np.array):\n",
    "        \n",
    "    Retuns:\n",
    "        (np.array): \n",
    "    \"\"\"\n",
    "    \n",
    "    if 1.0 - norm(complex_vector) > 0.001:\n",
    "        print(\"Alert! The quantum state apparently is not normalized.\")\n",
    "        \n",
    "    else:\n",
    "        return np.square(np.absolute(complex_vector))"
   ]
  },
  {
   "cell_type": "code",
   "execution_count": 11,
   "metadata": {},
   "outputs": [],
   "source": [
    "#two qubits -> a complex vector of dimension 4\n",
    "n_qubits = 3\n",
    "dim = 2**(n_qubits)\n",
    "psi = random_quantum_state(dim)"
   ]
  },
  {
   "cell_type": "code",
   "execution_count": 12,
   "metadata": {},
   "outputs": [
    {
     "data": {
      "text/plain": [
       "tensor([0.13276957, 0.07809907, 0.08228659, 0.0585683 , 0.2111603 ,\n",
       "        0.18551846, 0.01017784, 0.24141987], requires_grad=True)"
      ]
     },
     "execution_count": 12,
     "metadata": {},
     "output_type": "execute_result"
    }
   ],
   "source": [
    "get_probabilities(psi)"
   ]
  },
  {
   "cell_type": "markdown",
   "metadata": {},
   "source": [
    "## Building the variational quantum circuit in Qiskit"
   ]
  },
  {
   "cell_type": "code",
   "execution_count": 13,
   "metadata": {},
   "outputs": [],
   "source": [
    "def build_variational_circuit(number_layers: int, params: np.array) -> QuantumCircuit:\n",
    "    #how many parameters will have given the number_layers\n",
    "    n_parameters = 8*number_layers\n",
    "    \n",
    "    if params.shape[0] != n_parameters:\n",
    "        print(f\"Alert! You gave {params.shape[0]} parameters for a circuit of {n_parameters} parameters.\")\n",
    "        \n",
    "    else:\n",
    "        #create the circuit\n",
    "        qr = QuantumRegister(4, name=\"q\")\n",
    "        cr = ClassicalRegister(4, name=\"c\")\n",
    "        qc = QuantumCircuit(qr, cr)\n",
    "\n",
    "        #number of parameters per layer\n",
    "        n_parameters_per_layer = 8\n",
    "        for i in range(number_layers):\n",
    "            start = i*n_parameters_per_layer\n",
    "            end = (i+1)*n_parameters_per_layer \n",
    "            layer(qc, params[start:end])\n",
    "            \n",
    "        return qc\n",
    "    \n",
    "def layer(qc: QuantumCircuit, params: np.array) -> None:\n",
    "    \n",
    "    n_parameters = 8\n",
    "    \n",
    "    if params.shape[0] != n_parameters:\n",
    "        print(f\"Alert! You gave {params.shape[0]} parameters for a layer of {n_parameters} parameters.\")\n",
    "        \n",
    "    else:\n",
    "        odd_block(qc, params[:int(n_parameters/2)])\n",
    "        even_block(qc, params[int(n_parameters/2):])\n",
    "        qc.barrier()\n",
    "        \n",
    "#qiskit  odd block\n",
    "def odd_block(qc: QuantumCircuit, params: np.array) -> None:\n",
    "    \n",
    "    n_parameters = 4\n",
    "    \n",
    "    if params.shape[0] != n_parameters:\n",
    "        print(f\"Alert! You gave {params.shape[0]} parameters for a block of {n_parameters} parameters.\")\n",
    "        \n",
    "    else:\n",
    "    \n",
    "        for i in range(n_parameters):\n",
    "            qc.rx(params[i], i)\n",
    "        \n",
    "#qiskit even block\n",
    "def even_block(qc: QuantumCircuit, params: np.array) -> None:\n",
    "    \n",
    "    n_parameters = 4\n",
    "    \n",
    "    if params.shape[0] != n_parameters:\n",
    "        print(f\"Alert! You gave {params.shape[0]} parameters for a block of {n_parameters} parameters.\")\n",
    "        \n",
    "    else:\n",
    "    \n",
    "        for i in range(n_parameters):\n",
    "            qc.rz(params[i], i)\n",
    "\n",
    "        tuples = [(i,j) for i in range(n_parameters) for j in range(n_parameters) if i < j]\n",
    "\n",
    "        for tup in tuples:\n",
    "            qc.cz(tup[0], tup[1])"
   ]
  },
  {
   "cell_type": "code",
   "execution_count": 14,
   "metadata": {},
   "outputs": [],
   "source": [
    "n_parameters_per_layer = 8\n",
    "n_layers = 2\n",
    "params = np.random.rand(n_layers*n_parameters_per_layer)*2*np.pi\n",
    "qc = build_variational_circuit(n_layers, params)"
   ]
  },
  {
   "cell_type": "code",
   "execution_count": 15,
   "metadata": {},
   "outputs": [
    {
     "data": {
      "image/png": "[encoded data removed]",
      "text/plain": [
       "<Figure size 1224.38x325.08 with 1 Axes>"
      ]
     },
     "execution_count": 15,
     "metadata": {},
     "output_type": "execute_result"
    }
   ],
   "source": [
    "qc.draw(output='mpl')"
   ]
  },
  {
   "cell_type": "markdown",
   "metadata": {},
   "source": [
    "## Optimization"
   ]
  },
  {
   "cell_type": "code",
   "execution_count": 16,
   "metadata": {},
   "outputs": [
    {
     "name": "stdout",
     "output_type": "stream",
     "text": [
      "[-0.04139887-0.09906916j  0.15582585-0.17790073j  0.1858667 +0.0370448j\n",
      " -0.29537277-0.66323979j -0.05880619-0.04529795j  0.02657815+0.15272407j\n",
      " -0.18063365+0.01950777j -0.1771886 +0.39216392j -0.04025377-0.00583108j\n",
      "  0.0286566 +0.0854889j  -0.04916096+0.05242714j -0.27290961-0.01856221j\n",
      "  0.02637661-0.01037806j  0.05331677+0.01991508j -0.02797612+0.06512998j\n",
      " -0.10521606-0.10881386j]\n"
     ]
    }
   ],
   "source": [
    "backend = Aer.get_backend('statevector_simulator')\n",
    "\n",
    "job = execute(qc, backend)\n",
    "\n",
    "result = job.result()\n",
    "\n",
    "outputstate = result.get_statevector(qc, decimals=3)\n",
    "print(outputstate)"
   ]
  },
  {
   "cell_type": "code",
   "execution_count": 17,
   "metadata": {},
   "outputs": [],
   "source": [
    "def norm_vector_difference(params):\n",
    "    \n",
    "    qc = build_variational_circuit(n_layers, params)\n",
    "    \n",
    "    job = execute(qc, backend)\n",
    "    \n",
    "    result = job.result()\n",
    "\n",
    "    outputstate = result.get_statevector(qc, decimals=3)\n",
    "    \n",
    "    diff = outputstate - target_vector\n",
    "    \n",
    "    \n",
    "    return norm(diff)\n",
    "\n",
    "def get_probability_distribution(counts):\n",
    "    output_distr = [v / NUM_SHOTS for v in counts.values()]\n",
    "    if len(output_distr) == 1:\n",
    "        output_distr.append(0)\n",
    "    output_distr = np.asarray(output_distr)\n",
    "    \n",
    "    return output_distr\n",
    "\n",
    "def probability_difference(params):\n",
    "    # Obtain a quantum circuit instance from the paramters\n",
    "    qc = build_variational_circuit(n_layers, params)\n",
    "    # Measure all qubits\n",
    "    qc.measure_all()\n",
    "    # Execute the quantum circuit to obtain the probability distribution associated with the current parameters\n",
    "    result = execute(qc, backend, shots=NUM_SHOTS).result()\n",
    "    # Obtain the counts for each measured state, and convert those counts into a probability vector\n",
    "    output_distr = get_probability_distribution(result.get_counts(qc))\n",
    "    # Calculate the cost as the distance between the output distribution and the target distribution\n",
    "    cost = sum([np.absolute(output_distr[i] - target_distr[i]) for i in range(output_distr.shape[0])])\n",
    "    return cost"
   ]
  },
  {
   "cell_type": "code",
   "execution_count": 18,
   "metadata": {},
   "outputs": [],
   "source": [
    "n_qubits = 4\n",
    "dim = n_qubits**2\n",
    "target_vector = random_quantum_state(dim)\n",
    "target_distr = get_probabilities(target_vector)"
   ]
  },
  {
   "cell_type": "code",
   "execution_count": 19,
   "metadata": {
    "scrolled": false
   },
   "outputs": [
    {
     "name": "stdout",
     "output_type": "stream",
     "text": [
      "Number of layers: 1\n",
      "Target Vector: [0.12782348+0.25120257j 0.20268652+0.17524096j 0.24583628+0.17861963j\n",
      " 0.21118092+0.06194898j 0.2530496 +0.09419125j 0.00203256+0.04430726j\n",
      " 0.19264602+0.28354154j 0.2291919 +0.12188836j 0.02939776+0.17906887j\n",
      " 0.16088031+0.21692192j 0.12899148+0.26295999j 0.08109078+0.17768977j\n",
      " 0.1400312 +0.26061912j 0.16753044+0.06893906j 0.05878861+0.21435471j\n",
      " 0.18946869+0.11299651j]\n",
      "Obtained Vector: [-0.2488955 +0.j          0.04843528+0.15366678j  0.22469791+0.19671856j\n",
      " -0.0777266 +0.17700892j  0.27492225+0.21749203j -0.08077833+0.2120597j\n",
      "  0.07629602+0.41363672j  0.24052987-0.12759883j  0.09391229+0.16137441j\n",
      " -0.0813563 +0.08938456j -0.04276271+0.21991071j  0.14409338-0.01639334j\n",
      " -0.03728099+0.26031243j  0.16797045-0.02763994j  0.23939866-0.20553927j\n",
      "  0.17348605+0.10780536j]\n",
      "Norm difference: 0.9341652429447447\n",
      "Parameters Found: [5.13418289 1.75201041 4.37642443 4.99597754 2.83625278 5.43149087\n",
      " 2.24008916 2.61454886]\n",
      "\n",
      "Number of layers: 2\n",
      "Target Vector: [0.12782348+0.25120257j 0.20268652+0.17524096j 0.24583628+0.17861963j\n",
      " 0.21118092+0.06194898j 0.2530496 +0.09419125j 0.00203256+0.04430726j\n",
      " 0.19264602+0.28354154j 0.2291919 +0.12188836j 0.02939776+0.17906887j\n",
      " 0.16088031+0.21692192j 0.12899148+0.26295999j 0.08109078+0.17768977j\n",
      " 0.1400312 +0.26061912j 0.16753044+0.06893906j 0.05878861+0.21435471j\n",
      " 0.18946869+0.11299651j]\n",
      "Obtained Vector: [0.16434154+0.24420744j 0.17285297+0.13114483j 0.21530963+0.2427845j\n",
      " 0.25869634+0.07223038j 0.24625419+0.12484532j 0.17307562+0.07919093j\n",
      " 0.22125424+0.22808994j 0.20256818+0.10889459j 0.09211899+0.20738456j\n",
      " 0.13691935+0.1386612j  0.12404839+0.28823105j 0.07428062+0.20461855j\n",
      " 0.0673677 +0.2365679j  0.10808854+0.11510754j 0.13043389+0.2004386j\n",
      " 0.1717463 +0.12275581j]\n",
      "Norm difference: 0.27926224260345583\n",
      "Parameters Found: [ 1.28566398  4.87316047  1.47715509  4.88072493  1.88831842  0.86043043\n",
      "  7.27787511  6.40752227  6.52001053  3.32772503 -0.15913003  5.91733497\n",
      "  2.49768815  2.39150878  3.58731291  1.84386695]\n",
      "\n",
      "Number of layers: 3\n",
      "Target Vector: [0.12782348+0.25120257j 0.20268652+0.17524096j 0.24583628+0.17861963j\n",
      " 0.21118092+0.06194898j 0.2530496 +0.09419125j 0.00203256+0.04430726j\n",
      " 0.19264602+0.28354154j 0.2291919 +0.12188836j 0.02939776+0.17906887j\n",
      " 0.16088031+0.21692192j 0.12899148+0.26295999j 0.08109078+0.17768977j\n",
      " 0.1400312 +0.26061912j 0.16753044+0.06893906j 0.05878861+0.21435471j\n",
      " 0.18946869+0.11299651j]\n",
      "Obtained Vector: [0.10768577+0.269739j   0.19181554+0.14883929j 0.20455396+0.1524532j\n",
      " 0.20042661+0.13249883j 0.21627602+0.1370516j  0.04301539+0.07428093j\n",
      " 0.29152724+0.3043669j  0.20400605+0.07193336j 0.03508978+0.21426131j\n",
      " 0.21490672+0.16097466j 0.10397413+0.21613738j 0.11966178+0.20775417j\n",
      " 0.13158247+0.26514084j 0.12711537+0.17032623j 0.09127231+0.18412563j\n",
      " 0.14867083+0.07195882j]\n",
      "Norm difference: 0.24084501067615985\n",
      "Parameters Found: [ 3.11430788  4.60712806  5.0378672   4.90479073  6.52245341  2.50381199\n",
      "  3.20286332  6.34733519  4.75738525  3.0913454   4.63726761  1.0821407\n",
      "  0.74039823  4.05384784  2.57979426  5.84775142  4.53715754  4.08553746\n",
      "  3.24138747  0.33252854 -0.32320008  1.39633983  5.54542522  3.85260737]\n",
      "\n",
      "Number of layers: 4\n",
      "Target Vector: [0.12782348+0.25120257j 0.20268652+0.17524096j 0.24583628+0.17861963j\n",
      " 0.21118092+0.06194898j 0.2530496 +0.09419125j 0.00203256+0.04430726j\n",
      " 0.19264602+0.28354154j 0.2291919 +0.12188836j 0.02939776+0.17906887j\n",
      " 0.16088031+0.21692192j 0.12899148+0.26295999j 0.08109078+0.17768977j\n",
      " 0.1400312 +0.26061912j 0.16753044+0.06893906j 0.05878861+0.21435471j\n",
      " 0.18946869+0.11299651j]\n",
      "Obtained Vector: [0.09298784+0.08545849j 0.21134803+0.20856487j 0.22443397+0.18938664j\n",
      " 0.28685732+0.07064133j 0.24280635+0.18878671j 0.13749186+0.07541846j\n",
      " 0.19217609+0.23551751j 0.27290347+0.08281076j 0.08560895+0.1954592j\n",
      " 0.16217552+0.18318159j 0.16176903+0.30498624j 0.01011022+0.1546257j\n",
      " 0.15958092+0.20406847j 0.08995981+0.17618634j 0.04389811+0.16163034j\n",
      " 0.1995207 +0.08218974j]\n",
      "Norm difference: 0.32938041524067074\n",
      "Parameters Found: [ 2.72678486  1.99173587 -1.1149766   6.56903987  2.1863771   3.83564519\n",
      "  5.06865602  3.80004333  2.38814281  2.94878248  0.96766686  5.9702514\n",
      "  0.13768951  1.75445426  3.30299679  5.35476795  4.75684203  3.52663807\n",
      "  0.72466453  5.00670534  2.65824065  1.89881412  0.69518854  2.49194304\n",
      "  2.66030909  0.69585645 -0.54084747  3.77876461  1.40860149  1.6332589\n",
      "  1.66068517  1.211105  ]\n",
      "\n",
      "Number of layers: 5\n",
      "Target Vector: [0.12782348+0.25120257j 0.20268652+0.17524096j 0.24583628+0.17861963j\n",
      " 0.21118092+0.06194898j 0.2530496 +0.09419125j 0.00203256+0.04430726j\n",
      " 0.19264602+0.28354154j 0.2291919 +0.12188836j 0.02939776+0.17906887j\n",
      " 0.16088031+0.21692192j 0.12899148+0.26295999j 0.08109078+0.17768977j\n",
      " 0.1400312 +0.26061912j 0.16753044+0.06893906j 0.05878861+0.21435471j\n",
      " 0.18946869+0.11299651j]\n",
      "Obtained Vector: [0.1129222 +0.18318925j 0.26351991+0.23826785j 0.19921376+0.18254041j\n",
      " 0.27548514+0.06359964j 0.26573647+0.07697316j 0.0250724 +0.096206j\n",
      " 0.18567269+0.29770118j 0.15061788+0.1020046j  0.00893801+0.14761256j\n",
      " 0.1871    +0.25737964j 0.1193373 +0.22887834j 0.11165019+0.11848928j\n",
      " 0.15495926+0.27932712j 0.06498954+0.06926509j 0.07038647+0.28416468j\n",
      " 0.12560464+0.05591089j]\n",
      "Norm difference: 0.24941226499526395\n",
      "Parameters Found: [ 0.75272684  3.62490625  1.34179677 -0.10071495  3.51278161  1.48525725\n",
      "  6.65691143  4.12200982  2.80076076  5.93479614  4.15668937  3.18885198\n",
      "  1.36539305  2.58976051  0.63796809  6.05379355  1.94421609  0.95435603\n",
      "  4.45425155  5.9799357   2.52721707  2.90383126  0.49479917  3.07797184\n",
      "  4.45587027  4.64447958  3.35437528  4.64939803  2.54630581  5.58498018\n",
      "  2.3765275   1.99611265  0.35001904  5.34929837  5.69221021  5.36723911\n",
      "  2.90520997  1.78161227  4.10483625  6.56309233]\n",
      "\n",
      "Number of layers: 6\n",
      "Target Vector: [0.12782348+0.25120257j 0.20268652+0.17524096j 0.24583628+0.17861963j\n",
      " 0.21118092+0.06194898j 0.2530496 +0.09419125j 0.00203256+0.04430726j\n",
      " 0.19264602+0.28354154j 0.2291919 +0.12188836j 0.02939776+0.17906887j\n",
      " 0.16088031+0.21692192j 0.12899148+0.26295999j 0.08109078+0.17768977j\n",
      " 0.1400312 +0.26061912j 0.16753044+0.06893906j 0.05878861+0.21435471j\n",
      " 0.18946869+0.11299651j]\n",
      "Obtained Vector: [ 0.07521397+0.33484419j  0.23709018+0.16609176j  0.19730528+0.14746258j\n",
      "  0.21699757+0.03329492j  0.19053177+0.02994481j -0.04816727+0.00584698j\n",
      "  0.10355866+0.31512024j  0.2474545 +0.05007281j  0.09273765+0.18355726j\n",
      "  0.19373772+0.26427386j  0.09804731+0.17711201j  0.03847945+0.17905785j\n",
      "  0.13161061+0.28816805j  0.27301075+0.12993971j  0.11318385+0.15943653j\n",
      "  0.12036086+0.08684395j]\n",
      "Norm difference: 0.2937390288548968\n",
      "Parameters Found: [3.91242558 4.74997396 2.21528678 3.87299527 1.59286365 3.6234106\n",
      " 4.02828198 1.99177933 3.88071369 3.51183858 5.06991642 2.89388247\n",
      " 3.22450071 0.28103556 0.58148855 5.68527089 2.29770284 3.59339277\n",
      " 3.59331179 3.02936502 0.68107073 4.97736587 1.84176131 6.66030334\n",
      " 3.19506724 5.51144405 5.03664207 5.04590772 4.62530624 5.96587484\n",
      " 0.35702751 0.49939006 3.33304435 5.16715949 4.03624516 0.91245482\n",
      " 0.23638587 0.85351471 2.35572618 3.51610697 0.43195292 4.18445686\n",
      " 1.15779197 3.60752809 4.36996341 3.6804305  2.23957748 2.09258937]\n",
      "\n",
      "Number of layers: 7\n",
      "Target Vector: [0.12782348+0.25120257j 0.20268652+0.17524096j 0.24583628+0.17861963j\n",
      " 0.21118092+0.06194898j 0.2530496 +0.09419125j 0.00203256+0.04430726j\n",
      " 0.19264602+0.28354154j 0.2291919 +0.12188836j 0.02939776+0.17906887j\n",
      " 0.16088031+0.21692192j 0.12899148+0.26295999j 0.08109078+0.17768977j\n",
      " 0.1400312 +0.26061912j 0.16753044+0.06893906j 0.05878861+0.21435471j\n",
      " 0.18946869+0.11299651j]\n",
      "Obtained Vector: [0.06465671+0.27446371j 0.2184964 +0.23739847j 0.25814193+0.0948771j\n",
      " 0.15795744-0.00116051j 0.21035434+0.03771028j 0.02499667-0.02747415j\n",
      " 0.2412075 +0.24690438j 0.22550084+0.21580642j 0.0068189 +0.11068679j\n",
      " 0.15063958+0.26771196j 0.06560942+0.32872575j 0.08174302+0.18705724j\n",
      " 0.12926256+0.22953401j 0.23858566-0.02226699j 0.07190952+0.18925293j\n",
      " 0.10482742+0.11267414j]\n",
      "Norm difference: 0.29080784245523555\n",
      "Parameters Found: [2.71157293 7.07876023 0.9275521  2.92631701 5.46057952 5.44598938\n",
      " 2.59671605 4.78100957 1.63129665 2.10642909 6.93960607 0.85401817\n",
      " 3.41182497 4.31857695 3.84452928 3.7754654  3.33095643 0.4471462\n",
      " 5.28239497 0.74333703 5.53480943 1.61112631 2.82505857 5.31688617\n",
      " 0.99920808 4.67917224 3.72548131 1.34834673 2.1117818  1.05473166\n",
      " 1.06254433 4.06267223 1.55969901 1.61469934 2.23649881 6.63955976\n",
      " 1.51620927 1.68271664 5.72499378 0.45643658 4.02089165 4.59752698\n",
      " 6.13575072 3.96812549 3.03570786 1.74022109 5.77381945 1.87187704\n",
      " 6.04420507 1.64387007 1.07217462 2.51123989 6.11004676 2.63671112\n",
      " 1.26784004 0.50612874]\n",
      "\n"
     ]
    },
    {
     "name": "stdout",
     "output_type": "stream",
     "text": [
      "Number of layers: 8\n",
      "Target Vector: [0.12782348+0.25120257j 0.20268652+0.17524096j 0.24583628+0.17861963j\n",
      " 0.21118092+0.06194898j 0.2530496 +0.09419125j 0.00203256+0.04430726j\n",
      " 0.19264602+0.28354154j 0.2291919 +0.12188836j 0.02939776+0.17906887j\n",
      " 0.16088031+0.21692192j 0.12899148+0.26295999j 0.08109078+0.17768977j\n",
      " 0.1400312 +0.26061912j 0.16753044+0.06893906j 0.05878861+0.21435471j\n",
      " 0.18946869+0.11299651j]\n",
      "Obtained Vector: [ 0.12794234+0.24718204j  0.21403773+0.16532466j  0.18254809+0.11735076j\n",
      "  0.14429706+0.06272174j  0.24054387+0.11888537j -0.01678298+0.14673172j\n",
      "  0.1558375 +0.30886337j  0.23782582+0.09524304j -0.01112596+0.25164119j\n",
      "  0.16420128+0.25739004j  0.13330222+0.29556346j  0.08266743+0.12131058j\n",
      "  0.12234413+0.25054476j  0.14751746+0.02019399j  0.06868468+0.2070236j\n",
      "  0.2349214 +0.1113776j ]\n",
      "Norm difference: 0.2123668896226647\n",
      "Parameters Found: [3.79493142 6.10712229 3.88345843 3.47887639 3.82619841 2.50590911\n",
      " 3.93817771 4.71191319 3.60576371 5.5288144  2.75621089 3.61272575\n",
      " 3.49150439 5.41302755 0.38913501 2.43430167 2.21030792 3.70810591\n",
      " 5.72882543 3.27576122 4.54454947 3.1638604  0.94787429 0.64007885\n",
      " 3.82604365 5.78087525 1.70575302 5.11091164 2.9473787  2.9021613\n",
      " 5.46570872 6.2560464  4.05852805 1.25602799 3.46968502 4.53264266\n",
      " 0.82868277 6.52630428 2.19943604 0.48350025 3.64293092 4.39167438\n",
      " 4.6366135  0.75430261 2.24901062 5.90791833 4.38959767 0.68162599\n",
      " 2.37006374 5.33578467 1.11776401 2.06620745 3.1809673  2.32287117\n",
      " 5.99185698 2.73968522 5.59425431 6.06520108 0.02080642 1.35501074\n",
      " 4.69814035 1.89117957 0.42273786 4.55114794]\n",
      "\n",
      "Number of layers: 9\n",
      "Target Vector: [0.12782348+0.25120257j 0.20268652+0.17524096j 0.24583628+0.17861963j\n",
      " 0.21118092+0.06194898j 0.2530496 +0.09419125j 0.00203256+0.04430726j\n",
      " 0.19264602+0.28354154j 0.2291919 +0.12188836j 0.02939776+0.17906887j\n",
      " 0.16088031+0.21692192j 0.12899148+0.26295999j 0.08109078+0.17768977j\n",
      " 0.1400312 +0.26061912j 0.16753044+0.06893906j 0.05878861+0.21435471j\n",
      " 0.18946869+0.11299651j]\n",
      "Obtained Vector: [ 0.14688135+0.25179487j  0.1821027 +0.14731289j  0.30791662+0.17947777j\n",
      "  0.19096045+0.05048765j  0.19453327+0.0965411j  -0.02607349+0.14934729j\n",
      "  0.19639769+0.29519034j  0.19718974+0.06550656j  0.0632827 +0.12832627j\n",
      "  0.18837262+0.16979935j  0.11380906+0.2407337j   0.08240425+0.18105114j\n",
      "  0.14717494+0.24438142j  0.21848196+0.15484614j  0.0580801 +0.20566135j\n",
      "  0.21422258+0.123173j  ]\n",
      "Norm difference: 0.20997164187283696\n",
      "Parameters Found: [ 0.43556768  2.6839804   5.44050058  4.8297051   5.25130256  5.58850568\n",
      "  5.5865811   1.12394663  1.40608086  2.83473847  1.31778824  2.52022601\n",
      "  2.60128693  5.90225557  1.78478602  4.18080938  0.86625841  0.04161155\n",
      "  5.61076165  3.04260035  4.42580512  1.9834159   0.99719202  1.62727545\n",
      "  5.42532476  4.43485068  4.43551084  5.54709613  2.24303149  2.92521705\n",
      "  5.80151391  4.39757349  1.50336928  2.49721624  5.87922668  5.31843236\n",
      "  2.58786263  3.75564623  4.35027337  6.23096199  2.06387884  5.92955497\n",
      "  5.81437686  4.84824038  4.59744271  0.80335335  2.99942804  0.59956872\n",
      "  3.96089008  0.45785984  4.31042613  3.28125455  3.33267759  1.24475136\n",
      "  4.16742691  0.71326218  3.66061914  5.65939054  0.95546574  4.51297248\n",
      "  3.42882609  5.89695853 -0.08064449  3.55334072  5.0552871   3.95820154\n",
      "  4.38891939  5.97955495  5.72065344  2.01582599  1.96894037  5.2723776 ]\n",
      "\n",
      "Number of layers: 10\n",
      "Target Vector: [0.12782348+0.25120257j 0.20268652+0.17524096j 0.24583628+0.17861963j\n",
      " 0.21118092+0.06194898j 0.2530496 +0.09419125j 0.00203256+0.04430726j\n",
      " 0.19264602+0.28354154j 0.2291919 +0.12188836j 0.02939776+0.17906887j\n",
      " 0.16088031+0.21692192j 0.12899148+0.26295999j 0.08109078+0.17768977j\n",
      " 0.1400312 +0.26061912j 0.16753044+0.06893906j 0.05878861+0.21435471j\n",
      " 0.18946869+0.11299651j]\n",
      "Obtained Vector: [ 0.11126039+0.23307857j  0.21847647+0.16549511j  0.24481658+0.16107075j\n",
      "  0.32854725+0.05644354j  0.25936522+0.1553673j  -0.03605233-0.02269144j\n",
      "  0.08240628+0.19186438j  0.13309929+0.19475685j -0.06328386+0.18019685j\n",
      "  0.12058493+0.23223943j  0.0931217 +0.17056441j  0.16293525+0.1627301j\n",
      "  0.21930981+0.22399296j  0.1501257 +0.11422181j -0.01046226+0.22102672j\n",
      "  0.26767   +0.13596485j]\n",
      "Norm difference: 0.32945816418249085\n",
      "Parameters Found: [7.23888587 4.53298286 4.64408086 4.39720808 4.70432417 3.03566996\n",
      " 1.5926817  2.13222991 2.11990236 4.67648507 4.83959343 4.48490625\n",
      " 5.96772201 1.97399263 5.49532716 1.94125957 4.12836096 2.29186591\n",
      " 0.51512906 6.85266907 7.05726561 4.14324576 4.15627028 6.64236144\n",
      " 4.08496215 1.93517377 0.73253292 0.69155705 0.08913712 2.35235292\n",
      " 5.96321581 6.57713413 2.46406526 3.00775908 4.52706385 5.05635072\n",
      " 3.78102789 2.73949293 2.8056308  4.84866977 0.87384461 1.0507119\n",
      " 5.15121204 2.42339052 0.89674451 2.73726173 0.902081   4.1851166\n",
      " 2.6382277  3.30001996 5.62961611 1.80657405 5.81976936 6.22964283\n",
      " 3.17887151 3.69327947 1.59592059 1.1668961  3.80625677 1.78276251\n",
      " 1.64481587 3.78013502 4.13415499 5.16914209 4.31813775 6.1719168\n",
      " 2.60431106 5.80582945 2.50798006 6.49258083 5.48672485 3.19679734\n",
      " 0.87569985 3.25809218 1.57367936 2.97497397 1.71949215 0.30961318\n",
      " 1.95878786 0.78815629]\n",
      "\n"
     ]
    }
   ],
   "source": [
    "# Initialize the COBYLA optimizer\n",
    "optimizer = COBYLA(maxiter=500, tol=0.0001)\n",
    "\n",
    "# Create the initial parameters (noting that our single qubit variational form has 3 parameters)\n",
    "cost_list = []\n",
    "for n_layers in range(1,11):\n",
    "    n_parameters_per_layer = 8\n",
    "    params = np.random.rand(n_layers*n_parameters_per_layer)*2*np.pi\n",
    "    ret = optimizer.optimize(num_vars=n_layers*n_parameters_per_layer, objective_function=norm_vector_difference, \n",
    "                             initial_point=params)\n",
    "\n",
    "    # Obtain the output distribution using the final parameters\n",
    "    qc = build_variational_circuit(n_layers, ret[0])\n",
    "    final_vector = execute(qc, backend).result().get_statevector(qc, decimals = 3)\n",
    "    \n",
    "    #save cost function values\n",
    "    cost_list.append(ret[1])\n",
    "    \n",
    "    print(\"Number of layers:\", n_layers)\n",
    "    print(\"Target Vector:\", target_vector)\n",
    "    print(\"Obtained Vector:\", final_vector)\n",
    "    print(\"Norm difference:\", ret[1])\n",
    "    print(\"Parameters Found:\", ret[0])\n",
    "    print('')"
   ]
  },
  {
   "cell_type": "code",
   "execution_count": 20,
   "metadata": {},
   "outputs": [
    {
     "data": {
      "image/png": "[encoded data removed]",
      "text/plain": [
       "<Figure size 432x288 with 1 Axes>"
      ]
     },
     "metadata": {
      "needs_background": "light"
     },
     "output_type": "display_data"
    }
   ],
   "source": [
    "n_layers = range(1,11)\n",
    "plt.plot(n_layers, cost_list)\n",
    "plt.xlabel(\"number of layers\")\n",
    "plt.ylabel(\"objective function\")\n",
    "plt.show()"
   ]
  },
  {
   "cell_type": "code",
   "execution_count": 21,
   "metadata": {
    "scrolled": false
   },
   "outputs": [
    {
     "name": "stdout",
     "output_type": "stream",
     "text": [
      "Number of layers: 1\n",
      "Target Distribution: [0.07944158 0.07179122 0.09234045 0.04843506 0.07290609 0.00196726\n",
      " 0.11750829 0.0673857  0.03292989 0.07293759 0.08578676 0.03814937\n",
      " 0.08753106 0.03281904 0.04940404 0.0486666 ]\n",
      "Obtained Distribution: [0.0757 0.0392 0.0921 0.0494 0.0855 0.0425 0.1032 0.0556 0.0647 0.0344\n",
      " 0.0787 0.0394 0.0719 0.0368 0.088  0.0429]\n",
      "Output Error (Manhattan Distance): 0.26349759952109014\n",
      "Parameters Found: [5.02999964 4.60006946 1.61238871 1.48104415 5.44243958 5.11952382\n",
      " 4.2520617  4.90996758]\n",
      "\n",
      "Number of layers: 2\n",
      "Target Distribution: [0.07944158 0.07179122 0.09234045 0.04843506 0.07290609 0.00196726\n",
      " 0.11750829 0.0673857  0.03292989 0.07293759 0.08578676 0.03814937\n",
      " 0.08753106 0.03281904 0.04940404 0.0486666 ]\n",
      "Obtained Distribution: [0.0456 0.0846 0.0961 0.1119 0.0939 0.0196 0.1002 0.0657 0.025  0.0674\n",
      " 0.045  0.093  0.0451 0.0155 0.0454 0.046 ]\n",
      "Output Error (Manhattan Distance): 0.3381019979596539\n",
      "Parameters Found: [1.53637825 7.64105539 3.64436327 0.13764081 4.60613646 2.69138464\n",
      " 5.38818765 4.86040524 1.0537754  3.09857913 1.73393836 7.60834389\n",
      " 3.79596588 2.82719074 1.95166459 1.51682378]\n",
      "\n",
      "Number of layers: 3\n",
      "Target Distribution: [0.07944158 0.07179122 0.09234045 0.04843506 0.07290609 0.00196726\n",
      " 0.11750829 0.0673857  0.03292989 0.07293759 0.08578676 0.03814937\n",
      " 0.08753106 0.03281904 0.04940404 0.0486666 ]\n",
      "Obtained Distribution: [0.0737 0.0472 0.13   0.0782 0.0926 0.0525 0.1179 0.0873 0.0009 0.0422\n",
      " 0.0881 0.1188 0.0095 0.0117 0.0494]\n",
      "Output Error (Manhattan Distance): 0.4341920311916829\n",
      "Parameters Found: [ 4.74273166  5.45474243  1.25672859  2.52480492  4.1866804   0.47617556\n",
      "  4.61363539 -0.47120211  3.34788301  0.11164305  3.05487614  1.98244493\n",
      "  2.14607256  1.79822567  1.2280019   6.6158443   0.6600774   2.40616848\n",
      "  2.80870293  0.53056684  1.3806895   6.08736527  4.9254584   5.51748006]\n",
      "\n",
      "Number of layers: 4\n",
      "Target Distribution: [0.07944158 0.07179122 0.09234045 0.04843506 0.07290609 0.00196726\n",
      " 0.11750829 0.0673857  0.03292989 0.07293759 0.08578676 0.03814937\n",
      " 0.08753106 0.03281904 0.04940404 0.0486666 ]\n",
      "Obtained Distribution: [0.0284 0.0716 0.0931 0.0833 0.0887 0.0093 0.1184 0.0811 0.0442 0.0868\n",
      " 0.0457 0.0416 0.0856 0.0236 0.0503 0.0483]\n",
      "Output Error (Manhattan Distance): 0.21433931604924808\n",
      "Parameters Found: [3.04061188 0.79263588 0.60255313 0.50229727 2.70020807 1.65730686\n",
      " 7.11520682 3.43159104 6.78701793 4.68854318 5.10501689 5.78973625\n",
      " 5.96409088 4.51597076 2.91232174 1.80333737 1.51848964 0.60669127\n",
      " 2.96270622 1.21017411 1.80410381 4.08657281 2.42470945 6.62212252\n",
      " 4.9327486  0.21520901 5.16897715 5.99617301 3.12379011 3.7006172\n",
      " 3.90874058 0.55920124]\n",
      "\n",
      "Number of layers: 5\n",
      "Target Distribution: [0.07944158 0.07179122 0.09234045 0.04843506 0.07290609 0.00196726\n",
      " 0.11750829 0.0673857  0.03292989 0.07293759 0.08578676 0.03814937\n",
      " 0.08753106 0.03281904 0.04940404 0.0486666 ]\n",
      "Obtained Distribution: [0.0743 0.0665 0.0777 0.0419 0.0814 0.0127 0.1167 0.0625 0.0549 0.0814\n",
      " 0.0894 0.1062 0.07   0.0129 0.0293 0.0222]\n",
      "Output Error (Manhattan Distance): 0.19347819023941998\n",
      "Parameters Found: [3.91616729 0.62889017 1.63277545 4.59437651 2.89705247 3.24431929\n",
      " 5.74554653 1.22056723 6.38287473 1.49698796 5.91911936 2.21170584\n",
      " 4.41156402 3.75439383 0.39637249 1.60794583 3.75037809 0.25438285\n",
      " 5.02932062 4.19799684 7.39448782 0.88413915 2.3948977  1.70210689\n",
      " 5.11426298 4.79323548 4.93342181 1.08617725 5.63188144 4.39135076\n",
      " 4.86694732 4.62880961 1.64322659 6.19781274 0.37357918 6.98540772\n",
      " 1.70786648 5.05717011 6.38678895 4.25044278]\n",
      "\n",
      "Number of layers: 6\n",
      "Target Distribution: [0.07944158 0.07179122 0.09234045 0.04843506 0.07290609 0.00196726\n",
      " 0.11750829 0.0673857  0.03292989 0.07293759 0.08578676 0.03814937\n",
      " 0.08753106 0.03281904 0.04940404 0.0486666 ]\n",
      "Obtained Distribution: [0.1118 0.0823 0.0954 0.0243 0.0745 0.0163 0.1192 0.042  0.034  0.042\n",
      " 0.0713 0.024  0.0834 0.0352 0.0771 0.0672]\n",
      "Output Error (Manhattan Distance): 0.20332744458802987\n",
      "Parameters Found: [ 2.9132199   2.4042047   1.83772865  3.70991919  4.46106692  4.15848276\n",
      "  2.29756006  6.49451793  1.12782042  4.19281463  4.27966306 -0.06073778\n",
      "  3.6734006   3.26396972  4.74932886  5.81447468  4.09100499  2.38879933\n",
      "  3.6582531   3.63806025  2.55271498  0.38620011  2.15126291  2.32873181\n",
      "  4.77514102 -0.10525885  3.75270867  3.31491835  4.81549551  5.43994592\n",
      "  0.13472258  3.98894021  4.46243077  5.84008785  2.19889449  4.04264298\n",
      "  0.69685543  0.60926998  6.94595874  1.96082646  0.47153645  2.34999066\n",
      "  2.62393233  0.24606305 -0.60257637  7.03548271  0.49059113  5.3018322 ]\n",
      "\n",
      "Number of layers: 7\n",
      "Target Distribution: [0.07944158 0.07179122 0.09234045 0.04843506 0.07290609 0.00196726\n",
      " 0.11750829 0.0673857  0.03292989 0.07293759 0.08578676 0.03814937\n",
      " 0.08753106 0.03281904 0.04940404 0.0486666 ]\n",
      "Obtained Distribution: [0.0841 0.0714 0.0722 0.0276 0.0609 0.007  0.1152 0.0654 0.032  0.0607\n",
      " 0.0912 0.0502 0.1036 0.0682 0.0403 0.05  ]\n",
      "Output Error (Manhattan Distance): 0.141428906071894\n",
      "Parameters Found: [7.62860056 5.06182785 5.97722582 4.85526399 5.31385504 1.74657888\n",
      " 2.92901741 4.64321498 1.34109464 1.74749067 1.00817403 3.64090685\n",
      " 3.43474294 1.72560862 5.98085838 3.7347295  0.24240074 2.4553668\n",
      " 4.76480546 2.87908407 5.97933018 3.34202815 3.42749576 5.50732607\n",
      " 6.39812626 2.2570969  3.85949907 1.2636233  5.02573481 2.60108587\n",
      " 0.23566672 5.6621756  3.34435988 1.79636198 4.12570444 3.66910858\n",
      " 3.83961737 0.94856304 4.25007163 2.96446444 1.81046597 3.98006226\n",
      " 0.11989056 0.78508327 5.41753859 2.66053446 0.07165105 3.40127391\n",
      " 5.16296121 0.96816816 2.82690386 3.00243654 2.10578581 0.70409059\n",
      " 6.18160344 2.80613051]\n",
      "\n",
      "Number of layers: 8\n",
      "Target Distribution: [0.07944158 0.07179122 0.09234045 0.04843506 0.07290609 0.00196726\n",
      " 0.11750829 0.0673857  0.03292989 0.07293759 0.08578676 0.03814937\n",
      " 0.08753106 0.03281904 0.04940404 0.0486666 ]\n",
      "Obtained Distribution: [0.0879 0.0779 0.0874 0.0522 0.0777 0.0112 0.138  0.0705 0.0109 0.0487\n",
      " 0.0878 0.0627 0.0904 0.0175 0.0384 0.0408]\n",
      "Output Error (Manhattan Distance): 0.1357787998199175\n",
      "Parameters Found: [2.95698949 0.59200906 6.43355718 5.36890912 5.83508357 3.2220515\n",
      " 3.66870076 4.26820178 3.75505363 3.66374666 2.55469919 1.05212238\n",
      " 3.65527609 1.57419361 1.20202398 4.23798365 2.09129904 0.72931086\n",
      " 2.41529003 3.85614484 0.63408145 4.09349615 1.17539029 5.81869353\n",
      " 3.84273505 4.22986954 1.02148853 3.52304828 3.53998007 4.97130328\n",
      " 1.84900435 3.75927384 5.44458541 1.68667221 4.02942926 5.85278018\n",
      " 3.87845787 1.90976739 5.96587524 0.96441127 1.71310404 2.06210928\n",
      " 5.40343074 2.24376403 1.03191626 0.99766033 3.48653852 5.22473029\n",
      " 6.12769334 3.09526415 5.84612207 2.99174499 2.3031784  0.47760999\n",
      " 3.7124976  1.7485264  0.75535869 3.82998614 0.83720683 2.21169527\n",
      " 2.6923238  5.08013613 3.54696689 4.86516611]\n",
      "\n",
      "Number of layers: 9\n",
      "Target Distribution: [0.07944158 0.07179122 0.09234045 0.04843506 0.07290609 0.00196726\n",
      " 0.11750829 0.0673857  0.03292989 0.07293759 0.08578676 0.03814937\n",
      " 0.08753106 0.03281904 0.04940404 0.0486666 ]\n",
      "Obtained Distribution: [0.0781 0.0739 0.0829 0.0217 0.0726 0.023  0.121  0.0634 0.0575 0.0898\n",
      " 0.0881 0.0281 0.0786 0.0294 0.0417 0.0502]\n",
      "Output Error (Manhattan Distance): 0.12086959714161477\n",
      "Parameters Found: [1.41792787 2.25090421 2.0929235  2.6731916  1.12747676 1.06457998\n",
      " 2.54670691 4.64486899 4.01780641 0.98968642 1.21177416 2.40704239\n",
      " 5.77983753 3.60007613 3.83447926 0.49646452 1.02178711 5.14917851\n",
      " 3.13244693 4.30240521 2.8191155  1.69673718 0.44956598 3.91099361\n",
      " 0.80359168 0.50700353 2.58466165 3.90078421 0.28176464 2.22010333\n",
      " 5.6052463  4.46812993 4.71851994 4.7997463  0.10676581 0.42285488\n",
      " 3.62596763 1.82638834 5.46616554 3.32310503 2.62667536 5.25203372\n",
      " 5.97819389 3.92876227 0.54498572 2.27064239 3.27119006 4.88626292\n",
      " 1.81691583 2.34031181 2.07859249 0.74558615 0.99102948 3.52284366\n",
      " 0.79319248 3.19156352 2.57579337 1.45091467 0.50990115 0.38263321\n",
      " 3.35198371 2.2520457  5.34861161 3.93897933 5.2805144  3.97279488\n",
      " 1.30362148 1.27081025 5.35934702 4.71576488 4.69997953 3.83072636]\n",
      "\n",
      "Number of layers: 10\n",
      "Target Distribution: [0.07944158 0.07179122 0.09234045 0.04843506 0.07290609 0.00196726\n",
      " 0.11750829 0.0673857  0.03292989 0.07293759 0.08578676 0.03814937\n",
      " 0.08753106 0.03281904 0.04940404 0.0486666 ]\n",
      "Obtained Distribution: [0.0803 0.0688 0.1143 0.0458 0.0729 0.0063 0.066  0.0673 0.0308 0.077\n",
      " 0.1047 0.0472 0.0855 0.0346 0.0446 0.0539]\n",
      "Output Error (Manhattan Distance): 0.12452891840174275\n",
      "Parameters Found: [1.8645316  3.87646871 5.99745255 2.73634019 2.57438645 6.78230878\n",
      " 5.37749389 4.56822622 4.97614436 5.41699241 0.05415464 5.18910951\n",
      " 1.78502254 0.23624829 3.75097285 0.82288893 5.14237661 7.0769384\n",
      " 3.54984855 3.55000677 4.55835591 4.44044253 3.11310613 0.49402847\n",
      " 3.94300408 2.90410685 3.95716553 5.06787961 3.01288535 5.27441793\n",
      " 5.92298035 5.47172922 1.64924626 4.86213256 3.03321109 4.91459077\n",
      " 4.79124942 5.16936558 3.3802496  5.92586527 1.12137898 3.36361061\n",
      " 2.98815918 0.38183145 2.96541907 1.22625241 5.47266038 4.28978742\n",
      " 0.57603731 2.22156884 5.38778654 2.12767942 0.31025657 5.19014216\n",
      " 3.42018379 1.73849101 2.18402699 2.91691586 1.24823125 0.57907053\n",
      " 1.12020788 6.41552531 3.96517265 2.4645287  5.94319342 5.37738326\n",
      " 0.43856854 5.4451309  1.27027194 1.75244974 3.16121949 2.51161312\n",
      " 3.55876082 1.28977554 3.41466073 5.55259181 2.98179333 3.54877861\n",
      " 3.03277749 4.7932605 ]\n",
      "\n"
     ]
    }
   ],
   "source": [
    "backend = Aer.get_backend(\"qasm_simulator\")\n",
    "NUM_SHOTS = 10000\n",
    "\n",
    "# Initialize the COBYLA optimizer\n",
    "optimizer = COBYLA(maxiter=500, tol=0.0001)\n",
    "\n",
    "# Create the initial parameters (noting that our single qubit variational form has 3 parameters)\n",
    "n_parameters_per_layer = 8\n",
    "cost_list = []\n",
    "for n_layers in range(1,11):\n",
    "    params = np.random.rand(n_layers*n_parameters_per_layer)*2*np.pi\n",
    "    ret = optimizer.optimize(num_vars=n_layers*n_parameters_per_layer, objective_function=probability_difference, \n",
    "                             initial_point=params)\n",
    "\n",
    "    # Obtain the output distribution using the final parameters\n",
    "    qc = build_variational_circuit(n_layers, ret[0])\n",
    "    qc.measure_all()\n",
    "    counts = execute(qc, backend, shots=NUM_SHOTS).result().get_counts(qc)\n",
    "    output_distr = get_probability_distribution(counts)\n",
    "    \n",
    "    cost_list.append(ret[1])\n",
    "    \n",
    "    print(\"Number of layers:\", n_layers)\n",
    "    print(\"Target Distribution:\", target_distr)\n",
    "    print(\"Obtained Distribution:\", output_distr)\n",
    "    print(\"Output Error (Manhattan Distance):\", ret[1])\n",
    "    print(\"Parameters Found:\", ret[0])\n",
    "    print('')"
   ]
  },
  {
   "cell_type": "code",
   "execution_count": 22,
   "metadata": {},
   "outputs": [
    {
     "data": {
      "image/png": "[encoded data removed]",
      "text/plain": [
       "<Figure size 432x288 with 1 Axes>"
      ]
     },
     "metadata": {
      "needs_background": "light"
     },
     "output_type": "display_data"
    }
   ],
   "source": [
    "n_layers = range(1,11)\n",
    "plt.plot(n_layers, cost_list)\n",
    "plt.xlabel(\"number of layers\")\n",
    "plt.ylabel(\"objective function\")\n",
    "plt.show()"
   ]
  },
  {
   "cell_type": "markdown",
   "metadata": {},
   "source": [
    "## Optimize the variational circuit using Pennylane"
   ]
  },
  {
   "cell_type": "code",
   "execution_count": 23,
   "metadata": {},
   "outputs": [],
   "source": [
    "dev = qml.device('default.qubit', wires = 4)"
   ]
  },
  {
   "cell_type": "code",
   "execution_count": 24,
   "metadata": {},
   "outputs": [
    {
     "name": "stdout",
     "output_type": "stream",
     "text": [
      "(16, 16)\n"
     ]
    }
   ],
   "source": [
    "target_vector = target_vector.reshape((16,1))\n",
    "density_matrix = target_vector @ np.transpose(np.conjugate(target_vector))\n",
    "print(density_matrix.shape)"
   ]
  },
  {
   "cell_type": "code",
   "execution_count": 25,
   "metadata": {},
   "outputs": [],
   "source": [
    "def layer(params: np.array) -> None:\n",
    "    \n",
    "    n_parameters = 8\n",
    "    \n",
    "    if params.shape[0] != n_parameters:\n",
    "        print(f\"Alert! You gave {params.shape[0]} parameters for a layer of {n_parameters} parameters.\")\n",
    "        \n",
    "    else:\n",
    "        odd_block(params[:int(n_parameters/2)])\n",
    "        even_block(params[int(n_parameters/2):])\n",
    "\n",
    "def odd_block(params: np.array) -> None:\n",
    "    \n",
    "    n_parameters = 4\n",
    "    \n",
    "    if params.shape[0] != n_parameters:\n",
    "        print(f\"Alert! You gave {params.shape[0]} parameters for a block of {n_parameters} parameters.\")\n",
    "        \n",
    "    else:\n",
    "    \n",
    "        for i in range(n_parameters):\n",
    "            qml.RX(params[i], wires = i)\n",
    "        \n",
    "\n",
    "def even_block(params: np.array) -> None:\n",
    "    \n",
    "    n_parameters = 4\n",
    "    \n",
    "    if params.shape[0] != n_parameters:\n",
    "        print(f\"Alert! You gave {params.shape[0]} parameters for a block of {n_parameters} parameters.\")\n",
    "        \n",
    "    else:\n",
    "    \n",
    "        for i in range(n_parameters):\n",
    "            qml.RZ(params[i], wires = i)\n",
    "\n",
    "        tuples = [(i,j) for i in range(n_parameters) for j in range(n_parameters) if i < j]\n",
    "\n",
    "        for tup in tuples:\n",
    "            qml.CZ(wires=[tup[0], tup[1]])"
   ]
  },
  {
   "cell_type": "code",
   "execution_count": 26,
   "metadata": {},
   "outputs": [],
   "source": [
    "@qml.qnode(dev)\n",
    "def var_circuit(params):\n",
    "\n",
    "    #number of parameters per layer\n",
    "    n_parameters_per_layer = 8\n",
    "    for i in range(number_layers):\n",
    "        start = i*n_parameters_per_layer\n",
    "        end = (i+1)*n_parameters_per_layer \n",
    "        layer(params[start:end])\n",
    "\n",
    "    return qml.expval(qml.Hermitian(density_matrix, wires=[0,1,2,3]))"
   ]
  },
  {
   "cell_type": "code",
   "execution_count": 27,
   "metadata": {},
   "outputs": [],
   "source": [
    "def cost(x):\n",
    "    \n",
    "    return (1.0 - var_circuit(x))"
   ]
  },
  {
   "cell_type": "code",
   "execution_count": 28,
   "metadata": {},
   "outputs": [
    {
     "data": {
      "text/plain": [
       "0.9792106547222991"
      ]
     },
     "execution_count": 28,
     "metadata": {},
     "output_type": "execute_result"
    }
   ],
   "source": [
    "n_parameters_per_layer = 8\n",
    "number_layers = 1\n",
    "params = np.random.rand(number_layers*n_parameters_per_layer)*2*np.pi\n",
    "\n",
    "cost(params)"
   ]
  },
  {
   "cell_type": "code",
   "execution_count": 29,
   "metadata": {},
   "outputs": [],
   "source": [
    "init_params = np.random.rand(number_layers*n_parameters_per_layer)*2*np.pi"
   ]
  },
  {
   "cell_type": "code",
   "execution_count": 30,
   "metadata": {},
   "outputs": [],
   "source": [
    "opt = qml.GradientDescentOptimizer(stepsize = 0.4)\n",
    "\n",
    "steps = 100\n",
    "\n",
    "params = init_params"
   ]
  },
  {
   "cell_type": "code",
   "execution_count": 31,
   "metadata": {},
   "outputs": [
    {
     "name": "stdout",
     "output_type": "stream",
     "text": [
      "0.4893684312493838\n",
      "0.06526901345006064\n",
      "0.06656404109604919\n",
      "0.023288474996209896\n",
      "0.0032286632716920227\n",
      "0.0014189487496305553\n",
      "0.0005619622372406985\n",
      "2.4057695421353387e-06\n",
      "8.076078540364406e-07\n",
      "4.7126205049430325e-08\n"
     ]
    }
   ],
   "source": [
    "cost_list = []\n",
    "for number_layers in range(1,11):\n",
    "    init_params = np.random.rand(number_layers*n_parameters_per_layer)*2*np.pi\n",
    "    opt = qml.GradientDescentOptimizer(stepsize = 0.4)\n",
    "\n",
    "    steps = 100\n",
    "\n",
    "    params = init_params\n",
    "    for i in range(steps):\n",
    "\n",
    "        params = opt.step(cost, params)\n",
    "\n",
    "    print(cost(params))\n",
    "    cost_list.append(cost(params))"
   ]
  },
  {
   "cell_type": "code",
   "execution_count": 32,
   "metadata": {},
   "outputs": [
    {
     "data": {
      "image/png": "[encoded data removed]",
      "text/plain": [
       "<Figure size 432x288 with 1 Axes>"
      ]
     },
     "metadata": {
      "needs_background": "light"
     },
     "output_type": "display_data"
    }
   ],
   "source": [
    "n_layers = range(1,11)\n",
    "plt.plot(n_layers, cost_list)\n",
    "plt.xlabel(\"number of layers\")\n",
    "plt.ylabel(\"cost function\")\n",
    "plt.show()"
   ]
  }
 ],
 "metadata": {
  "kernelspec": {
   "display_name": "Python 3",
   "language": "python",
   "name": "python3"
  },
  "language_info": {
   "codemirror_mode": {
    "name": "ipython",
    "version": 3
   },
   "file_extension": ".py",
   "mimetype": "text/x-python",
   "name": "python",
   "nbconvert_exporter": "python",
   "pygments_lexer": "ipython3",
   "version": "3.6.8"
  }
 },
 "nbformat": 4,
 "nbformat_minor": 4
}
