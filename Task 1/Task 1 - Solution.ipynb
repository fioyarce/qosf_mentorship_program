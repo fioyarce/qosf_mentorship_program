{
 "cells": [
  {
   "cell_type": "markdown",
   "metadata": {},
   "source": [
    "# Screening Task 1 for QOSF Mentorship"
   ]
  },
  {
   "cell_type": "markdown",
   "metadata": {},
   "source": [
    "## Please explain the problem\n",
    "\n",
    "1. Problem statement (Add images)\n",
    "\n",
    "2. An overview of my approach. 3 different methods. Statevector_simulator, qasm_simulator, pennylane\n",
    "\n",
    "3. Show the approaches and add proper documentation to the functions defined.\n",
    "\n",
    "4. Explain differences of the approaches taken.\n",
    "\n",
    "5. Conclusions, further work and things to try.\n",
    "\n",
    "\n",
    "$\\varepsilon = min_{\\theta}\\left \\| \\Psi(\\theta) - \\phi \\rangle \\right \\| = 0$\n",
    "\n",
    "$\\mathrm{Re}\\left \\{ \\langle \\Psi(\\theta) - \\phi| \\Psi(\\theta) - \\phi \\rangle \\right \\} = 1$\n",
    "\n",
    "document <a href=\"https://docs.google.com/document/d/1Ow3v8Y4rYBdgxXNxKV9ZUAM4bwL6211U6DWCcByZ4A4/edit\" target=\"_blank\">this link</a>.\n",
    "\n",
    "![Markdown Logo is here.](https://www.fullstackpython.com/img/logos/markdown.png)"
   ]
  },
  {
   "cell_type": "code",
   "execution_count": null,
   "metadata": {},
   "outputs": [],
   "source": [
    "import pennylane as qml\n",
    "from pennylane import numpy as np\n",
    "from qiskit import QuantumCircuit, QuantumRegister, ClassicalRegister, execute, Aer, IBMQ\n",
    "from qiskit.visualization import plot_histogram, plot_bloch_multivector\n",
    "from qiskit.aqua.components.optimizers import COBYLA\n",
    "import matplotlib.pyplot as plt"
   ]
  },
  {
   "cell_type": "markdown",
   "metadata": {},
   "source": [
    "## Generating a proper random quantum state and its probability vector\n",
    "\n",
    "Explain some things here\n",
    "$|\\psi\\rangle \\rightarrow |\\psi\\rangle \\langle \\psi |$\n",
    "\n",
    "$|v| = \\sqrt{\\langle v| v \\rangle} = \\sqrt{v^{\\dagger}v}$"
   ]
  },
  {
   "cell_type": "code",
   "execution_count": 10,
   "metadata": {},
   "outputs": [],
   "source": [
    "def norm(complex_vector: np.array) -> float:\n",
    "    \"\"\"Returns the norm of a complex vector.\n",
    "    \n",
    "    Args:\n",
    "       complex_vector (np.arrray of shape (dim,)):\n",
    "           complex vector with an arbitrary dimension.\n",
    "           \n",
    "       \n",
    "    Returns:\n",
    "        norm (float): norm or magnitude of the complex vector.\n",
    "            \n",
    "    \"\"\"\n",
    "    \n",
    "    #define the norm of a complex vector here\n",
    "    norm = np.sqrt(sum([np.square(np.absolute(complex_vector[i])) for i in range(complex_vector.shape[0])]))\n",
    "    \n",
    "    return norm\n",
    "\n",
    "def random_quantum_state(dim: int) -> np.array:\n",
    "    \"\"\"Creates a normalized random complex vector of a defined\n",
    "    dimension.\n",
    "    \n",
    "    Args:\n",
    "        dim (int): integer number specifying the dimension\n",
    "            of the vector that we want to generate.\n",
    "            \n",
    "    Returns:\n",
    "        (np.array): normalized complex vector of the given\n",
    "            dimension.\n",
    "    \"\"\"\n",
    "    #generate an unnormalized complex vector of dimension = dim\n",
    "    Z = np.random.random(dim) + np.random.random(dim)*1j\n",
    "    \n",
    "    #normalize the complex vector Z\n",
    "    Z /= norm(Z)\n",
    "    \n",
    "    return Z\n",
    "\n",
    "def get_probabilities(complex_vector: np.array) -> np.array:\n",
    "    \"\"\"Get the probabilities associated to a quantum state.\n",
    "    This is a vector in which each element is the square of\n",
    "    the magnitude of the respective complex number in that element.\n",
    "    \n",
    "    Args:\n",
    "        complex_vector (np.array):\n",
    "        \n",
    "    Retuns:\n",
    "        (np.array): \n",
    "    \"\"\"\n",
    "    \n",
    "    if 1.0 - norm(complex_vector) > 0.001:\n",
    "        print(\"Alert! The quantum state apparently is not normalized.\")\n",
    "        \n",
    "    else:\n",
    "        return np.square(np.absolute(complex_vector))"
   ]
  },
  {
   "cell_type": "code",
   "execution_count": 11,
   "metadata": {},
   "outputs": [],
   "source": [
    "#two qubits -> a complex vector of dimension 4\n",
    "n_qubits = 3\n",
    "dim = 2**(n_qubits)\n",
    "psi = random_quantum_state(dim)"
   ]
  },
  {
   "cell_type": "code",
   "execution_count": 12,
   "metadata": {},
   "outputs": [
    {
     "data": {
      "text/plain": [
       "tensor([0.08423785, 0.25958127, 0.00628017, 0.1203082 , 0.24069285,\n",
       "        0.15627627, 0.10734114, 0.02528227], requires_grad=True)"
      ]
     },
     "execution_count": 12,
     "metadata": {},
     "output_type": "execute_result"
    }
   ],
   "source": [
    "get_probabilities(psi)"
   ]
  },
  {
   "cell_type": "markdown",
   "metadata": {},
   "source": [
    "## Building the variational quantum circuit in Qiskit"
   ]
  },
  {
   "cell_type": "code",
   "execution_count": 13,
   "metadata": {},
   "outputs": [],
   "source": [
    "def build_variational_circuit(number_layers: int, params: np.array) -> QuantumCircuit:\n",
    "    #how many parameters will have given the number_layers\n",
    "    n_parameters = 8*number_layers\n",
    "    \n",
    "    if params.shape[0] != n_parameters:\n",
    "        print(f\"Alert! You gave {params.shape[0]} parameters for a circuit of {n_parameters} parameters.\")\n",
    "        \n",
    "    else:\n",
    "        #create the circuit\n",
    "        qr = QuantumRegister(4, name=\"q\")\n",
    "        cr = ClassicalRegister(4, name=\"c\")\n",
    "        qc = QuantumCircuit(qr, cr)\n",
    "\n",
    "        #number of parameters per layer\n",
    "        n_parameters_per_layer = 8\n",
    "        for i in range(number_layers):\n",
    "            start = i*n_parameters_per_layer\n",
    "            end = (i+1)*n_parameters_per_layer \n",
    "            layer(qc, params[start:end])\n",
    "            \n",
    "        return qc\n",
    "    \n",
    "def layer(qc: QuantumCircuit, params: np.array) -> None:\n",
    "    \n",
    "    n_parameters = 8\n",
    "    \n",
    "    if params.shape[0] != n_parameters:\n",
    "        print(f\"Alert! You gave {params.shape[0]} parameters for a layer of {n_parameters} parameters.\")\n",
    "        \n",
    "    else:\n",
    "        odd_block(qc, params[:int(n_parameters/2)])\n",
    "        even_block(qc, params[int(n_parameters/2):])\n",
    "        qc.barrier()\n",
    "        \n",
    "#qiskit  odd block\n",
    "def odd_block(qc: QuantumCircuit, params: np.array) -> None:\n",
    "    \n",
    "    n_parameters = 4\n",
    "    \n",
    "    if params.shape[0] != n_parameters:\n",
    "        print(f\"Alert! You gave {params.shape[0]} parameters for a block of {n_parameters} parameters.\")\n",
    "        \n",
    "    else:\n",
    "    \n",
    "        for i in range(n_parameters):\n",
    "            qc.rx(params[i], i)\n",
    "        \n",
    "#qiskit even block\n",
    "def even_block(qc: QuantumCircuit, params: np.array) -> None:\n",
    "    \n",
    "    n_parameters = 4\n",
    "    \n",
    "    if params.shape[0] != n_parameters:\n",
    "        print(f\"Alert! You gave {params.shape[0]} parameters for a block of {n_parameters} parameters.\")\n",
    "        \n",
    "    else:\n",
    "    \n",
    "        for i in range(n_parameters):\n",
    "            qc.rz(params[i], i)\n",
    "\n",
    "        tuples = [(i,j) for i in range(n_parameters) for j in range(n_parameters) if i < j]\n",
    "\n",
    "        for tup in tuples:\n",
    "            qc.cz(tup[0], tup[1])"
   ]
  },
  {
   "cell_type": "code",
   "execution_count": 14,
   "metadata": {},
   "outputs": [],
   "source": [
    "n_parameters_per_layer = 8\n",
    "n_layers = 2\n",
    "params = np.random.rand(n_layers*n_parameters_per_layer)*2*np.pi\n",
    "qc = build_variational_circuit(n_layers, params)"
   ]
  },
  {
   "cell_type": "code",
   "execution_count": 15,
   "metadata": {},
   "outputs": [
    {
     "data": {
      "image/png": "[encoded data removed]",
      "text/plain": [
       "<Figure size 1224.38x325.08 with 1 Axes>"
      ]
     },
     "execution_count": 15,
     "metadata": {},
     "output_type": "execute_result"
    }
   ],
   "source": [
    "qc.draw(output='mpl')"
   ]
  },
  {
   "cell_type": "markdown",
   "metadata": {},
   "source": [
    "## Optimization"
   ]
  },
  {
   "cell_type": "code",
   "execution_count": 16,
   "metadata": {},
   "outputs": [
    {
     "name": "stdout",
     "output_type": "stream",
     "text": [
      "[ 0.02178875+0.07201153j -0.40244632+0.04960706j -0.05479845-0.06714865j\n",
      " -0.41810054+0.22309916j -0.00610353-0.0162542j  -0.07362156+0.02015074j\n",
      "  0.05051629+0.0347007j  -0.21349133+0.23679156j  0.00091329-0.00057699j\n",
      " -0.00856107+0.00717497j -0.05033388+0.03331912j -0.13363137-0.28704683j\n",
      "  0.05111545-0.07286295j  0.3328485 +0.2968668j   0.03892776-0.07365886j\n",
      " -0.34090546-0.22862618j]\n"
     ]
    }
   ],
   "source": [
    "backend = Aer.get_backend('statevector_simulator')\n",
    "\n",
    "job = execute(qc, backend)\n",
    "\n",
    "result = job.result()\n",
    "\n",
    "outputstate = result.get_statevector(qc, decimals=3)\n",
    "print(outputstate)"
   ]
  },
  {
   "cell_type": "code",
   "execution_count": 17,
   "metadata": {},
   "outputs": [],
   "source": [
    "def norm_vector_difference(params):\n",
    "    \n",
    "    qc = build_variational_circuit(n_layers, params)\n",
    "    \n",
    "    job = execute(qc, backend)\n",
    "    \n",
    "    result = job.result()\n",
    "\n",
    "    outputstate = result.get_statevector(qc, decimals=3)\n",
    "    \n",
    "    diff = outputstate - target_vector\n",
    "    \n",
    "    \n",
    "    return norm(diff)\n",
    "\n",
    "def get_probability_distribution(counts):\n",
    "    output_distr = [v / NUM_SHOTS for v in counts.values()]\n",
    "    if len(output_distr) == 1:\n",
    "        output_distr.append(0)\n",
    "    output_distr = np.asarray(output_distr)\n",
    "    \n",
    "    return output_distr\n",
    "\n",
    "def probability_difference(params):\n",
    "    # Obtain a quantum circuit instance from the paramters\n",
    "    qc = build_variational_circuit(n_layers, params)\n",
    "    # Measure all qubits\n",
    "    qc.measure_all()\n",
    "    # Execute the quantum circuit to obtain the probability distribution associated with the current parameters\n",
    "    result = execute(qc, backend, shots=NUM_SHOTS).result()\n",
    "    # Obtain the counts for each measured state, and convert those counts into a probability vector\n",
    "    output_distr = get_probability_distribution(result.get_counts(qc))\n",
    "    # Calculate the cost as the distance between the output distribution and the target distribution\n",
    "    cost = sum([np.absolute(output_distr[i] - target_distr[i]) for i in range(output_distr.shape[0])])\n",
    "    return cost"
   ]
  },
  {
   "cell_type": "code",
   "execution_count": 18,
   "metadata": {},
   "outputs": [],
   "source": [
    "n_qubits = 4\n",
    "dim = n_qubits**2\n",
    "target_vector = random_quantum_state(dim)\n",
    "target_distr = get_probabilities(target_vector)"
   ]
  },
  {
   "cell_type": "code",
   "execution_count": 19,
   "metadata": {
    "scrolled": false
   },
   "outputs": [
    {
     "name": "stdout",
     "output_type": "stream",
     "text": [
      "Number of layers: 1\n",
      "Target Vector: [0.32412364+0.09287884j 0.25061448+0.09955364j 0.31111025+0.01993548j\n",
      " 0.30346345+0.04086106j 0.28765401+0.0437183j  0.11642566+0.20815363j\n",
      " 0.24434722+0.00573693j 0.20354419+0.28414697j 0.00660398+0.05214332j\n",
      " 0.01258437+0.01819374j 0.04182362+0.05816268j 0.09560594+0.15850192j\n",
      " 0.1636316 +0.20420812j 0.20974489+0.15566534j 0.01243335+0.03421132j\n",
      " 0.2363927 +0.25030015j]\n",
      "Obtained Vector: [ 0.1413825 +0.j         -0.00910581+0.20334254j  0.12048842+0.25300109j\n",
      "  0.37163742-0.15699709j -0.0125737 +0.17401395j  0.2494647 +0.0292915j\n",
      "  0.32210989-0.12579708j  0.16018125+0.47137465j -0.04117077+0.06701386j\n",
      "  0.09373066+0.06352967j  0.15500631+0.01656396j -0.03380628+0.22187009j\n",
      "  0.07881935+0.05663289j -0.08652832+0.109714j   -0.03417229+0.18930907j\n",
      "  0.27007176+0.06134063j]\n",
      "Norm difference: 0.8367571674989513\n",
      "Parameters Found: [1.92741257 2.20706417 4.50365136 5.26785804 3.18634341 2.69713571\n",
      " 0.07213148 6.8340982 ]\n",
      "\n",
      "Number of layers: 2\n",
      "Target Vector: [0.32412364+0.09287884j 0.25061448+0.09955364j 0.31111025+0.01993548j\n",
      " 0.30346345+0.04086106j 0.28765401+0.0437183j  0.11642566+0.20815363j\n",
      " 0.24434722+0.00573693j 0.20354419+0.28414697j 0.00660398+0.05214332j\n",
      " 0.01258437+0.01819374j 0.04182362+0.05816268j 0.09560594+0.15850192j\n",
      " 0.1636316 +0.20420812j 0.20974489+0.15566534j 0.01243335+0.03421132j\n",
      " 0.2363927 +0.25030015j]\n",
      "Obtained Vector: [0.21551806+0.0934205j  0.28602   +0.11898466j 0.21788322+0.0390851j\n",
      " 0.29842643+0.01040787j 0.33081872+0.01291741j 0.14297422+0.24910453j\n",
      " 0.29864204+0.05642565j 0.25680037+0.32217981j 0.10987252-0.00889653j\n",
      " 0.10758807+0.14034958j 0.16979335+0.04212579j 0.05454591+0.14023647j\n",
      " 0.13113145+0.17006444j 0.12490901+0.13962068j 0.08018396+0.0766936j\n",
      " 0.1772679 +0.18669109j]\n",
      "Norm difference: 0.34501501397876067\n",
      "Parameters Found: [ 1.33836446e+00  1.66646816e+00  4.94578035e+00  5.28871836e+00\n",
      "  5.94441076e+00  8.89935559e+00  3.69132247e+00 -6.19489831e-03\n",
      "  2.55207768e+00  5.16473868e+00  3.01177160e+00  4.57367259e-01\n",
      "  1.69321078e+00  4.86799710e+00  2.38958469e+00  5.03682681e+00]\n",
      "\n",
      "Number of layers: 3\n",
      "Target Vector: [0.32412364+0.09287884j 0.25061448+0.09955364j 0.31111025+0.01993548j\n",
      " 0.30346345+0.04086106j 0.28765401+0.0437183j  0.11642566+0.20815363j\n",
      " 0.24434722+0.00573693j 0.20354419+0.28414697j 0.00660398+0.05214332j\n",
      " 0.01258437+0.01819374j 0.04182362+0.05816268j 0.09560594+0.15850192j\n",
      " 0.1636316 +0.20420812j 0.20974489+0.15566534j 0.01243335+0.03421132j\n",
      " 0.2363927 +0.25030015j]\n",
      "Obtained Vector: [0.2335064 +0.07615785j 0.28081586+0.12050377j 0.22415743+0.02291461j\n",
      " 0.30454202-0.00247088j 0.3202133 +0.00853366j 0.16791696+0.23757938j\n",
      " 0.34584607+0.07653892j 0.22927853+0.30472126j 0.07856286-0.00999283j\n",
      " 0.032615  +0.10441083j 0.11079029+0.09106719j 0.09082008+0.16498817j\n",
      " 0.16519434+0.13297551j 0.14036938+0.17304034j 0.02318981+0.05496567j\n",
      " 0.17754073+0.20164147j]\n",
      "Norm difference: 0.28434681092484954\n",
      "Parameters Found: [7.47194813 1.41072234 1.45847009 4.0483178  0.29716437 0.15290235\n",
      " 0.84230238 6.79612316 5.29701177 0.26039475 2.71468427 0.74608824\n",
      " 2.01728727 1.90968489 2.40054946 0.88049178 3.29950184 2.17034223\n",
      " 4.77240582 2.26313918 5.76538132 5.02302765 4.93479847 1.45950992]\n",
      "\n",
      "Number of layers: 4\n",
      "Target Vector: [0.32412364+0.09287884j 0.25061448+0.09955364j 0.31111025+0.01993548j\n",
      " 0.30346345+0.04086106j 0.28765401+0.0437183j  0.11642566+0.20815363j\n",
      " 0.24434722+0.00573693j 0.20354419+0.28414697j 0.00660398+0.05214332j\n",
      " 0.01258437+0.01819374j 0.04182362+0.05816268j 0.09560594+0.15850192j\n",
      " 0.1636316 +0.20420812j 0.20974489+0.15566534j 0.01243335+0.03421132j\n",
      " 0.2363927 +0.25030015j]\n",
      "Obtained Vector: [ 0.24119848+0.02846445j  0.20739609+0.07710937j  0.31927613+0.03617961j\n",
      "  0.37759559+0.09189995j  0.22333193+0.04601029j  0.14920621+0.23646256j\n",
      "  0.24626712+0.04981135j  0.13960977+0.23425503j  0.05233776-0.01837719j\n",
      " -0.06296146+0.00771588j  0.03652588+0.03037763j  0.16400988+0.22489432j\n",
      "  0.17076427+0.26256346j  0.14330427+0.18866309j -0.02765794+0.10765842j\n",
      "  0.26542599+0.21505187j]\n",
      "Norm difference: 0.2778227072065377\n",
      "Parameters Found: [3.45015762 5.83871271 3.77001014 3.68088962 6.34006475 7.12205836\n",
      " 5.58982355 4.78080353 1.61286218 4.96305145 1.99737884 5.10837353\n",
      " 4.29456431 3.98667916 3.25768838 1.92855847 0.61111732 4.1954957\n",
      " 4.85378679 4.7034104  5.85063059 4.85440177 1.82788828 4.84559702\n",
      " 2.95003402 7.10405694 1.27969862 1.09449014 4.01817322 1.38477662\n",
      " 5.5286804  5.36623728]\n",
      "\n",
      "Number of layers: 5\n",
      "Target Vector: [0.32412364+0.09287884j 0.25061448+0.09955364j 0.31111025+0.01993548j\n",
      " 0.30346345+0.04086106j 0.28765401+0.0437183j  0.11642566+0.20815363j\n",
      " 0.24434722+0.00573693j 0.20354419+0.28414697j 0.00660398+0.05214332j\n",
      " 0.01258437+0.01819374j 0.04182362+0.05816268j 0.09560594+0.15850192j\n",
      " 0.1636316 +0.20420812j 0.20974489+0.15566534j 0.01243335+0.03421132j\n",
      " 0.2363927 +0.25030015j]\n",
      "Obtained Vector: [ 0.17235458+0.10134251j  0.32226991+0.1183199j   0.32310703-0.04185185j\n",
      "  0.28720779+0.02804237j  0.3369513 -0.05440727j  0.06031642+0.18428556j\n",
      "  0.22976853+0.16116561j  0.20129   +0.2574235j   0.02043714-0.01472786j\n",
      "  0.0986266 +0.11897112j  0.16148155+0.05626862j  0.06996648+0.20619706j\n",
      "  0.03302057+0.18846145j  0.24983164+0.04104981j -0.00663056+0.09920491j\n",
      "  0.24021003+0.20887152j]\n",
      "Norm difference: 0.38947988267252875\n",
      "Parameters Found: [ 5.09316725  6.24003545  2.2464621   3.07199682  3.93059946  1.38775001\n",
      "  6.44850593  4.56597322  1.77293837  3.32472159  5.59415255  5.35819787\n",
      "  2.98188346 -0.03287515  1.93904763  3.67386859  2.70460315  3.85409883\n",
      "  4.42264812  2.33199181  4.10137275  4.20546866  4.09792893  4.57396403\n",
      "  6.55331235  1.63528489 -0.29322794  5.37026918  5.79670322  2.74908471\n",
      "  3.86077931  4.71922409  2.66901884  2.01286483  5.66231858  0.41783534\n",
      "  0.57837846  3.74058776  2.54518858  3.57223281]\n",
      "\n",
      "Number of layers: 6\n",
      "Target Vector: [0.32412364+0.09287884j 0.25061448+0.09955364j 0.31111025+0.01993548j\n",
      " 0.30346345+0.04086106j 0.28765401+0.0437183j  0.11642566+0.20815363j\n",
      " 0.24434722+0.00573693j 0.20354419+0.28414697j 0.00660398+0.05214332j\n",
      " 0.01258437+0.01819374j 0.04182362+0.05816268j 0.09560594+0.15850192j\n",
      " 0.1636316 +0.20420812j 0.20974489+0.15566534j 0.01243335+0.03421132j\n",
      " 0.2363927 +0.25030015j]\n",
      "Obtained Vector: [0.22386393+0.07651662j 0.20559509+0.060092j   0.2650009 +0.05610803j\n",
      " 0.31138393+0.02464455j 0.30749261+0.03142776j 0.12413718+0.1922632j\n",
      " 0.30383721+0.01325209j 0.2185306 +0.30103297j 0.13625179-0.01442407j\n",
      " 0.04686452-0.07361412j 0.11216128+0.02329978j 0.12447244+0.16272861j\n",
      " 0.18936668+0.20848025j 0.20109236+0.22388586j 0.06782368+0.00924178j\n",
      " 0.20707558+0.22245823j]\n",
      "Norm difference: 0.2668689093371059\n",
      "Parameters Found: [4.81070119 4.36683595 2.99119752 1.46371275 1.42368978 2.55088125\n",
      " 6.53395391 5.70573427 6.38850226 5.81936778 2.36645348 2.83598938\n",
      " 2.90671633 4.03586293 5.66337405 1.87718633 4.43091408 0.32146337\n",
      " 1.98062001 3.95739058 3.96688099 1.59359734 2.56388563 5.89938673\n",
      " 6.99867765 1.03529667 2.66093334 1.81233294 4.9204889  0.07691951\n",
      " 3.2287228  5.03248282 1.94527303 7.01455204 5.90070601 0.86609398\n",
      " 6.47973495 3.71319465 5.56262198 2.34687624 3.59752484 5.90699943\n",
      " 1.489987   3.75284502 4.35616626 2.17947037 3.87555035 5.86013028]\n",
      "\n",
      "Number of layers: 7\n",
      "Target Vector: [0.32412364+0.09287884j 0.25061448+0.09955364j 0.31111025+0.01993548j\n",
      " 0.30346345+0.04086106j 0.28765401+0.0437183j  0.11642566+0.20815363j\n",
      " 0.24434722+0.00573693j 0.20354419+0.28414697j 0.00660398+0.05214332j\n",
      " 0.01258437+0.01819374j 0.04182362+0.05816268j 0.09560594+0.15850192j\n",
      " 0.1636316 +0.20420812j 0.20974489+0.15566534j 0.01243335+0.03421132j\n",
      " 0.2363927 +0.25030015j]\n",
      "Obtained Vector: [ 0.36564549+0.1482279j   0.17780634+0.05408525j  0.33348816+0.07773496j\n",
      "  0.29708253+0.0494708j   0.24551498+0.06855967j  0.09987393+0.23479379j\n",
      "  0.16811169-0.06706791j  0.15467078+0.21003571j  0.01664109+0.04145506j\n",
      " -0.07306241+0.10141037j  0.09158611+0.05572784j  0.01107849+0.17272435j\n",
      "  0.13666364+0.21577009j  0.26440816+0.23217892j -0.0020588 -0.08799934j\n",
      "  0.22121425+0.2571896j ]\n",
      "Norm difference: 0.29650252115640324\n",
      "Parameters Found: [2.64382856 0.87563602 2.22285691 2.83969778 5.2843509  4.04932746\n",
      " 3.8376816  0.23029411 5.40305998 6.93622308 2.35672971 0.66948236\n",
      " 4.71311681 2.73856103 3.09654022 2.15203559 0.97809333 4.17069457\n",
      " 2.02206733 3.70885598 4.63158336 4.83727647 4.35513868 7.63199576\n",
      " 3.13510072 2.45514532 4.26313835 5.60950776 2.01989485 5.81103458\n",
      " 0.93820595 1.19184638 1.53998138 1.24931487 1.40191309 4.32153937\n",
      " 2.07380917 0.19019996 3.13241604 6.29910452 2.97419389 0.25699582\n",
      " 4.11255011 3.32812205 6.29353268 3.57306625 2.57376058 1.25181186\n",
      " 5.26173483 4.33433011 4.21036885 7.50935184 0.11093113 1.79604339\n",
      " 2.69242924 5.80888359]\n",
      "\n"
     ]
    },
    {
     "name": "stdout",
     "output_type": "stream",
     "text": [
      "Number of layers: 8\n",
      "Target Vector: [0.32412364+0.09287884j 0.25061448+0.09955364j 0.31111025+0.01993548j\n",
      " 0.30346345+0.04086106j 0.28765401+0.0437183j  0.11642566+0.20815363j\n",
      " 0.24434722+0.00573693j 0.20354419+0.28414697j 0.00660398+0.05214332j\n",
      " 0.01258437+0.01819374j 0.04182362+0.05816268j 0.09560594+0.15850192j\n",
      " 0.1636316 +0.20420812j 0.20974489+0.15566534j 0.01243335+0.03421132j\n",
      " 0.2363927 +0.25030015j]\n",
      "Obtained Vector: [ 0.38356302+0.07100864j  0.27398499+0.12027918j  0.36319318+0.09027873j\n",
      "  0.21478545-0.02717554j  0.26673931+0.09561239j  0.06251557+0.19593001j\n",
      "  0.2573602 -0.00470886j  0.15637885+0.17805132j -0.09121664-0.02206346j\n",
      "  0.01468582+0.03695669j  0.07802202+0.14036573j  0.07923146+0.21766543j\n",
      "  0.12051336+0.15602711j  0.22601048+0.17337475j  0.01272946+0.03908861j\n",
      "  0.22975733+0.24909765j]\n",
      "Norm difference: 0.2778170553896721\n",
      "Parameters Found: [6.96800343 3.77856169 5.20113181 3.44806168 4.04912092 5.24572862\n",
      " 5.40436957 5.11471314 4.68902978 5.41626156 5.23439609 4.05061258\n",
      " 1.01836901 5.01333215 4.53304179 3.08211221 2.44214529 6.74840376\n",
      " 2.18201888 3.71780141 2.66574333 4.26568792 3.067827   3.98425089\n",
      " 1.99904935 4.196806   5.71213227 4.98639482 1.01769286 2.84508359\n",
      " 4.84334183 3.03833119 3.38948595 4.15191388 3.35887909 1.44818439\n",
      " 2.63685655 5.39214208 2.58975889 1.2835246  2.81658668 2.62837374\n",
      " 2.04735833 2.44818499 1.50606182 1.51310142 2.60495782 3.0205116\n",
      " 5.48843076 4.55461205 0.50245063 0.60888711 3.64044702 3.71337853\n",
      " 6.23897253 1.54429182 3.48710782 3.14403676 1.28443635 5.82660971\n",
      " 4.34906097 1.12835857 5.42103512 4.39995886]\n",
      "\n",
      "Number of layers: 9\n",
      "Target Vector: [0.32412364+0.09287884j 0.25061448+0.09955364j 0.31111025+0.01993548j\n",
      " 0.30346345+0.04086106j 0.28765401+0.0437183j  0.11642566+0.20815363j\n",
      " 0.24434722+0.00573693j 0.20354419+0.28414697j 0.00660398+0.05214332j\n",
      " 0.01258437+0.01819374j 0.04182362+0.05816268j 0.09560594+0.15850192j\n",
      " 0.1636316 +0.20420812j 0.20974489+0.15566534j 0.01243335+0.03421132j\n",
      " 0.2363927 +0.25030015j]\n",
      "Obtained Vector: [ 0.26051272+0.13326594j  0.20977817+0.07473844j  0.33717401+0.0455315j\n",
      "  0.34918588+0.1043985j   0.22384723+0.01474434j  0.15099907+0.17535504j\n",
      "  0.20874815-0.06134531j  0.10870557+0.20181743j -0.07908277-0.00336808j\n",
      " -0.05361791-0.09298613j  0.09933447-0.00415274j  0.17029001+0.13839866j\n",
      "  0.19720677+0.27472344j  0.26173216+0.15677428j -0.01620113+0.07318131j\n",
      "  0.14943512+0.31813776j]\n",
      "Norm difference: 0.3283144108424067\n",
      "Parameters Found: [ 3.05892097  5.76112791  6.01178348  4.1808347   0.0487772   1.46222168\n",
      "  3.84550293  4.34174724  4.17720731  4.84079616  1.60805449  1.12305411\n",
      "  3.8878858   3.9651612   3.17880616  1.43397553  0.86358238  1.87332571\n",
      "  3.0426256   5.42496546  2.78619857  2.23848424 -0.22766537  6.42056203\n",
      "  5.90189095  0.13213838  6.09334317  1.76917254  3.66569607  0.33490917\n",
      "  0.56448183  1.19037191  4.13035517  3.01510185  2.14238096  1.43851353\n",
      "  4.98224901  3.66530062  2.93002598  3.09108256  2.19739104  5.3453829\n",
      "  3.16079668  0.18834502  1.67004292  3.91268572  0.9031077   2.62553294\n",
      "  4.02078352  1.092624    1.27243126  5.92385042  1.23045305  6.14702175\n",
      "  4.8236615   0.77575271  0.52310881  4.73972909  2.5605613   1.04063795\n",
      "  5.00270258  0.42392536  5.67051436  5.90612384  6.38743184  5.25292371\n",
      " -0.25959312  2.04578281  3.63320868  3.38722309  2.55432782  5.90099134]\n",
      "\n",
      "Number of layers: 10\n",
      "Target Vector: [0.32412364+0.09287884j 0.25061448+0.09955364j 0.31111025+0.01993548j\n",
      " 0.30346345+0.04086106j 0.28765401+0.0437183j  0.11642566+0.20815363j\n",
      " 0.24434722+0.00573693j 0.20354419+0.28414697j 0.00660398+0.05214332j\n",
      " 0.01258437+0.01819374j 0.04182362+0.05816268j 0.09560594+0.15850192j\n",
      " 0.1636316 +0.20420812j 0.20974489+0.15566534j 0.01243335+0.03421132j\n",
      " 0.2363927 +0.25030015j]\n",
      "Obtained Vector: [ 0.24347218+0.15011699j  0.32120453+0.026424j    0.27615919+0.12578777j\n",
      "  0.15317878-0.06467934j  0.31788888+0.07507585j  0.12824378+0.1979672j\n",
      "  0.34685297+0.01277529j -0.03010149+0.24825012j -0.07701376+0.00808377j\n",
      "  0.08979114-0.12244842j -0.06360775+0.07779807j  0.06476621+0.11534989j\n",
      "  0.03972703+0.32681699j  0.1165599 +0.16387281j  0.03653512+0.19868393j\n",
      "  0.25389881+0.1962047j ]\n",
      "Norm difference: 0.5038142710259373\n",
      "Parameters Found: [0.14057469 2.34211366 5.92513532 4.43979065 5.29225517 5.03034464\n",
      " 1.52890454 3.34131295 2.60708115 2.10015958 1.40466455 2.86102928\n",
      " 1.6398352  3.82704796 5.18807116 5.43341168 1.26078205 0.67868777\n",
      " 5.77476916 5.61810869 3.59287549 2.74332032 1.06763375 0.38141412\n",
      " 1.31612536 6.06482172 4.0607748  4.69114952 3.72536276 0.47661048\n",
      " 2.05653228 3.02599315 2.98936368 2.01766176 5.28022527 0.38732747\n",
      " 3.80803754 3.67245978 1.6167922  5.08792032 4.97691021 3.96848439\n",
      " 6.12076197 3.82764188 1.43755873 1.99559841 5.99084725 2.39698923\n",
      " 4.56839842 3.25615855 0.48909764 2.26547847 0.76173856 1.97919495\n",
      " 5.4970003  0.27405651 1.99366883 5.88615989 0.52334263 1.22410099\n",
      " 1.55467508 4.8671849  4.22602845 5.70921893 2.31068923 2.36536035\n",
      " 5.755011   1.65615151 6.63454397 4.29273769 4.47755254 0.8106809\n",
      " 5.65870006 1.87195734 1.385672   3.53929243 4.52075291 3.95995503\n",
      " 2.62888669 1.53436989]\n",
      "\n"
     ]
    }
   ],
   "source": [
    "# Initialize the COBYLA optimizer\n",
    "optimizer = COBYLA(maxiter=500, tol=0.0001)\n",
    "\n",
    "# Create the initial parameters (noting that our single qubit variational form has 3 parameters)\n",
    "cost_list = []\n",
    "for n_layers in range(1,11):\n",
    "    n_parameters_per_layer = 8\n",
    "    params = np.random.rand(n_layers*n_parameters_per_layer)*2*np.pi\n",
    "    ret = optimizer.optimize(num_vars=n_layers*n_parameters_per_layer, objective_function=norm_vector_difference, \n",
    "                             initial_point=params)\n",
    "\n",
    "    # Obtain the output distribution using the final parameters\n",
    "    qc = build_variational_circuit(n_layers, ret[0])\n",
    "    final_vector = execute(qc, backend).result().get_statevector(qc, decimals = 3)\n",
    "    \n",
    "    #save cost function values\n",
    "    cost_list.append(ret[1])\n",
    "    \n",
    "    print(\"Number of layers:\", n_layers)\n",
    "    print(\"Target Vector:\", target_vector)\n",
    "    print(\"Obtained Vector:\", final_vector)\n",
    "    print(\"Norm difference:\", ret[1])\n",
    "    print(\"Parameters Found:\", ret[0])\n",
    "    print('')"
   ]
  },
  {
   "cell_type": "code",
   "execution_count": 20,
   "metadata": {},
   "outputs": [
    {
     "data": {
      "image/png": "[encoded data removed]",
      "text/plain": [
       "<Figure size 432x288 with 1 Axes>"
      ]
     },
     "metadata": {
      "needs_background": "light"
     },
     "output_type": "display_data"
    }
   ],
   "source": [
    "n_layers = range(1,11)\n",
    "plt.plot(n_layers, cost_list)\n",
    "plt.xlabel(\"number of layers\")\n",
    "plt.ylabel(\"objective function\")\n",
    "plt.show()"
   ]
  },
  {
   "cell_type": "code",
   "execution_count": 21,
   "metadata": {
    "scrolled": false
   },
   "outputs": [
    {
     "name": "stdout",
     "output_type": "stream",
     "text": [
      "Number of layers: 1\n",
      "Target Distribution: [0.11368261 0.07271854 0.09718701 0.09375969 0.08465612 0.05688287\n",
      " 0.05973848 0.12216974 0.00276254 0.00048938 0.00513211 0.03426336\n",
      " 0.06847626 0.06822462 0.001325   0.11853167]\n",
      "Obtained Distribution: [0.053  0.0919 0.0536 0.0918 0.0812 0.1208 0.0778 0.1264 0.0216 0.0373\n",
      " 0.0265 0.039  0.0342 0.0545 0.0358 0.0546]\n",
      "Output Error (Manhattan Distance): 0.45003597031329784\n",
      "Parameters Found: [4.47061745 4.71494281 4.52549243 1.16552576 0.44412187 2.97348371\n",
      " 2.73789441 1.86984822]\n",
      "\n",
      "Number of layers: 2\n",
      "Target Distribution: [0.11368261 0.07271854 0.09718701 0.09375969 0.08465612 0.05688287\n",
      " 0.05973848 0.12216974 0.00276254 0.00048938 0.00513211 0.03426336\n",
      " 0.06847626 0.06822462 0.001325   0.11853167]\n",
      "Obtained Distribution: [0.1181 0.0523 0.0971 0.0504 0.0773 0.0853 0.0618 0.1303 0.007  0.0035\n",
      " 0.0071 0.0026 0.0523 0.071  0.0736 0.1103]\n",
      "Output Error (Manhattan Distance): 0.23844953254592957\n",
      "Parameters Found: [1.52205585 6.11164691 5.30435426 2.1911518  1.75385876 7.28535029\n",
      " 4.87445863 0.98518301 3.65233173 1.62134152 4.07896768 4.11408275\n",
      " 1.80169491 7.22801411 2.8023305  4.28256036]\n",
      "\n",
      "Number of layers: 3\n",
      "Target Distribution: [0.11368261 0.07271854 0.09718701 0.09375969 0.08465612 0.05688287\n",
      " 0.05973848 0.12216974 0.00276254 0.00048938 0.00513211 0.03426336\n",
      " 0.06847626 0.06822462 0.001325   0.11853167]\n",
      "Obtained Distribution: [0.1175 0.0675 0.0909 0.0841 0.0773 0.0494 0.0271 0.1185 0.0225 0.0042\n",
      " 0.01   0.0194 0.1079 0.0673 0.0135 0.1229]\n",
      "Output Error (Manhattan Distance): 0.17066137417731067\n",
      "Parameters Found: [5.10782672 1.67949452 4.34541792 1.04156213 4.73231525 5.7283234\n",
      " 1.64772547 6.66633421 0.33551099 6.07965985 1.59557985 4.0655339\n",
      " 4.89293881 3.10326545 3.40748958 4.63728767 1.64276185 3.73207544\n",
      " 3.71572942 3.49904928 1.99919657 1.64250818 6.31664426 6.04132852]\n",
      "\n",
      "Number of layers: 4\n",
      "Target Distribution: [0.11368261 0.07271854 0.09718701 0.09375969 0.08465612 0.05688287\n",
      " 0.05973848 0.12216974 0.00276254 0.00048938 0.00513211 0.03426336\n",
      " 0.06847626 0.06822462 0.001325   0.11853167]\n",
      "Obtained Distribution: [0.0708 0.0751 0.0211 0.0908 0.0889 0.1286 0.0558 0.1101 0.023  0.0075\n",
      " 0.0487 0.0399 0.0794 0.0731 0.0131 0.0741]\n",
      "Output Error (Manhattan Distance): 0.3961876447776128\n",
      "Parameters Found: [1.2968136  0.414795   4.86771822 2.79369217 4.04771343 6.24052085\n",
      " 4.16019132 2.71894541 0.41099537 4.27635898 5.87883346 3.11329204\n",
      " 5.28335677 0.05299584 1.09850192 1.85084954 5.64576775 4.61808412\n",
      " 3.72755336 4.20755699 5.32892968 4.05651232 0.41077626 1.64113659\n",
      " 1.05768385 4.92121989 6.15216761 2.70192429 2.47130643 4.07502652\n",
      " 0.12387268 4.16040134]\n",
      "\n",
      "Number of layers: 5\n",
      "Target Distribution: [0.11368261 0.07271854 0.09718701 0.09375969 0.08465612 0.05688287\n",
      " 0.05973848 0.12216974 0.00276254 0.00048938 0.00513211 0.03426336\n",
      " 0.06847626 0.06822462 0.001325   0.11853167]\n",
      "Obtained Distribution: [0.1173 0.0745 0.0981 0.1015 0.0784 0.0923 0.0333 0.0382 0.045  0.0045\n",
      " 0.0052 0.0157 0.0572 0.0952 0.0223 0.1213]\n",
      "Output Error (Manhattan Distance): 0.28497312046027923\n",
      "Parameters Found: [4.69311127 6.47334416 2.67727718 6.94657363 3.11033975 3.09405088\n",
      " 5.84067057 4.65329649 3.66754573 5.2308815  3.49776617 2.77682972\n",
      " 1.03137002 1.45999818 0.74503078 1.68483694 1.2945867  1.55992952\n",
      " 7.44140767 1.09704248 2.49599127 3.39886241 4.22010872 4.12251381\n",
      " 2.02150433 0.82079332 1.36792472 1.97006197 4.00636219 5.2918114\n",
      " 1.19965494 5.37828091 3.92525511 3.06735645 2.04039287 4.80850939\n",
      " 5.89589422 3.08107049 4.61516138 4.537056  ]\n",
      "\n",
      "Number of layers: 6\n",
      "Target Distribution: [0.11368261 0.07271854 0.09718701 0.09375969 0.08465612 0.05688287\n",
      " 0.05973848 0.12216974 0.00276254 0.00048938 0.00513211 0.03426336\n",
      " 0.06847626 0.06822462 0.001325   0.11853167]\n",
      "Obtained Distribution: [0.1098 0.0716 0.0903 0.0888 0.0866 0.0513 0.0445 0.1299 0.0098 0.0163\n",
      " 0.0179 0.0295 0.0687 0.0679 0.0018 0.1153]\n",
      "Output Error (Manhattan Distance): 0.0721230783700406\n",
      "Parameters Found: [1.20418642 1.50731967 3.38283448 5.67798637 1.19013421 4.86014239\n",
      " 2.86105835 0.64240036 4.44481719 4.57099688 0.52306521 4.40404012\n",
      " 5.77304823 1.14334942 0.27656134 2.83895723 5.27882238 1.35663537\n",
      " 4.83264667 2.83883574 2.05251406 0.72028193 3.31176948 3.63913788\n",
      " 5.22867432 5.05345504 2.84577106 6.21313559 2.61127771 5.18941768\n",
      " 2.18731812 1.56470872 5.59485953 3.01433397 5.17765636 4.517851\n",
      " 1.62024874 1.91062451 4.25858008 1.10660687 2.06150457 3.41917963\n",
      " 1.2684191  3.41979845 3.45639272 1.25890362 5.98123179 2.91050064]\n",
      "\n",
      "Number of layers: 7\n",
      "Target Distribution: [0.11368261 0.07271854 0.09718701 0.09375969 0.08465612 0.05688287\n",
      " 0.05973848 0.12216974 0.00276254 0.00048938 0.00513211 0.03426336\n",
      " 0.06847626 0.06822462 0.001325   0.11853167]\n",
      "Obtained Distribution: [0.0919 0.07   0.0953 0.0968 0.0824 0.0756 0.0681 0.1201 0.0029 0.0172\n",
      " 0.0228 0.043  0.0289 0.0652 0.0038 0.116 ]\n",
      "Output Error (Manhattan Distance): 0.12905105898219893\n",
      "Parameters Found: [ 5.64734508  1.32719228  2.1372042   3.00051427  6.29561565  4.12031705\n",
      "  3.09434719  2.02075443  4.53555158  1.58045966  0.8528055   6.15787994\n",
      "  0.79831382  0.97133363  6.16458852  2.87941161 -0.115116    4.02162542\n",
      "  3.45167372  2.6947129   6.09588241  6.55011092  1.28746927 -0.43636057\n",
      "  3.42156724  5.97955559  3.21082167  5.56762445  5.2403127   3.46635837\n",
      "  4.32428425  3.33357223  3.70785647  5.88040747  5.42338343  0.95928642\n",
      "  5.82723753  2.40460804  4.67771215  2.99395134  4.44404662  4.4337955\n",
      "  4.86010929  0.76452007  0.70476353  3.16207275  2.94358853  1.76215596\n",
      "  1.73020667  1.94613885  2.74553623  3.27332197  5.43595634  3.50486548\n",
      "  0.41947858  4.29074855]\n",
      "\n",
      "Number of layers: 8\n",
      "Target Distribution: [0.11368261 0.07271854 0.09718701 0.09375969 0.08465612 0.05688287\n",
      " 0.05973848 0.12216974 0.00276254 0.00048938 0.00513211 0.03426336\n",
      " 0.06847626 0.06822462 0.001325   0.11853167]\n",
      "Obtained Distribution: [0.1064 0.0641 0.0967 0.0876 0.0844 0.0498 0.0595 0.1226 0.0252 0.0071\n",
      " 0.0249 0.0313 0.0573 0.0572 0.0014 0.1245]\n",
      "Output Error (Manhattan Distance): 0.09202912301004515\n",
      "Parameters Found: [0.71589861 1.2375217  0.46906112 2.94887622 1.53801624 3.50699131\n",
      " 1.8645714  2.16975333 2.4873359  5.19443044 4.03116835 4.01949094\n",
      " 2.97380118 2.68807916 3.3567254  3.71965715 0.81840265 2.31093768\n",
      " 0.56267658 0.71217782 0.43693742 3.98973027 4.88765589 2.42155129\n",
      " 3.22475697 1.74309199 1.02176079 2.93933599 0.7663652  3.56912377\n",
      " 2.65862625 4.43593376 4.68297741 2.93216663 5.08952247 5.96204402\n",
      " 1.51530681 1.42184182 0.47765674 1.62205934 5.27074049 6.11451187\n",
      " 1.78064308 1.46640771 0.91446042 0.57675662 3.65249889 3.0535257\n",
      " 1.12099432 4.33868705 0.71355446 3.63591749 1.73104752 0.1322204\n",
      " 6.31381402 1.76868985 4.26688869 4.85818215 2.18896687 4.81694242\n",
      " 0.98507886 2.45009597 3.9944984  1.53691057]\n",
      "\n",
      "Number of layers: 9\n",
      "Target Distribution: [0.11368261 0.07271854 0.09718701 0.09375969 0.08465612 0.05688287\n",
      " 0.05973848 0.12216974 0.00276254 0.00048938 0.00513211 0.03426336\n",
      " 0.06847626 0.06822462 0.001325   0.11853167]\n",
      "Obtained Distribution: [0.1024 0.042  0.0954 0.081  0.0816 0.0383 0.0604 0.1246 0.0342 0.032\n",
      " 0.0163 0.0399 0.0687 0.072  0.0314 0.0798]\n",
      "Output Error (Manhattan Distance): 0.20403879681323822\n",
      "Parameters Found: [4.02939265 1.15071461 2.14933488 5.43230969 0.46037823 1.10607089\n",
      " 5.3140936  7.13381454 1.63647572 2.14892606 2.53411292 5.75597295\n",
      " 2.15671014 2.50267784 5.32258368 4.88455476 2.99410364 5.2975197\n",
      " 5.10367158 2.82661084 1.12781495 3.50605085 4.41206295 4.72896517\n",
      " 5.78153638 5.59106057 3.97151878 0.7589377  1.09647259 0.72113975\n",
      " 4.79641605 7.13230694 1.66882936 0.76622183 6.04068574 3.4008042\n",
      " 0.63716547 2.36515361 5.12699878 3.76709187 4.93334975 3.55781419\n",
      " 1.68051939 3.3444364  1.56721902 0.40297873 2.31229313 0.78094061\n",
      " 5.58814542 2.65243157 3.18907744 0.78010489 3.57738488 1.03130194\n",
      " 0.58669133 5.53283668 2.7370649  3.2539754  5.03127189 3.40082873\n",
      " 2.4523331  3.05975188 3.04511581 3.23431988 3.73266808 1.71229791\n",
      " 4.50074296 0.50567497 3.59245873 2.61538172 0.8595074  5.37824233]\n",
      "\n",
      "Number of layers: 10\n",
      "Target Distribution: [0.11368261 0.07271854 0.09718701 0.09375969 0.08465612 0.05688287\n",
      " 0.05973848 0.12216974 0.00276254 0.00048938 0.00513211 0.03426336\n",
      " 0.06847626 0.06822462 0.001325   0.11853167]\n",
      "Obtained Distribution: [0.1142 0.0655 0.0968 0.0912 0.0757 0.0532 0.0573 0.1212 0.0283 0.017\n",
      " 0.0011 0.0353 0.0639 0.0607 0.0009 0.1177]\n",
      "Output Error (Manhattan Distance): 0.08180595186781016\n",
      "Parameters Found: [2.21671056 2.59800584 5.45517891 0.56757877 0.33214304 3.98182558\n",
      " 0.68956562 1.87838049 5.94861163 3.67006355 5.67930962 2.80956332\n",
      " 3.63124874 5.47523176 4.40131622 1.83710894 3.79159917 2.99628348\n",
      " 4.86148471 1.69413847 3.50698228 3.0908133  3.58847465 5.7520459\n",
      " 1.00135024 3.33322027 0.07933645 2.36582024 2.1767429  6.06099735\n",
      " 0.15807718 3.31107452 0.13265522 4.76155054 3.78592374 1.29607125\n",
      " 1.56140492 1.98668283 0.2907063  4.41381748 0.54607699 5.58284992\n",
      " 2.94737707 1.1827945  5.58173167 6.25641037 5.37181133 1.8643785\n",
      " 0.07637334 1.77839835 6.12308486 0.08153581 5.37568529 5.16128917\n",
      " 2.53789646 0.05339099 3.17710303 4.35362244 0.82741525 6.28250828\n",
      " 6.07285826 1.43567134 0.56793152 3.14790939 5.36104752 5.88982414\n",
      " 0.93351741 0.04585988 2.375092   3.59812062 0.54343827 0.55304258\n",
      " 5.03995997 2.63907855 0.81503302 3.80788811 5.31151045 6.3006035\n",
      " 0.91761726 0.24412633]\n",
      "\n"
     ]
    }
   ],
   "source": [
    "backend = Aer.get_backend(\"qasm_simulator\")\n",
    "NUM_SHOTS = 10000\n",
    "\n",
    "# Initialize the COBYLA optimizer\n",
    "optimizer = COBYLA(maxiter=500, tol=0.0001)\n",
    "\n",
    "# Create the initial parameters (noting that our single qubit variational form has 3 parameters)\n",
    "n_parameters_per_layer = 8\n",
    "cost_list = []\n",
    "for n_layers in range(1,11):\n",
    "    params = np.random.rand(n_layers*n_parameters_per_layer)*2*np.pi\n",
    "    ret = optimizer.optimize(num_vars=n_layers*n_parameters_per_layer, objective_function=probability_difference, \n",
    "                             initial_point=params)\n",
    "\n",
    "    # Obtain the output distribution using the final parameters\n",
    "    qc = build_variational_circuit(n_layers, ret[0])\n",
    "    qc.measure_all()\n",
    "    counts = execute(qc, backend, shots=NUM_SHOTS).result().get_counts(qc)\n",
    "    output_distr = get_probability_distribution(counts)\n",
    "    \n",
    "    cost_list.append(ret[1])\n",
    "    \n",
    "    print(\"Number of layers:\", n_layers)\n",
    "    print(\"Target Distribution:\", target_distr)\n",
    "    print(\"Obtained Distribution:\", output_distr)\n",
    "    print(\"Output Error (Manhattan Distance):\", ret[1])\n",
    "    print(\"Parameters Found:\", ret[0])\n",
    "    print('')"
   ]
  },
  {
   "cell_type": "code",
   "execution_count": 22,
   "metadata": {},
   "outputs": [
    {
     "data": {
      "image/png": "[encoded data removed]",
      "text/plain": [
       "<Figure size 432x288 with 1 Axes>"
      ]
     },
     "metadata": {
      "needs_background": "light"
     },
     "output_type": "display_data"
    }
   ],
   "source": [
    "n_layers = range(1,11)\n",
    "plt.plot(n_layers, cost_list)\n",
    "plt.xlabel(\"number of layers\")\n",
    "plt.ylabel(\"objective function\")\n",
    "plt.show()"
   ]
  },
  {
   "cell_type": "markdown",
   "metadata": {},
   "source": [
    "## Optimize the variational circuit using Pennylane"
   ]
  },
  {
   "cell_type": "code",
   "execution_count": 23,
   "metadata": {},
   "outputs": [],
   "source": [
    "dev = qml.device('default.qubit', wires = 4)"
   ]
  },
  {
   "cell_type": "code",
   "execution_count": 24,
   "metadata": {},
   "outputs": [
    {
     "name": "stdout",
     "output_type": "stream",
     "text": [
      "(16, 16)\n"
     ]
    }
   ],
   "source": [
    "target_vector = target_vector.reshape((16,1))\n",
    "density_matrix = target_vector @ np.transpose(np.conjugate(target_vector))\n",
    "print(density_matrix.shape)"
   ]
  },
  {
   "cell_type": "code",
   "execution_count": 25,
   "metadata": {},
   "outputs": [],
   "source": [
    "def layer(params: np.array) -> None:\n",
    "    \n",
    "    n_parameters = 8\n",
    "    \n",
    "    if params.shape[0] != n_parameters:\n",
    "        print(f\"Alert! You gave {params.shape[0]} parameters for a layer of {n_parameters} parameters.\")\n",
    "        \n",
    "    else:\n",
    "        odd_block(params[:int(n_parameters/2)])\n",
    "        even_block(params[int(n_parameters/2):])\n",
    "\n",
    "def odd_block(params: np.array) -> None:\n",
    "    \n",
    "    n_parameters = 4\n",
    "    \n",
    "    if params.shape[0] != n_parameters:\n",
    "        print(f\"Alert! You gave {params.shape[0]} parameters for a block of {n_parameters} parameters.\")\n",
    "        \n",
    "    else:\n",
    "    \n",
    "        for i in range(n_parameters):\n",
    "            qml.RX(params[i], wires = i)\n",
    "        \n",
    "\n",
    "def even_block(params: np.array) -> None:\n",
    "    \n",
    "    n_parameters = 4\n",
    "    \n",
    "    if params.shape[0] != n_parameters:\n",
    "        print(f\"Alert! You gave {params.shape[0]} parameters for a block of {n_parameters} parameters.\")\n",
    "        \n",
    "    else:\n",
    "    \n",
    "        for i in range(n_parameters):\n",
    "            qml.RZ(params[i], wires = i)\n",
    "\n",
    "        tuples = [(i,j) for i in range(n_parameters) for j in range(n_parameters) if i < j]\n",
    "\n",
    "        for tup in tuples:\n",
    "            qml.CZ(wires=[tup[0], tup[1]])"
   ]
  },
  {
   "cell_type": "code",
   "execution_count": 26,
   "metadata": {},
   "outputs": [],
   "source": [
    "@qml.qnode(dev)\n",
    "def var_circuit(params):\n",
    "\n",
    "    #number of parameters per layer\n",
    "    n_parameters_per_layer = 8\n",
    "    for i in range(number_layers):\n",
    "        start = i*n_parameters_per_layer\n",
    "        end = (i+1)*n_parameters_per_layer \n",
    "        layer(params[start:end])\n",
    "\n",
    "    return qml.expval(qml.Hermitian(density_matrix, wires=[0,1,2,3]))"
   ]
  },
  {
   "cell_type": "code",
   "execution_count": 27,
   "metadata": {},
   "outputs": [],
   "source": [
    "def cost(x):\n",
    "    \n",
    "    return (1.0 - var_circuit(x))"
   ]
  },
  {
   "cell_type": "code",
   "execution_count": 28,
   "metadata": {},
   "outputs": [
    {
     "data": {
      "text/plain": [
       "0.9865831714613834"
      ]
     },
     "execution_count": 28,
     "metadata": {},
     "output_type": "execute_result"
    }
   ],
   "source": [
    "n_parameters_per_layer = 8\n",
    "number_layers = 1\n",
    "params = np.random.rand(number_layers*n_parameters_per_layer)*2*np.pi\n",
    "\n",
    "cost(params)"
   ]
  },
  {
   "cell_type": "code",
   "execution_count": 29,
   "metadata": {},
   "outputs": [],
   "source": [
    "init_params = np.random.rand(number_layers*n_parameters_per_layer)*2*np.pi"
   ]
  },
  {
   "cell_type": "code",
   "execution_count": 30,
   "metadata": {},
   "outputs": [],
   "source": [
    "opt = qml.GradientDescentOptimizer(stepsize = 0.4)\n",
    "\n",
    "steps = 100\n",
    "\n",
    "params = init_params"
   ]
  },
  {
   "cell_type": "code",
   "execution_count": 31,
   "metadata": {},
   "outputs": [
    {
     "name": "stdout",
     "output_type": "stream",
     "text": [
      "0.7227465105229097\n",
      "0.1309960630235848\n",
      "0.07542990193198362\n",
      "0.027576642518004735\n",
      "0.002942209207676183\n",
      "0.0015538668439672998\n",
      "4.739579864210253e-05\n",
      "0.00015171673160196963\n",
      "7.908822598934329e-06\n",
      "2.0571253922518906e-08\n"
     ]
    }
   ],
   "source": [
    "cost_list = []\n",
    "for number_layers in range(1,11):\n",
    "    init_params = np.random.rand(number_layers*n_parameters_per_layer)*2*np.pi\n",
    "    opt = qml.GradientDescentOptimizer(stepsize = 0.4)\n",
    "\n",
    "    steps = 100\n",
    "\n",
    "    params = init_params\n",
    "    for i in range(steps):\n",
    "\n",
    "        params = opt.step(cost, params)\n",
    "\n",
    "    print(cost(params))\n",
    "    cost_list.append(cost(params))"
   ]
  },
  {
   "cell_type": "code",
   "execution_count": 32,
   "metadata": {},
   "outputs": [
    {
     "data": {
      "image/png": "[encoded data removed]",
      "text/plain": [
       "<Figure size 432x288 with 1 Axes>"
      ]
     },
     "metadata": {
      "needs_background": "light"
     },
     "output_type": "display_data"
    }
   ],
   "source": [
    "n_layers = range(1,11)\n",
    "plt.plot(n_layers, cost_list)\n",
    "plt.xlabel(\"number of layers\")\n",
    "plt.ylabel(\"cost function\")\n",
    "plt.show()"
   ]
  },
  {
   "cell_type": "markdown",
   "metadata": {},
   "source": [
    "## Conclusions"
   ]
  },
  {
   "cell_type": "code",
   "execution_count": null,
   "metadata": {},
   "outputs": [],
   "source": []
  }
 ],
 "metadata": {
  "kernelspec": {
   "display_name": "Python 3",
   "language": "python",
   "name": "python3"
  },
  "language_info": {
   "codemirror_mode": {
    "name": "ipython",
    "version": 3
   },
   "file_extension": ".py",
   "mimetype": "text/x-python",
   "name": "python",
   "nbconvert_exporter": "python",
   "pygments_lexer": "ipython3",
   "version": "3.6.8"
  }
 },
 "nbformat": 4,
 "nbformat_minor": 4
}
