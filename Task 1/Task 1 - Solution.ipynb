{
 "cells": [
  {
   "cell_type": "code",
   "execution_count": 1,
   "metadata": {},
   "outputs": [],
   "source": [
    "import pennylane as qml\n",
    "from pennylane import numpy as np\n",
    "from qiskit import QuantumCircuit, QuantumRegister, ClassicalRegister, execute, Aer, IBMQ\n",
    "from qiskit.visualization import plot_histogram, plot_bloch_multivector\n",
    "from qiskit.aqua.components.optimizers import COBYLA\n",
    "import matplotlib.pyplot as plt"
   ]
  },
  {
   "cell_type": "code",
   "execution_count": 2,
   "metadata": {},
   "outputs": [],
   "source": [
    "dev = qml.device('default.qubit', wires = 2)"
   ]
  },
  {
   "cell_type": "code",
   "execution_count": 3,
   "metadata": {},
   "outputs": [],
   "source": [
    "@qml.qnode(dev)\n",
    "def circuit(params):\n",
    "    A = np.array([[ 0.5, 0.5],\n",
    "           [ 0.5,  0.5]])\n",
    "    qml.U3(params[0], params[1], params[2], wires = 0)\n",
    "    \n",
    "    return qml.expval(qml.Hermitian(A, wires = 0))"
   ]
  },
  {
   "cell_type": "code",
   "execution_count": 4,
   "metadata": {},
   "outputs": [
    {
     "data": {
      "text/plain": [
       "0.9999999999999996"
      ]
     },
     "execution_count": 4,
     "metadata": {},
     "output_type": "execute_result"
    }
   ],
   "source": [
    "params = [np.pi*0.5, 0, 0.3]\n",
    "a = circuit(params)\n",
    "a"
   ]
  },
  {
   "cell_type": "code",
   "execution_count": 5,
   "metadata": {},
   "outputs": [],
   "source": [
    "def cost(x):\n",
    "    \n",
    "    return (1.0 - circuit(x))"
   ]
  },
  {
   "cell_type": "code",
   "execution_count": 6,
   "metadata": {},
   "outputs": [
    {
     "data": {
      "text/plain": [
       "0.17789115638115482"
      ]
     },
     "execution_count": 6,
     "metadata": {},
     "output_type": "execute_result"
    }
   ],
   "source": [
    "init_params = np.array([0.7, 0, 0.3])\n",
    "cost(init_params)"
   ]
  },
  {
   "cell_type": "code",
   "execution_count": 7,
   "metadata": {},
   "outputs": [],
   "source": [
    "opt = qml.GradientDescentOptimizer(stepsize = 0.4)\n",
    "\n",
    "steps = 100\n",
    "\n",
    "params = init_params"
   ]
  },
  {
   "cell_type": "code",
   "execution_count": 8,
   "metadata": {},
   "outputs": [
    {
     "name": "stdout",
     "output_type": "stream",
     "text": [
      "[1.57079633 0.         0.3       ]\n"
     ]
    }
   ],
   "source": [
    "for i in range(steps):\n",
    "    \n",
    "    params = opt.step(cost, params)\n",
    "    \n",
    "print(params)"
   ]
  },
  {
   "cell_type": "code",
   "execution_count": 9,
   "metadata": {},
   "outputs": [
    {
     "data": {
      "text/plain": [
       "4.440892098500626e-16"
      ]
     },
     "execution_count": 9,
     "metadata": {},
     "output_type": "execute_result"
    }
   ],
   "source": [
    "cost(params)"
   ]
  },
  {
   "cell_type": "markdown",
   "metadata": {},
   "source": [
    "## Generating a proper random quantum state and its probability vector\n",
    "\n",
    "Explain some things here\n",
    "$|\\psi\\rangle \\rightarrow |\\psi\\rangle \\langle \\psi |$\n",
    "\n",
    "$|v| = \\sqrt{\\langle v| v \\rangle} = \\sqrt{v^{\\dagger}v}$"
   ]
  },
  {
   "cell_type": "code",
   "execution_count": 10,
   "metadata": {},
   "outputs": [],
   "source": [
    "def norm(complex_vector: np.array) -> float:\n",
    "    \"\"\"Returns the norm of a complex vector.\n",
    "    \n",
    "    Args:\n",
    "       complex_vector (np.arrray of shape (dim,)):\n",
    "           complex vector with an arbitrary dimension.\n",
    "           \n",
    "       \n",
    "    Returns:\n",
    "        norm (float): norm or magnitude of the complex vector.\n",
    "            \n",
    "    \"\"\"\n",
    "    \n",
    "    #define the norm of a complex vector here\n",
    "    norm = np.sqrt(sum([np.square(np.absolute(complex_vector[i])) for i in range(complex_vector.shape[0])]))\n",
    "    \n",
    "    return norm\n",
    "\n",
    "def random_quantum_state(dim: int) -> np.array:\n",
    "    \"\"\"Creates a normalized random complex vector of a defined\n",
    "    dimension.\n",
    "    \n",
    "    Args:\n",
    "        dim (int): integer number specifying the dimension\n",
    "            of the vector that we want to generate.\n",
    "            \n",
    "    Returns:\n",
    "        (np.array): normalized complex vector of the given\n",
    "            dimension.\n",
    "    \"\"\"\n",
    "    #generate an unnormalized complex vector of dimension = dim\n",
    "    Z = np.random.random(dim) + np.random.random(dim)*1j\n",
    "    \n",
    "    #normalize the complex vector Z\n",
    "    Z /= norm(Z)\n",
    "    \n",
    "    return Z\n",
    "\n",
    "def get_probabilities(complex_vector: np.array) -> np.array:\n",
    "    \"\"\"Get the probabilities associated to a quantum state.\n",
    "    This is a vector in which each element is the square of\n",
    "    the magnitude of respective complex number in that element.\n",
    "    \n",
    "    Args:\n",
    "        complex_vector (np.array):\n",
    "        \n",
    "    Retuns:\n",
    "        (np.array): \n",
    "    \"\"\"\n",
    "    \n",
    "    if 1.0 - norm(complex_vector) > 0.001:\n",
    "        print(\"Alert! The quantum state apparently is not normalized.\")\n",
    "        \n",
    "    else:\n",
    "        return np.square(np.absolute(complex_vector))"
   ]
  },
  {
   "cell_type": "code",
   "execution_count": 11,
   "metadata": {},
   "outputs": [],
   "source": [
    "#two qubits -> a complex vector of dimension 4\n",
    "n_qubits = 3\n",
    "dim = 2**(n_qubits)\n",
    "psi = random_quantum_state(dim)"
   ]
  },
  {
   "cell_type": "code",
   "execution_count": 12,
   "metadata": {},
   "outputs": [
    {
     "data": {
      "text/plain": [
       "tensor([0.02291557, 0.39770019, 0.08195785, 0.12567407, 0.15402423,\n",
       "        0.19777694, 0.01717585, 0.0027753 ], requires_grad=True)"
      ]
     },
     "execution_count": 12,
     "metadata": {},
     "output_type": "execute_result"
    }
   ],
   "source": [
    "get_probabilities(psi)"
   ]
  },
  {
   "cell_type": "markdown",
   "metadata": {},
   "source": [
    "## Building the variational quantum circuit in Qiskit"
   ]
  },
  {
   "cell_type": "code",
   "execution_count": 13,
   "metadata": {},
   "outputs": [],
   "source": [
    "def build_variational_circuit(number_layers: int, params: np.array) -> QuantumCircuit:\n",
    "    #how many parameters will have given the number_layers\n",
    "    n_parameters = 8*number_layers\n",
    "    \n",
    "    if params.shape[0] != n_parameters:\n",
    "        print(f\"Alert! You gave {params.shape[0]} parameters for a circuit of {n_parameters} parameters.\")\n",
    "        \n",
    "    else:\n",
    "        #create the circuit\n",
    "        qr = QuantumRegister(4, name=\"q\")\n",
    "        cr = ClassicalRegister(4, name=\"c\")\n",
    "        qc = QuantumCircuit(qr, cr)\n",
    "\n",
    "        #number of parameters per layer\n",
    "        n_parameters_per_layer = 8\n",
    "        for i in range(number_layers):\n",
    "            start = i*n_parameters_per_layer\n",
    "            end = (i+1)*n_parameters_per_layer \n",
    "            layer(qc, params[start:end])\n",
    "            \n",
    "        return qc\n",
    "    \n",
    "def layer(qc: QuantumCircuit, params: np.array) -> None:\n",
    "    \n",
    "    n_parameters = 8\n",
    "    \n",
    "    if params.shape[0] != n_parameters:\n",
    "        print(f\"Alert! You gave {params.shape[0]} parameters for a layer of {n_parameters} parameters.\")\n",
    "        \n",
    "    else:\n",
    "        odd_block(qc, params[:int(n_parameters/2)])\n",
    "        even_block(qc, params[int(n_parameters/2):])\n",
    "        qc.barrier()\n",
    "        \n",
    "#qiskit  odd block\n",
    "def odd_block(qc: QuantumCircuit, params: np.array) -> None:\n",
    "    \n",
    "    n_parameters = 4\n",
    "    \n",
    "    if params.shape[0] != n_parameters:\n",
    "        print(f\"Alert! You gave {params.shape[0]} parameters for a block of {n_parameters} parameters.\")\n",
    "        \n",
    "    else:\n",
    "    \n",
    "        for i in range(n_parameters):\n",
    "            qc.rx(params[i], i)\n",
    "        \n",
    "#qiskit even block\n",
    "def even_block(qc: QuantumCircuit, params: np.array) -> None:\n",
    "    \n",
    "    n_parameters = 4\n",
    "    \n",
    "    if params.shape[0] != n_parameters:\n",
    "        print(f\"Alert! You gave {params.shape[0]} parameters for a block of {n_parameters} parameters.\")\n",
    "        \n",
    "    else:\n",
    "    \n",
    "        for i in range(n_parameters):\n",
    "            qc.rz(params[i], i)\n",
    "\n",
    "        tuples = [(i,j) for i in range(n_parameters) for j in range(n_parameters) if i < j]\n",
    "\n",
    "        for tup in tuples:\n",
    "            qc.cz(tup[0], tup[1])"
   ]
  },
  {
   "cell_type": "code",
   "execution_count": 14,
   "metadata": {},
   "outputs": [],
   "source": [
    "n_parameters_per_layer = 8\n",
    "n_layers = 2\n",
    "params = np.random.rand(n_layers*n_parameters_per_layer)*2*np.pi\n",
    "qc = build_variational_circuit(n_layers, params)"
   ]
  },
  {
   "cell_type": "code",
   "execution_count": 15,
   "metadata": {},
   "outputs": [
    {
     "data": {
      "image/png": "[encoded data removed]",
      "text/plain": [
       "<Figure size 1224.38x325.08 with 1 Axes>"
      ]
     },
     "execution_count": 15,
     "metadata": {},
     "output_type": "execute_result"
    }
   ],
   "source": [
    "qc.draw(output='mpl')"
   ]
  },
  {
   "cell_type": "markdown",
   "metadata": {},
   "source": [
    "## Optimization"
   ]
  },
  {
   "cell_type": "code",
   "execution_count": 16,
   "metadata": {},
   "outputs": [
    {
     "name": "stdout",
     "output_type": "stream",
     "text": [
      "[ 0.14130545+0.05426243j -0.21828528+0.05056519j  0.01431155-0.12850178j\n",
      " -0.01799484-0.10659358j -0.11312134+0.27170016j  0.01974972+0.26233738j\n",
      " -0.05930685+0.00099888j  0.01615268+0.05049682j  0.26152946-0.38743289j\n",
      "  0.01903156-0.42528625j  0.12159399-0.00652902j -0.02141493-0.04533206j\n",
      " -0.42647817-0.08351368j  0.16345367-0.01451088j  0.05889473-0.16039646j\n",
      " -0.17741509-0.206859j  ]\n"
     ]
    }
   ],
   "source": [
    "backend = Aer.get_backend('statevector_simulator')\n",
    "\n",
    "job = execute(qc, backend)\n",
    "\n",
    "result = job.result()\n",
    "\n",
    "outputstate = result.get_statevector(qc, decimals=3)\n",
    "print(outputstate)"
   ]
  },
  {
   "cell_type": "code",
   "execution_count": 17,
   "metadata": {},
   "outputs": [],
   "source": [
    "def norm_vector_difference(params):\n",
    "    \n",
    "    qc = build_variational_circuit(n_layers, params)\n",
    "    \n",
    "    job = execute(qc, backend)\n",
    "    \n",
    "    result = job.result()\n",
    "\n",
    "    outputstate = result.get_statevector(qc, decimals=3)\n",
    "    \n",
    "    diff = outputstate - target_vector\n",
    "    \n",
    "    \n",
    "    return norm(diff)\n",
    "\n",
    "def get_probability_distribution(counts):\n",
    "    output_distr = [v / NUM_SHOTS for v in counts.values()]\n",
    "    if len(output_distr) == 1:\n",
    "        output_distr.append(0)\n",
    "    output_distr = np.asarray(output_distr)\n",
    "    \n",
    "    return output_distr\n",
    "\n",
    "def probability_difference(params):\n",
    "    # Obtain a quantum circuit instance from the paramters\n",
    "    qc = build_variational_circuit(n_layers, params)\n",
    "    # Measure all qubits\n",
    "    qc.measure_all()\n",
    "    # Execute the quantum circuit to obtain the probability distribution associated with the current parameters\n",
    "    result = execute(qc, backend, shots=NUM_SHOTS).result()\n",
    "    # Obtain the counts for each measured state, and convert those counts into a probability vector\n",
    "    output_distr = get_probability_distribution(result.get_counts(qc))\n",
    "    # Calculate the cost as the distance between the output distribution and the target distribution\n",
    "    cost = sum([np.absolute(output_distr[i] - target_distr[i]) for i in range(output_distr.shape[0])])\n",
    "    return cost"
   ]
  },
  {
   "cell_type": "code",
   "execution_count": 18,
   "metadata": {},
   "outputs": [],
   "source": [
    "n_qubits = 4\n",
    "dim = n_qubits**2\n",
    "target_vector = random_quantum_state(dim)\n",
    "target_distr = get_probabilities(target_vector)"
   ]
  },
  {
   "cell_type": "code",
   "execution_count": 19,
   "metadata": {
    "scrolled": false
   },
   "outputs": [
    {
     "name": "stdout",
     "output_type": "stream",
     "text": [
      "Number of layers: 1\n",
      "Target Vector: [0.06192857+0.31093188j 0.04481491+0.08006587j 0.07773294+0.09815953j\n",
      " 0.07894356+0.12794977j 0.24201993+0.1790527j  0.27954465+0.11334371j\n",
      " 0.1887093 +0.15529418j 0.08552779+0.22713147j 0.30519862+0.03523396j\n",
      " 0.11415968+0.1367642j  0.21051282+0.08248315j 0.18134225+0.28156426j\n",
      " 0.24991763+0.10352037j 0.21082953+0.25573832j 0.06177855+0.18236734j\n",
      " 0.14842216+0.14488802j]\n",
      "Obtained Vector: [ 0.15707774+0.00000000e+00j -0.00708823+1.83183685e-01j\n",
      " -0.03910266+1.46777765e-01j  0.16940735+5.22248678e-02j\n",
      "  0.01000222+2.62962700e-01j  0.30711784+2.01789626e-04j\n",
      "  0.24820953+5.61151272e-02j -0.07664194+2.86929135e-01j\n",
      "  0.04926697+1.74274919e-01j  0.2054622 -4.95907614e-02j\n",
      "  0.17511172-2.65271997e-03j -0.00480843+2.04334581e-01j\n",
      "  0.28861521-9.35747659e-02j  0.09610273+3.40804998e-01j\n",
      "  0.01559147+2.92984346e-01j  0.34238123-4.96163177e-03j]\n",
      "Norm difference: 0.7608416683154511\n",
      "Parameters Found: [1.724682   4.74592017 4.21787666 1.7126537  3.18026802 0.26036017\n",
      " 6.24516698 2.86608491]\n",
      "\n",
      "Number of layers: 2\n",
      "Target Vector: [0.06192857+0.31093188j 0.04481491+0.08006587j 0.07773294+0.09815953j\n",
      " 0.07894356+0.12794977j 0.24201993+0.1790527j  0.27954465+0.11334371j\n",
      " 0.1887093 +0.15529418j 0.08552779+0.22713147j 0.30519862+0.03523396j\n",
      " 0.11415968+0.1367642j  0.21051282+0.08248315j 0.18134225+0.28156426j\n",
      " 0.24991763+0.10352037j 0.21082953+0.25573832j 0.06177855+0.18236734j\n",
      " 0.14842216+0.14488802j]\n",
      "Obtained Vector: [ 0.04822995+0.01484401j -0.0297914 +0.06605451j -0.00861916+0.16408481j\n",
      "  0.20860073+0.01151503j  0.02921187+0.25115755j  0.30716942-0.04914728j\n",
      "  0.25046118+0.08698919j -0.0607294 +0.30979154j  0.00723326+0.12971026j\n",
      "  0.17357623-0.00259832j  0.25648198-0.04681407j  0.07202286+0.32592851j\n",
      "  0.31258208-0.09403511j  0.14921948+0.37763421j -0.04042508+0.19425415j\n",
      "  0.23084626-0.02030388j]\n",
      "Norm difference: 0.7140266785882703\n",
      "Parameters Found: [ 6.18423453 -0.7251013   4.00989041  2.77175143  4.68198871  3.01019505\n",
      "  0.70576533  2.82715735  4.49746539  4.19675516 -0.47469788  5.08115694\n",
      " -0.03912904  0.17046138  2.65310654  2.97157733]\n",
      "\n",
      "Number of layers: 3\n",
      "Target Vector: [0.06192857+0.31093188j 0.04481491+0.08006587j 0.07773294+0.09815953j\n",
      " 0.07894356+0.12794977j 0.24201993+0.1790527j  0.27954465+0.11334371j\n",
      " 0.1887093 +0.15529418j 0.08552779+0.22713147j 0.30519862+0.03523396j\n",
      " 0.11415968+0.1367642j  0.21051282+0.08248315j 0.18134225+0.28156426j\n",
      " 0.24991763+0.10352037j 0.21082953+0.25573832j 0.06177855+0.18236734j\n",
      " 0.14842216+0.14488802j]\n",
      "Obtained Vector: [0.09340092+0.28325696j 0.16804817+0.0674872j  0.10015398+0.16399337j\n",
      " 0.07207627+0.10827494j 0.28334272+0.19205014j 0.25246244+0.18667492j\n",
      " 0.12727137+0.10164177j 0.07673436+0.25489384j 0.23810604+0.03803636j\n",
      " 0.1404639 +0.15607776j 0.16787805+0.18316666j 0.18356325+0.26070183j\n",
      " 0.21760392+0.09468682j 0.16858409+0.21408519j 0.10707936+0.12679218j\n",
      " 0.26025913+0.14068374j]\n",
      "Norm difference: 0.27953155680367703\n",
      "Parameters Found: [ 5.71615734  5.77525351  3.43339525  3.70858331  4.81611849  4.66377323\n",
      "  5.36031832  1.21895438  1.6216846   4.49876161  4.95595413  4.91851787\n",
      "  3.03360488  4.09637919  5.28900444  2.32542671  5.20697375  2.46923158\n",
      " -0.23185788  0.45367936  1.42729081  5.45375128  5.82105274  1.75190603]\n",
      "\n",
      "Number of layers: 4\n",
      "Target Vector: [0.06192857+0.31093188j 0.04481491+0.08006587j 0.07773294+0.09815953j\n",
      " 0.07894356+0.12794977j 0.24201993+0.1790527j  0.27954465+0.11334371j\n",
      " 0.1887093 +0.15529418j 0.08552779+0.22713147j 0.30519862+0.03523396j\n",
      " 0.11415968+0.1367642j  0.21051282+0.08248315j 0.18134225+0.28156426j\n",
      " 0.24991763+0.10352037j 0.21082953+0.25573832j 0.06177855+0.18236734j\n",
      " 0.14842216+0.14488802j]\n",
      "Obtained Vector: [0.14145097+0.34132445j 0.08065905-0.00848845j 0.06786282+0.14494102j\n",
      " 0.067063  +0.16842133j 0.23486587+0.16275917j 0.21594957+0.15927932j\n",
      " 0.1355622 +0.12393079j 0.06303889+0.13470514j 0.34573812+0.03869791j\n",
      " 0.0491915 +0.0229838j  0.24407072+0.13489553j 0.19615508+0.27923047j\n",
      " 0.25653516+0.13604156j 0.20815029+0.22723472j 0.08176842+0.18589934j\n",
      " 0.19843247+0.10406163j]\n",
      "Norm difference: 0.2630365777787813\n",
      "Parameters Found: [ 2.60219786  1.65058436  4.96631814  2.8701736   1.82156118  1.6368249\n",
      "  7.2432814   5.58395154  3.7218097   3.79328176  4.13528581  5.11204987\n",
      "  0.1237683   0.2086529   2.94079997  4.14752965  2.01323255 -0.54000468\n",
      "  5.5564647   2.14977675  3.53269011  6.36487267  2.07673706  4.45769126\n",
      "  4.34883522  1.8471827   6.33267716  2.66119298  2.80734958  2.01420683\n",
      "  1.54222024  5.71740032]\n",
      "\n",
      "Number of layers: 5\n",
      "Target Vector: [0.06192857+0.31093188j 0.04481491+0.08006587j 0.07773294+0.09815953j\n",
      " 0.07894356+0.12794977j 0.24201993+0.1790527j  0.27954465+0.11334371j\n",
      " 0.1887093 +0.15529418j 0.08552779+0.22713147j 0.30519862+0.03523396j\n",
      " 0.11415968+0.1367642j  0.21051282+0.08248315j 0.18134225+0.28156426j\n",
      " 0.24991763+0.10352037j 0.21082953+0.25573832j 0.06177855+0.18236734j\n",
      " 0.14842216+0.14488802j]\n",
      "Obtained Vector: [ 0.0695536 +0.25217456j  0.18084649+0.11598206j  0.11982081+0.08070287j\n",
      "  0.03809211+0.11361151j  0.27942964+0.2576389j   0.19199179-0.00989609j\n",
      "  0.25382651+0.18834078j -0.00522384+0.17964278j  0.16907884+0.0163975j\n",
      "  0.21775603+0.17384965j  0.16716736+0.00872163j  0.1600327 +0.29305456j\n",
      "  0.20661453+0.07604476j  0.13909314+0.21082784j  0.1981917 +0.19512788j\n",
      "  0.25245698+0.19287456j]\n",
      "Norm difference: 0.39254933287771493\n",
      "Parameters Found: [2.34127512 5.89073827 5.7800021  2.3012012  5.11720848 5.22883379\n",
      " 1.36713923 5.92790471 5.20681065 0.55955032 4.80185019 2.22718314\n",
      " 6.87706481 0.71649555 5.12580558 0.14705577 4.03988373 2.91675795\n",
      " 6.20487821 3.15070919 3.14069045 5.27387843 4.87888941 0.800723\n",
      " 4.03408099 5.02180409 0.76701023 2.01010398 5.63291555 3.82108502\n",
      " 3.06231523 3.01944996 3.61394917 2.44636141 3.66860186 3.50186395\n",
      " 5.45193855 6.09910562 3.22838227 0.71316087]\n",
      "\n",
      "Number of layers: 6\n",
      "Target Vector: [0.06192857+0.31093188j 0.04481491+0.08006587j 0.07773294+0.09815953j\n",
      " 0.07894356+0.12794977j 0.24201993+0.1790527j  0.27954465+0.11334371j\n",
      " 0.1887093 +0.15529418j 0.08552779+0.22713147j 0.30519862+0.03523396j\n",
      " 0.11415968+0.1367642j  0.21051282+0.08248315j 0.18134225+0.28156426j\n",
      " 0.24991763+0.10352037j 0.21082953+0.25573832j 0.06177855+0.18236734j\n",
      " 0.14842216+0.14488802j]\n",
      "Obtained Vector: [0.14451592+0.29409973j 0.05206402+0.10076355j 0.040888  +0.06059908j\n",
      " 0.17334757+0.09339267j 0.26051805+0.1834253j  0.26125678+0.25074587j\n",
      " 0.13594402+0.09480932j 0.03804572+0.18262546j 0.28344298+0.05092996j\n",
      " 0.14658045+0.04839879j 0.17035894+0.15051198j 0.18048321+0.35530352j\n",
      " 0.20260468+0.11720423j 0.21495272+0.14270244j 0.0482313 +0.23669914j\n",
      " 0.205588  +0.03876234j]\n",
      "Norm difference: 0.3238151411323045\n",
      "Parameters Found: [2.394148   0.46142802 0.66290725 3.34964492 3.82638019 4.59693124\n",
      " 3.07504029 3.82432519 4.80501857 0.66389335 4.96023927 2.30775748\n",
      " 5.64365522 1.93399966 3.71059885 0.24997301 2.9553247  1.5965764\n",
      " 3.42557683 6.14225014 5.68527056 2.41402539 0.8910021  1.89126416\n",
      " 3.33265244 4.03503794 5.18088742 5.66765394 5.37867299 3.68894949\n",
      " 0.07209647 5.31423651 4.13947243 2.01013624 6.21494388 0.84636453\n",
      " 2.03273291 0.4871296  6.57093741 5.86248746 1.68363475 1.50128945\n",
      " 2.67472342 5.11213293 4.14968914 2.05216216 1.14661178 4.6768629 ]\n",
      "\n",
      "Number of layers: 7\n",
      "Target Vector: [0.06192857+0.31093188j 0.04481491+0.08006587j 0.07773294+0.09815953j\n",
      " 0.07894356+0.12794977j 0.24201993+0.1790527j  0.27954465+0.11334371j\n",
      " 0.1887093 +0.15529418j 0.08552779+0.22713147j 0.30519862+0.03523396j\n",
      " 0.11415968+0.1367642j  0.21051282+0.08248315j 0.18134225+0.28156426j\n",
      " 0.24991763+0.10352037j 0.21082953+0.25573832j 0.06177855+0.18236734j\n",
      " 0.14842216+0.14488802j]\n",
      "Obtained Vector: [0.08113982+0.19646947j 0.0127114 +0.0706819j  0.04205548+0.06660201j\n",
      " 0.03394536+0.06880045j 0.25479084+0.19451437j 0.29396795+0.16778808j\n",
      " 0.08956563+0.1270206j  0.07890618+0.21286451j 0.28235824+0.039943j\n",
      " 0.17141961+0.15840088j 0.10304297+0.08527818j 0.21657301+0.26451674j\n",
      " 0.20437081+0.11365081j 0.28078602+0.33125211j 0.05021693+0.22202019j\n",
      " 0.18744497+0.2092535j ]\n",
      "Norm difference: 0.27268569274374127\n",
      "Parameters Found: [ 6.08073409  6.78729484  5.68412826  0.30485435  3.65665346  1.59208788\n",
      "  1.10694181  3.36433502  3.42832587  2.77441462  4.17894349  4.52608814\n",
      "  3.72020442  2.48120968  2.77693845  0.04281104  4.61653523  2.09837894\n",
      "  5.2219541   1.44250189  5.66512097  4.5776257   1.01545327  3.38988967\n",
      "  4.29027612  0.90247303  1.804112    3.67874963  5.23284564  6.04679698\n",
      "  4.37888511  3.39434638  4.57300858  3.69048022  1.11445525  5.75593109\n",
      "  1.12884656  3.29826466  5.91783864  0.84458591  4.41103135  2.86135938\n",
      "  5.37273507  4.31912841  2.44671935 -0.07378954  3.54582086  2.36031061\n",
      "  2.41099009  6.13702981  4.30376828  3.90073355  0.15743095  4.48893569\n",
      "  2.41030478  3.52382476]\n",
      "\n"
     ]
    },
    {
     "name": "stdout",
     "output_type": "stream",
     "text": [
      "Number of layers: 8\n",
      "Target Vector: [0.06192857+0.31093188j 0.04481491+0.08006587j 0.07773294+0.09815953j\n",
      " 0.07894356+0.12794977j 0.24201993+0.1790527j  0.27954465+0.11334371j\n",
      " 0.1887093 +0.15529418j 0.08552779+0.22713147j 0.30519862+0.03523396j\n",
      " 0.11415968+0.1367642j  0.21051282+0.08248315j 0.18134225+0.28156426j\n",
      " 0.24991763+0.10352037j 0.21082953+0.25573832j 0.06177855+0.18236734j\n",
      " 0.14842216+0.14488802j]\n",
      "Obtained Vector: [0.04471581+0.19264508j 0.18698552+0.10817553j 0.12786081+0.05498186j\n",
      " 0.08018517+0.11564483j 0.22376491+0.13895436j 0.3552541 +0.10755555j\n",
      " 0.17363015+0.14623752j 0.06013696+0.21624585j 0.27204542-0.01045815j\n",
      " 0.14728302+0.17525769j 0.18416452+0.1333034j  0.17394985+0.31203686j\n",
      " 0.19531495+0.05269087j 0.23980847+0.28013862j 0.1013303 +0.17068938j\n",
      " 0.14454855+0.15145702j]\n",
      "Norm difference: 0.25958615575522415\n",
      "Parameters Found: [2.02989104 4.03531356 1.5084536  5.65650328 2.68155162 5.23703843\n",
      " 0.66813692 5.3923476  1.90816332 0.82083659 6.12235801 7.10535454\n",
      " 4.28552256 1.73609869 3.15401326 4.077563   1.72491467 3.82263094\n",
      " 1.74421029 4.17357782 4.52562453 6.21243716 3.74321538 0.29306172\n",
      " 6.33692808 5.81790249 4.04028646 5.33384369 0.88950434 5.01630166\n",
      " 5.45180192 5.5956853  6.1787249  5.69099512 1.97444875 1.13240223\n",
      " 4.3034623  4.03776217 2.75590026 3.75707978 2.99970375 0.53552367\n",
      " 5.93485681 2.39307606 1.93859359 3.69965877 4.51552693 5.99916628\n",
      " 6.06425621 5.19308082 1.63484447 1.70408246 4.59902985 3.43969976\n",
      " 0.91120202 6.01768056 0.47712049 5.24888455 0.53988715 3.61977222\n",
      " 3.89799831 3.68694702 3.44891319 2.99462942]\n",
      "\n",
      "Number of layers: 9\n",
      "Target Vector: [0.06192857+0.31093188j 0.04481491+0.08006587j 0.07773294+0.09815953j\n",
      " 0.07894356+0.12794977j 0.24201993+0.1790527j  0.27954465+0.11334371j\n",
      " 0.1887093 +0.15529418j 0.08552779+0.22713147j 0.30519862+0.03523396j\n",
      " 0.11415968+0.1367642j  0.21051282+0.08248315j 0.18134225+0.28156426j\n",
      " 0.24991763+0.10352037j 0.21082953+0.25573832j 0.06177855+0.18236734j\n",
      " 0.14842216+0.14488802j]\n",
      "Obtained Vector: [0.04783457+0.32214625j 0.02680685+0.08602532j 0.1203921 +0.10461432j\n",
      " 0.08680279+0.10188615j 0.23858523+0.16676002j 0.26641047+0.14435881j\n",
      " 0.1494542 +0.07840123j 0.09137444+0.23208059j 0.27805563+0.00885743j\n",
      " 0.15502328+0.12273494j 0.28236688+0.07273446j 0.19962414+0.31299856j\n",
      " 0.24393595+0.11256141j 0.19692298+0.21013403j 0.1193483 +0.17751615j\n",
      " 0.13692532+0.12758481j]\n",
      "Norm difference: 0.16773738129360574\n",
      "Parameters Found: [5.61207222 1.51798308 4.37534037 5.62472727 3.83190074 4.51477265\n",
      " 5.0006101  6.5866736  6.2777621  5.39741975 4.68028835 2.16638285\n",
      " 2.40946466 0.514809   2.49574917 5.43129372 5.05611746 1.15965862\n",
      " 3.84419566 3.73001471 4.97539244 4.56144178 5.67543557 3.96238805\n",
      " 3.16917346 3.24281852 2.61792625 1.50488696 2.80768256 0.31837928\n",
      " 1.2174302  6.61110039 2.84958245 1.64211138 3.87378433 5.74069362\n",
      " 0.17893939 4.20602865 1.32776655 5.16698578 3.27766247 5.58103932\n",
      " 1.72014299 5.20302635 1.65946305 1.21305703 1.31362642 1.65639835\n",
      " 4.66007795 5.28833114 5.54260449 3.79966963 5.88212301 3.43742114\n",
      " 4.48063701 1.80539008 7.07809862 2.07230101 1.20357308 5.27290546\n",
      " 4.46176047 0.51373107 5.95074493 4.33959177 1.80816008 1.96391993\n",
      " 5.05774704 4.40568839 0.74423765 0.70431656 5.45280958 4.88389496]\n",
      "\n",
      "Number of layers: 10\n",
      "Target Vector: [0.06192857+0.31093188j 0.04481491+0.08006587j 0.07773294+0.09815953j\n",
      " 0.07894356+0.12794977j 0.24201993+0.1790527j  0.27954465+0.11334371j\n",
      " 0.1887093 +0.15529418j 0.08552779+0.22713147j 0.30519862+0.03523396j\n",
      " 0.11415968+0.1367642j  0.21051282+0.08248315j 0.18134225+0.28156426j\n",
      " 0.24991763+0.10352037j 0.21082953+0.25573832j 0.06177855+0.18236734j\n",
      " 0.14842216+0.14488802j]\n",
      "Obtained Vector: [ 0.06161417+0.21585331j  0.0658171 -0.01864848j -0.04646243+0.08308567j\n",
      "  0.14943259+0.08799231j  0.22412521+0.2434923j   0.20350044+0.10430536j\n",
      "  0.08810346+0.142102j    0.05321689+0.24169431j  0.20993571-0.01976638j\n",
      "  0.08207683+0.15664559j  0.26917626+0.07873529j  0.30644802+0.43198658j\n",
      "  0.22595879+0.08782201j  0.22531429+0.21578206j -0.00786821+0.14817137j\n",
      "  0.11429802+0.16936754j]\n",
      "Norm difference: 0.3591661530639435\n",
      "Parameters Found: [ 1.57349286  5.33640756  3.73999972  0.86731422  2.87572662  3.14448473\n",
      "  3.50706128  3.67040039  0.29660036  2.54443588  7.16785299  3.51453297\n",
      " -0.15872356  1.622656    3.92623635  3.29728548  3.5488232   3.94518169\n",
      "  0.67850388  4.90118491  4.63180387  1.42551897  2.58074142  4.52288844\n",
      "  0.34696467  4.2870041   6.47617101  1.82713035  2.70811692  1.01053303\n",
      "  4.14451663  4.04359102  1.79392523  1.64260873  1.96681894  5.80990965\n",
      "  4.63419872  4.27380981  3.73867003  2.5526939   1.90687415  0.48778103\n",
      "  5.32256305  4.3419512   6.63382278  0.82297748  3.55484102  6.2761208\n",
      "  3.81632841  1.60717744  4.22484411  5.7840718   4.91418758  0.19251419\n",
      "  5.3828045   1.59144665  3.47665597  3.38661265  3.03336434  5.70106541\n",
      "  5.66092265  1.68935122  1.58644057  3.99983744  3.82863183  1.96977363\n",
      "  1.53088067  5.38699419  4.52182662  1.42027224  3.17703883  2.41341858\n",
      "  1.14493057  5.85369471  4.57875611  5.91841041  5.21611032  1.27696461\n",
      "  5.30995168  3.66844649]\n",
      "\n"
     ]
    }
   ],
   "source": [
    "# Initialize the COBYLA optimizer\n",
    "optimizer = COBYLA(maxiter=500, tol=0.0001)\n",
    "\n",
    "# Create the initial parameters (noting that our single qubit variational form has 3 parameters)\n",
    "cost_list = []\n",
    "for n_layers in range(1,11):\n",
    "    n_parameters_per_layer = 8\n",
    "    params = np.random.rand(n_layers*n_parameters_per_layer)*2*np.pi\n",
    "    ret = optimizer.optimize(num_vars=n_layers*n_parameters_per_layer, objective_function=norm_vector_difference, \n",
    "                             initial_point=params)\n",
    "\n",
    "    # Obtain the output distribution using the final parameters\n",
    "    qc = build_variational_circuit(n_layers, ret[0])\n",
    "    final_vector = execute(qc, backend).result().get_statevector(qc, decimals = 3)\n",
    "    \n",
    "    #save cost function values\n",
    "    cost_list.append(ret[1])\n",
    "    \n",
    "    print(\"Number of layers:\", n_layers)\n",
    "    print(\"Target Vector:\", target_vector)\n",
    "    print(\"Obtained Vector:\", final_vector)\n",
    "    print(\"Norm difference:\", ret[1])\n",
    "    print(\"Parameters Found:\", ret[0])\n",
    "    print('')"
   ]
  },
  {
   "cell_type": "code",
   "execution_count": 20,
   "metadata": {},
   "outputs": [
    {
     "data": {
      "image/png": "[encoded data removed]",
      "text/plain": [
       "<Figure size 432x288 with 1 Axes>"
      ]
     },
     "metadata": {
      "needs_background": "light"
     },
     "output_type": "display_data"
    }
   ],
   "source": [
    "n_layers = range(1,11)\n",
    "plt.plot(n_layers, cost_list)\n",
    "plt.xlabel(\"number of layers\")\n",
    "plt.ylabel(\"objective function\")\n",
    "plt.show()"
   ]
  },
  {
   "cell_type": "code",
   "execution_count": 21,
   "metadata": {
    "scrolled": false
   },
   "outputs": [
    {
     "name": "stdout",
     "output_type": "stream",
     "text": [
      "Number of layers: 1\n",
      "Target Distribution: [0.10051378 0.00841892 0.0156777  0.02260323 0.09063352 0.09099201\n",
      " 0.05972748 0.05890371 0.09438763 0.03173688 0.05111912 0.11216344\n",
      " 0.07317529 0.10985118 0.03707443 0.04302168]\n",
      "Obtained Distribution: [0.0866 0.0755 0.0373 0.0303 0.0902 0.0822 0.0359 0.0325 0.1005 0.0893\n",
      " 0.0418 0.0316 0.0983 0.0887 0.0439 0.0354]\n",
      "Output Error (Manhattan Distance): 0.39785183638259425\n",
      "Parameters Found: [1.51053807 7.41050271 1.55019806 4.65300058 1.28716221 6.68139861\n",
      " 1.91281404 2.17682274]\n",
      "\n",
      "Number of layers: 2\n",
      "Target Distribution: [0.10051378 0.00841892 0.0156777  0.02260323 0.09063352 0.09099201\n",
      " 0.05972748 0.05890371 0.09438763 0.03173688 0.05111912 0.11216344\n",
      " 0.07317529 0.10985118 0.03707443 0.04302168]\n",
      "Obtained Distribution: [0.0974 0.0486 0.0184 0.0293 0.0891 0.0395 0.0202 0.0713 0.0965 0.0438\n",
      " 0.0275 0.1009 0.0798 0.1193 0.0205 0.0979]\n",
      "Output Error (Manhattan Distance): 0.31402282475896043\n",
      "Parameters Found: [5.39396526 4.97144037 4.64307514 1.39442166 4.54983054 5.19112816\n",
      " 2.44252627 5.50866419 4.55175341 5.71114783 6.50667602 2.85004627\n",
      " 6.12547721 7.1616025  5.62451144 3.25370356]\n",
      "\n",
      "Number of layers: 3\n",
      "Target Distribution: [0.10051378 0.00841892 0.0156777  0.02260323 0.09063352 0.09099201\n",
      " 0.05972748 0.05890371 0.09438763 0.03173688 0.05111912 0.11216344\n",
      " 0.07317529 0.10985118 0.03707443 0.04302168]\n",
      "Obtained Distribution: [0.0838 0.0059 0.0484 0.0204 0.0933 0.0962 0.0526 0.0419 0.1068 0.031\n",
      " 0.0648 0.1118 0.0525 0.1048 0.0453 0.0405]\n",
      "Output Error (Manhattan Distance): 0.1657043016345908\n",
      "Parameters Found: [2.39390006 3.03940676 2.67081378 3.29751158 6.51999704 0.03219982\n",
      " 1.58855287 2.28764589 7.25009229 2.39145266 1.50904229 2.53374078\n",
      " 2.45874249 0.43432064 1.22442283 4.16827581 2.16217045 1.41267933\n",
      " 3.74449255 4.57058701 0.49305162 7.34876858 3.8387033  3.94955471]\n",
      "\n",
      "Number of layers: 4\n",
      "Target Distribution: [0.10051378 0.00841892 0.0156777  0.02260323 0.09063352 0.09099201\n",
      " 0.05972748 0.05890371 0.09438763 0.03173688 0.05111912 0.11216344\n",
      " 0.07317529 0.10985118 0.03707443 0.04302168]\n",
      "Obtained Distribution: [0.0953 0.0014 0.0235 0.0354 0.0909 0.084  0.0706 0.0099 0.0848 0.0341\n",
      " 0.0593 0.1153 0.0676 0.0946 0.0877 0.0456]\n",
      "Output Error (Manhattan Distance): 0.19508567578855646\n",
      "Parameters Found: [4.43822015e+00 7.09452416e+00 2.44258145e+00 2.11083254e-01\n",
      " 2.86094299e+00 5.49125755e+00 2.26090818e+00 5.22154599e+00\n",
      " 3.96061009e+00 3.54479576e+00 4.42830239e+00 2.69412408e+00\n",
      " 3.63441710e+00 3.22653825e+00 5.15588380e+00 1.20393690e+00\n",
      " 3.09544601e+00 7.34901278e-01 4.02711797e+00 4.31792487e+00\n",
      " 4.00182738e+00 2.48797637e+00 1.29423176e+00 3.95650190e+00\n",
      " 1.19954004e-01 1.36877523e+00 4.95894096e+00 1.88034599e+00\n",
      " 5.22679799e+00 4.93459831e+00 4.50970045e-03 3.71372249e+00]\n",
      "\n",
      "Number of layers: 5\n",
      "Target Distribution: [0.10051378 0.00841892 0.0156777  0.02260323 0.09063352 0.09099201\n",
      " 0.05972748 0.05890371 0.09438763 0.03173688 0.05111912 0.11216344\n",
      " 0.07317529 0.10985118 0.03707443 0.04302168]\n",
      "Obtained Distribution: [0.1121 0.003  0.0082 0.0426 0.0967 0.0479 0.0749 0.0563 0.0986 0.073\n",
      " 0.0512 0.1089 0.0555 0.111  0.0365 0.0236]\n",
      "Output Error (Manhattan Distance): 0.20200785591474496\n",
      "Parameters Found: [5.73607765 4.21132595 4.08858268 3.3205298  4.57183375 5.45173676\n",
      " 2.93397135 2.19494859 2.03701763 0.58532454 2.3637216  1.62755775\n",
      " 3.15459496 0.96239062 5.14920589 2.65698118 5.34019891 0.05586711\n",
      " 1.7572753  3.56628266 3.05115979 3.81333157 0.94232155 5.4186001\n",
      " 0.83601997 0.79769456 0.72269905 2.85146153 2.3209875  0.58322181\n",
      " 4.39288135 5.41248354 0.15538097 1.24189373 0.86040926 3.42978256\n",
      " 4.16913044 1.15102172 2.72315201 5.59371083]\n",
      "\n",
      "Number of layers: 6\n",
      "Target Distribution: [0.10051378 0.00841892 0.0156777  0.02260323 0.09063352 0.09099201\n",
      " 0.05972748 0.05890371 0.09438763 0.03173688 0.05111912 0.11216344\n",
      " 0.07317529 0.10985118 0.03707443 0.04302168]\n",
      "Obtained Distribution: [0.0952 0.0545 0.0181 0.0322 0.0908 0.0834 0.0473 0.0516 0.0931 0.023\n",
      " 0.0431 0.0988 0.0809 0.1132 0.0343 0.0405]\n",
      "Output Error (Manhattan Distance): 0.15755619677316082\n",
      "Parameters Found: [5.10054526 4.26248712 3.75474719 3.05372626 1.79595038 4.04738881\n",
      " 3.99559915 5.33635426 5.56045778 3.77378042 5.27112927 5.03980494\n",
      " 4.44273089 2.32813691 1.57947719 1.09568889 2.57486992 1.9333243\n",
      " 0.03252082 5.84242817 4.69123523 2.77953234 2.69380495 1.24770209\n",
      " 1.37264753 2.27875877 3.79971228 1.5434994  2.79599097 3.34554752\n",
      " 2.11991848 6.18675098 3.56026544 0.66489617 0.57174432 5.343592\n",
      " 2.74507497 6.12400695 1.90785568 2.63695505 5.22206632 3.43658331\n",
      " 3.04083181 2.05968906 3.46550483 6.36278288 4.70805642 3.75184597]\n",
      "\n",
      "Number of layers: 7\n",
      "Target Distribution: [0.10051378 0.00841892 0.0156777  0.02260323 0.09063352 0.09099201\n",
      " 0.05972748 0.05890371 0.09438763 0.03173688 0.05111912 0.11216344\n",
      " 0.07317529 0.10985118 0.03707443 0.04302168]\n",
      "Obtained Distribution: [0.0425 0.0103 0.006  0.0279 0.0885 0.0839 0.0768 0.0554 0.0002 0.1174\n",
      " 0.0402 0.0698 0.0694 0.1597 0.1128 0.0392]\n",
      "Output Error (Manhattan Distance): 0.2702644141934197\n",
      "Parameters Found: [ 1.83783461  0.7653296  -0.11413251  0.90242932  0.18622336  3.55234106\n",
      "  3.10633933  0.72288987  4.50401146  5.29728223  4.59476929  4.13360957\n",
      "  6.29270316  0.52382789  1.09877985  4.87646077  3.29500078  3.30581798\n",
      "  6.83176561  6.68130166  4.10568976  5.73522153  5.76469715  4.8950982\n",
      "  3.02654199  4.3307937   3.60090804  3.5412345   3.16545306  4.83119167\n",
      "  0.36234978  1.87700578  3.5254431   2.68328455  1.50248444  5.76118962\n",
      "  1.59896012  2.90618307  1.44739158  4.44375038  0.67918517  2.54486776\n",
      "  4.21315608  0.54119347  3.02995568  3.75584886  6.15097154  6.28381857\n",
      "  1.95591249  4.96859003  4.07174591  4.84190236  0.98106243  0.76832611\n",
      "  3.59825244  3.14931118]\n",
      "\n",
      "Number of layers: 8\n",
      "Target Distribution: [0.10051378 0.00841892 0.0156777  0.02260323 0.09063352 0.09099201\n",
      " 0.05972748 0.05890371 0.09438763 0.03173688 0.05111912 0.11216344\n",
      " 0.07317529 0.10985118 0.03707443 0.04302168]\n",
      "Obtained Distribution: [0.0637 0.0576 0.0083 0.0041 0.0787 0.0967 0.0582 0.0289 0.1103 0.0388\n",
      " 0.0629 0.1182 0.0741 0.1187 0.0362 0.0446]\n",
      "Output Error (Manhattan Distance): 0.1876638790581286\n",
      "Parameters Found: [6.50002511e+00 4.41045133e+00 5.44768531e+00 2.51475669e+00\n",
      " 5.90987060e+00 4.80971078e+00 2.32457384e+00 4.34711866e+00\n",
      " 4.83211523e-03 4.73039253e+00 2.15648819e+00 6.65493499e+00\n",
      " 5.51734382e+00 6.23784764e+00 4.53717090e+00 4.01229749e+00\n",
      " 5.62708443e+00 4.02579270e+00 5.79225114e+00 1.07873290e+00\n",
      " 3.22122373e+00 3.75733253e+00 5.82612410e+00 1.76275706e+00\n",
      " 3.24008672e+00 4.31172741e+00 4.54735396e+00 1.87411578e+00\n",
      " 4.09248549e-01 5.15940736e+00 3.06993759e+00 4.03437875e+00\n",
      " 3.08145614e+00 6.46119460e+00 2.45768538e+00 7.40423533e-01\n",
      " 3.46692247e+00 2.96861443e+00 4.66076700e+00 1.45493122e-01\n",
      " 3.16917196e+00 4.64758521e+00 8.17234949e-02 6.08974154e+00\n",
      " 1.80437478e+00 4.37889379e+00 1.15168890e+00 6.10116163e+00\n",
      " 1.98607611e+00 7.65287464e-01 1.56884791e+00 5.14183166e+00\n",
      " 4.92425526e+00 5.84220597e+00 1.33143032e+00 1.99758626e+00\n",
      " 4.89987405e+00 1.40560498e+00 2.78409432e+00 7.21340464e-01\n",
      " 5.36423675e+00 3.63154154e+00 4.69802896e+00 5.34922543e+00]\n",
      "\n",
      "Number of layers: 9\n",
      "Target Distribution: [0.10051378 0.00841892 0.0156777  0.02260323 0.09063352 0.09099201\n",
      " 0.05972748 0.05890371 0.09438763 0.03173688 0.05111912 0.11216344\n",
      " 0.07317529 0.10985118 0.03707443 0.04302168]\n",
      "Obtained Distribution: [0.1006 0.0113 0.0069 0.0135 0.093  0.0813 0.0511 0.0596 0.0922 0.0726\n",
      " 0.0524 0.0962 0.0775 0.1103 0.0444 0.0371]\n",
      "Output Error (Manhattan Distance): 0.10764093448250395\n",
      "Parameters Found: [3.52887876 6.16027641 0.99882455 3.48721506 4.16600378 4.74023449\n",
      " 3.71740505 2.90226074 4.09076769 5.43639992 3.77926633 2.74497183\n",
      " 0.7920488  3.53587964 0.4527284  3.88918728 4.52122099 1.9419358\n",
      " 5.95755781 7.26593728 0.99838548 4.38668046 1.58657144 0.05396536\n",
      " 2.77457791 4.39774843 3.69557336 2.56725076 4.2813764  2.33354477\n",
      " 6.0384893  5.95810513 1.36998112 0.33580335 5.83826172 4.32254845\n",
      " 4.79255838 5.3123991  2.24842352 7.06195962 5.94062987 1.14123832\n",
      " 1.05576326 2.81512206 4.91517229 0.60902449 3.95354525 5.68232924\n",
      " 2.622169   5.01316847 1.58221608 0.46777068 0.65403377 0.09109686\n",
      " 4.39665383 5.86883058 1.25034491 1.99551148 2.64763467 1.9546809\n",
      " 0.26288    2.99691581 2.27868691 1.28223455 1.04345539 3.04833338\n",
      " 5.78186439 0.76870146 5.09445898 2.18231343 6.40153211 3.00120074]\n",
      "\n"
     ]
    },
    {
     "name": "stdout",
     "output_type": "stream",
     "text": [
      "Number of layers: 10\n",
      "Target Distribution: [0.10051378 0.00841892 0.0156777  0.02260323 0.09063352 0.09099201\n",
      " 0.05972748 0.05890371 0.09438763 0.03173688 0.05111912 0.11216344\n",
      " 0.07317529 0.10985118 0.03707443 0.04302168]\n",
      "Obtained Distribution: [0.1078 0.0063 0.0143 0.0259 0.0974 0.0952 0.0583 0.0601 0.1002 0.0388\n",
      " 0.0609 0.0997 0.0706 0.1134 0.0133 0.0378]\n",
      "Output Error (Manhattan Distance): 0.0720689964256453\n",
      "Parameters Found: [ 5.7305189   6.77672289  2.65449015  2.67329335  0.10822005  4.9286061\n",
      "  5.24078943  5.10269717  0.97515573  2.87048699  4.70523357  3.23008852\n",
      "  2.75429864  1.06837021  2.64530101  3.36918074  4.02262303  3.61567499\n",
      "  1.89456553  4.33317095  2.05103154  4.27023536  2.19875062  1.55967783\n",
      "  3.40190208  6.3578257   0.83655726  3.55442678  2.38360191  4.91801731\n",
      "  0.70656934  0.36699893  4.61163682  5.05814277  1.18525408  4.3933793\n",
      "  1.03490421 -0.22064236  4.79223115  0.42944719  6.27139352  2.79949985\n",
      "  2.96642653  3.12920626  2.35186526  0.18787148  5.97582445  4.62891303\n",
      "  0.3172879   3.37777104  3.48421992  2.26190783  5.7789138   3.37671962\n",
      "  0.38252946  5.58706974  3.25725635  1.59453793  5.59860979  5.48080137\n",
      "  5.88825258  2.98203179  0.4720161   4.14650677  3.26042406  5.97182759\n",
      "  2.90525754  0.35185543  3.55984688  3.08611342  0.43122408  0.79663681\n",
      "  5.18238794  3.97242797  3.43896103  4.28833255  4.78305754  5.6084939\n",
      "  2.00046365  1.98429594]\n",
      "\n"
     ]
    }
   ],
   "source": [
    "backend = Aer.get_backend(\"qasm_simulator\")\n",
    "NUM_SHOTS = 10000\n",
    "\n",
    "# Initialize the COBYLA optimizer\n",
    "optimizer = COBYLA(maxiter=500, tol=0.0001)\n",
    "\n",
    "# Create the initial parameters (noting that our single qubit variational form has 3 parameters)\n",
    "n_parameters_per_layer = 8\n",
    "cost_list = []\n",
    "for n_layers in range(1,11):\n",
    "    params = np.random.rand(n_layers*n_parameters_per_layer)*2*np.pi\n",
    "    ret = optimizer.optimize(num_vars=n_layers*n_parameters_per_layer, objective_function=probability_difference, \n",
    "                             initial_point=params)\n",
    "\n",
    "    # Obtain the output distribution using the final parameters\n",
    "    qc = build_variational_circuit(n_layers, ret[0])\n",
    "    qc.measure_all()\n",
    "    counts = execute(qc, backend, shots=NUM_SHOTS).result().get_counts(qc)\n",
    "    output_distr = get_probability_distribution(counts)\n",
    "    \n",
    "    cost_list.append(ret[1])\n",
    "    \n",
    "    print(\"Number of layers:\", n_layers)\n",
    "    print(\"Target Distribution:\", target_distr)\n",
    "    print(\"Obtained Distribution:\", output_distr)\n",
    "    print(\"Output Error (Manhattan Distance):\", ret[1])\n",
    "    print(\"Parameters Found:\", ret[0])\n",
    "    print('')"
   ]
  },
  {
   "cell_type": "code",
   "execution_count": 22,
   "metadata": {},
   "outputs": [
    {
     "data": {
      "image/png": "[encoded data removed]",
      "text/plain": [
       "<Figure size 432x288 with 1 Axes>"
      ]
     },
     "metadata": {
      "needs_background": "light"
     },
     "output_type": "display_data"
    }
   ],
   "source": [
    "n_layers = range(1,11)\n",
    "plt.plot(n_layers, cost_list)\n",
    "plt.xlabel(\"number of layers\")\n",
    "plt.ylabel(\"objective function\")\n",
    "plt.show()"
   ]
  },
  {
   "cell_type": "markdown",
   "metadata": {},
   "source": [
    "## Optimize the variational circuit using Pennylane"
   ]
  },
  {
   "cell_type": "code",
   "execution_count": 104,
   "metadata": {},
   "outputs": [],
   "source": [
    "dev = qml.device('default.qubit', wires = 4)"
   ]
  },
  {
   "cell_type": "code",
   "execution_count": 105,
   "metadata": {},
   "outputs": [
    {
     "name": "stdout",
     "output_type": "stream",
     "text": [
      "(16, 16)\n"
     ]
    }
   ],
   "source": [
    "target_vector = target_vector.reshape((16,1))\n",
    "density_matrix = target_vector @ np.transpose(np.conjugate(target_vector))\n",
    "print(density_matrix.shape)"
   ]
  },
  {
   "cell_type": "code",
   "execution_count": 106,
   "metadata": {},
   "outputs": [],
   "source": [
    "def layer(params: np.array) -> None:\n",
    "    \n",
    "    n_parameters = 8\n",
    "    \n",
    "    if params.shape[0] != n_parameters:\n",
    "        print(f\"Alert! You gave {params.shape[0]} parameters for a layer of {n_parameters} parameters.\")\n",
    "        \n",
    "    else:\n",
    "        odd_block(params[:int(n_parameters/2)])\n",
    "        even_block(params[int(n_parameters/2):])\n",
    "\n",
    "def odd_block(params: np.array) -> None:\n",
    "    \n",
    "    n_parameters = 4\n",
    "    \n",
    "    if params.shape[0] != n_parameters:\n",
    "        print(f\"Alert! You gave {params.shape[0]} parameters for a block of {n_parameters} parameters.\")\n",
    "        \n",
    "    else:\n",
    "    \n",
    "        for i in range(n_parameters):\n",
    "            qml.RX(params[i], wires = i)\n",
    "        \n",
    "\n",
    "def even_block(params: np.array) -> None:\n",
    "    \n",
    "    n_parameters = 4\n",
    "    \n",
    "    if params.shape[0] != n_parameters:\n",
    "        print(f\"Alert! You gave {params.shape[0]} parameters for a block of {n_parameters} parameters.\")\n",
    "        \n",
    "    else:\n",
    "    \n",
    "        for i in range(n_parameters):\n",
    "            qml.RZ(params[i], wires = i)\n",
    "\n",
    "        tuples = [(i,j) for i in range(n_parameters) for j in range(n_parameters) if i < j]\n",
    "\n",
    "        for tup in tuples:\n",
    "            qml.CZ(wires=[tup[0], tup[1]])"
   ]
  },
  {
   "cell_type": "code",
   "execution_count": 107,
   "metadata": {},
   "outputs": [],
   "source": [
    "@qml.qnode(dev)\n",
    "def var_circuit(params):\n",
    "\n",
    "    #number of parameters per layer\n",
    "    n_parameters_per_layer = 8\n",
    "    for i in range(number_layers):\n",
    "        start = i*n_parameters_per_layer\n",
    "        end = (i+1)*n_parameters_per_layer \n",
    "        layer(params[start:end])\n",
    "\n",
    "    return qml.expval(qml.Hermitian(density_matrix, wires=[0,1,2,3]))"
   ]
  },
  {
   "cell_type": "code",
   "execution_count": 108,
   "metadata": {},
   "outputs": [],
   "source": [
    "def cost(x):\n",
    "    \n",
    "    return (1.0 - var_circuit(x))"
   ]
  },
  {
   "cell_type": "code",
   "execution_count": 109,
   "metadata": {},
   "outputs": [
    {
     "data": {
      "text/plain": [
       "0.8785690924786405"
      ]
     },
     "execution_count": 109,
     "metadata": {},
     "output_type": "execute_result"
    }
   ],
   "source": [
    "n_parameters_per_layer = 8\n",
    "number_layers = 1\n",
    "params = np.random.rand(number_layers*n_parameters_per_layer)*2*np.pi\n",
    "\n",
    "cost(params)"
   ]
  },
  {
   "cell_type": "code",
   "execution_count": 110,
   "metadata": {},
   "outputs": [],
   "source": [
    "init_params = np.random.rand(number_layers*n_parameters_per_layer)*2*np.pi"
   ]
  },
  {
   "cell_type": "code",
   "execution_count": 111,
   "metadata": {},
   "outputs": [],
   "source": [
    "opt = qml.GradientDescentOptimizer(stepsize = 0.4)\n",
    "\n",
    "steps = 100\n",
    "\n",
    "params = init_params"
   ]
  },
  {
   "cell_type": "code",
   "execution_count": 112,
   "metadata": {},
   "outputs": [
    {
     "name": "stdout",
     "output_type": "stream",
     "text": [
      "0.4950981822579128\n",
      "0.11540618198706631\n",
      "0.059856900892810705\n",
      "0.0421415018030622\n"
     ]
    }
   ],
   "source": [
    "for number_layers in range(1,):\n",
    "    init_params = np.random.rand(number_layers*n_parameters_per_layer)*2*np.pi\n",
    "    opt = qml.GradientDescentOptimizer(stepsize = 0.4)\n",
    "\n",
    "    steps = 100\n",
    "\n",
    "    params = init_params\n",
    "    for i in range(steps):\n",
    "\n",
    "        params = opt.step(cost, params)\n",
    "\n",
    "    print(cost(params))"
   ]
  },
  {
   "cell_type": "code",
   "execution_count": null,
   "metadata": {},
   "outputs": [],
   "source": []
  }
 ],
 "metadata": {
  "kernelspec": {
   "display_name": "Python 3",
   "language": "python",
   "name": "python3"
  },
  "language_info": {
   "codemirror_mode": {
    "name": "ipython",
    "version": 3
   },
   "file_extension": ".py",
   "mimetype": "text/x-python",
   "name": "python",
   "nbconvert_exporter": "python",
   "pygments_lexer": "ipython3",
   "version": "3.6.8"
  }
 },
 "nbformat": 4,
 "nbformat_minor": 4
}
